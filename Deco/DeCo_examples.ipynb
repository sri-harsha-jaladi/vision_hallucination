{
 "cells": [
  {
   "cell_type": "markdown",
   "metadata": {},
   "source": [
    "# Example with **DeCo**\n",
    "\n",
    ">Tutorial author:Chenxi Wang（<sunnywcx@zju.deu.cn>）\n",
    "\n",
    "In this tutorial, we use `LLaVA-1.5-7b` generate an image caption `DeCo`, we hope this tutorial could help you understand how to use the method DeCo on MLLMs, using the DeCo method with the LLaVA-1.5-7b as an example."
   ]
  },
  {
   "cell_type": "markdown",
   "metadata": {},
   "source": [
    "Model Hyparameters Config"
   ]
  },
  {
   "cell_type": "code",
   "execution_count": 1,
   "metadata": {},
   "outputs": [],
   "source": [
    "device = \"cuda\"\n",
    "conv_mode = \"llava_v1\"\n",
    "model_path = \"llava-v1.5-7b\"\n",
    "image_file = \"\"\n",
    "qs = \"Please describe this image in detail.\"\n",
    "temperature = -1\n",
    "top_p = None\n",
    "num_beams = 1\n",
    "max_new_tokens = 512\n",
    "\n",
    "# deco hyparams\n",
    "use_deco = True\n",
    "alpha = 0.5\n",
    "threshold_top_p = 0.9\n",
    "threshold_top_k = 20\n",
    "early_exit_layers=[i for i in range(20, 29, 1)]"
   ]
  },
  {
   "cell_type": "code",
   "execution_count": null,
   "metadata": {},
   "outputs": [],
   "source": [
    "import argparse\n",
    "import torch\n",
    "import os\n",
    "import json\n",
    "from tqdm import tqdm\n",
    "import shortuuid\n",
    "import sys\n",
    "import os\n",
    "from llava.constants import (\n",
    "    IMAGE_TOKEN_INDEX,\n",
    "    DEFAULT_IMAGE_TOKEN,\n",
    "    DEFAULT_IM_START_TOKEN,\n",
    "    DEFAULT_IM_END_TOKEN,\n",
    ")\n",
    "from llava.conversation import conv_templates, SeparatorStyle\n",
    "from llava.model.builder import load_pretrained_model\n",
    "from llava.mm_utils import tokenizer_image_token, get_model_name_from_path, KeywordsStoppingCriteria\n",
    "from PIL import Image\n",
    "import requests\n",
    "from io import BytesIO"
   ]
  },
  {
   "cell_type": "code",
   "execution_count": 3,
   "metadata": {},
   "outputs": [],
   "source": [
    "def load_image(image_file):\n",
    "    if image_file.startswith(\"http\") or image_file.startswith(\"https\"):\n",
    "        response = requests.get(image_file)\n",
    "        image = Image.open(BytesIO(response.content)).convert(\"RGB\")\n",
    "    else:\n",
    "        image = Image.open(image_file).convert(\"RGB\")\n",
    "    return image\n",
    "\n",
    "def load_images(image_files):\n",
    "    out = []\n",
    "    for image_file in image_files:\n",
    "        image = load_image(image_file)\n",
    "        out.append(image)\n",
    "    return out"
   ]
  },
  {
   "cell_type": "markdown",
   "metadata": {},
   "source": [
    "load model"
   ]
  },
  {
   "cell_type": "code",
   "execution_count": 4,
   "metadata": {},
   "outputs": [
    {
     "name": "stderr",
     "output_type": "stream",
     "text": [
      "Loading checkpoint shards:   0%|          | 0/2 [00:00<?, ?it/s]/mnt/8t/wcx/code/Deco-ours/transformers/modeling_utils.py:460: FutureWarning: You are using `torch.load` with `weights_only=False` (the current default value), which uses the default pickle module implicitly. It is possible to construct malicious pickle data which will execute arbitrary code during unpickling (See https://github.com/pytorch/pytorch/blob/main/SECURITY.md#untrusted-models for more details). In a future release, the default value for `weights_only` will be flipped to `True`. This limits the functions that could be executed during unpickling. Arbitrary objects will no longer be allowed to be loaded via this mode unless they are explicitly allowlisted by the user via `torch.serialization.add_safe_globals`. We recommend you start setting `weights_only=True` for any use case where you don't have full control of the loaded file. Please open an issue on GitHub for any issues related to this experimental feature.\n",
      "  return torch.load(checkpoint_file, map_location=\"cpu\")\n",
      "Loading checkpoint shards: 100%|██████████| 2/2 [00:09<00:00,  4.64s/it]\n"
     ]
    }
   ],
   "source": [
    "model_name = get_model_name_from_path(model_path)\n",
    "tokenizer, model, image_processor, context_len = load_pretrained_model(model_path=model_path, \n",
    "                                                                       model_base=None, \n",
    "                                                                       model_name=model_name, \n",
    "                                                                       device=device,\n",
    "                                                                       device_map=device)"
   ]
  },
  {
   "cell_type": "code",
   "execution_count": null,
   "metadata": {},
   "outputs": [],
   "source": [
    "if model.config.mm_use_im_start_end:\n",
    "    qs = DEFAULT_IM_START_TOKEN + DEFAULT_IMAGE_TOKEN + DEFAULT_IM_END_TOKEN + '\\n' + qs\n",
    "else:\n",
    "    qs = DEFAULT_IMAGE_TOKEN + '\\n' + qs\n",
    "\n",
    "conv = conv_templates[conv_mode].copy()\n",
    "conv.append_message(conv.roles[0], qs)\n",
    "conv.append_message(conv.roles[1], None)\n",
    "prompt = conv.get_prompt()\n",
    "\n",
    "input_ids = tokenizer_image_token(prompt, tokenizer, IMAGE_TOKEN_INDEX, return_tensors='pt').unsqueeze(0).to(device)\n",
    "\n",
    "image = Image.open(image_file)\n",
    "image_tensor = image_processor.preprocess(image, return_tensors='pt')['pixel_values'][0]\n",
    "                \n",
    "stop_str = conv.sep if conv.sep_style != SeparatorStyle.TWO else conv.sep2\n",
    "keywords = [stop_str]\n",
    "stopping_criteria = KeywordsStoppingCriteria(keywords, tokenizer, input_ids)\n",
    "\n",
    "with torch.inference_mode():\n",
    "    with torch.no_grad():\n",
    "        output_dict = model.generate(\n",
    "            input_ids,\n",
    "            images=image_tensor.unsqueeze(0).half().to(device),\n",
    "            do_sample=True if temperature > 0 else False,\n",
    "            temperature=temperature,\n",
    "            top_p=top_p,\n",
    "            num_beams=num_beams,\n",
    "            max_new_tokens=max_new_tokens,\n",
    "            use_deco=use_deco,\n",
    "            alpha=alpha,\n",
    "            threshold_top_p=threshold_top_p,\n",
    "            threshold_top_k=threshold_top_k,\n",
    "            early_exit_layers=early_exit_layers,\n",
    "            return_dict=True,\n",
    "            return_dict_in_generate=True,\n",
    "            output_hidden_states=True,\n",
    "            stopping_criteria=[stopping_criteria]\n",
    "        )\n",
    "\n",
    "output_ids = output_dict.sequences\n",
    "input_token_len = input_ids.shape[1]\n",
    "outputs = tokenizer.batch_decode(\n",
    "        output_ids[:, input_token_len:], skip_special_tokens=True\n",
    "    )[0]\n",
    "outputs = outputs.strip()"
   ]
  }
 ],
 "metadata": {
  "kernelspec": {
   "display_name": "dola_mllm",
   "language": "python",
   "name": "python3"
  },
  "language_info": {
   "codemirror_mode": {
    "name": "ipython",
    "version": 3
   },
   "file_extension": ".py",
   "mimetype": "text/x-python",
   "name": "python",
   "nbconvert_exporter": "python",
   "pygments_lexer": "ipython3",
   "version": "3.9.19"
  }
 },
 "nbformat": 4,
 "nbformat_minor": 2
}
