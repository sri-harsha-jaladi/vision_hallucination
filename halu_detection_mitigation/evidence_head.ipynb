{
 "cells": [
  {
   "cell_type": "code",
   "execution_count": null,
   "id": "49d3e885",
   "metadata": {},
   "outputs": [],
   "source": [
    "import numpy as np\n",
    "import pandas as pd"
   ]
  },
  {
   "cell_type": "code",
   "execution_count": null,
   "id": "4b549f86",
   "metadata": {},
   "outputs": [],
   "source": [
    "data = pd.read_json(\"/Data2/Arun-UAV/NLP/vision_halu/visual_genome/annotations/question_answers.json\")"
   ]
  },
  {
   "cell_type": "code",
   "execution_count": null,
   "id": "212c88d9",
   "metadata": {},
   "outputs": [],
   "source": [
    "data.head(2)"
   ]
  },
  {
   "cell_type": "code",
   "execution_count": 1,
   "id": "15cb7626",
   "metadata": {},
   "outputs": [
    {
     "name": "stdout",
     "output_type": "stream",
     "text": [
      "neg_images.tgz => https://ndownloader.figshare.com/files/47091283\n",
      "test_expression_pos.json => https://ndownloader.figshare.com/files/47091958\n",
      "test_expression_pos_coco_format.json => https://ndownloader.figshare.com/files/47091964\n",
      "expression_all_val_set.json => https://ndownloader.figshare.com/files/47091976\n",
      "expression_all_train_set.json => https://ndownloader.figshare.com/files/47092528\n",
      "expression_all_train_set_coco_format.json => https://ndownloader.figshare.com/files/47092531\n",
      "expression_all_val_set_coco_format.json => https://ndownloader.figshare.com/files/47092525\n",
      "test_expression_all.json => https://ndownloader.figshare.com/files/47136715\n",
      "test_expression_all_coco_format.json => https://ndownloader.figshare.com/files/47136718\n",
      "expression_pos_val_set.json => https://ndownloader.figshare.com/files/47682898\n"
     ]
    }
   ],
   "source": [
    "import requests\n",
    "article_id = 26048050  # FineCops-Ref article id\n",
    "article = requests.get(f\"https://api.figshare.com/v2/articles/{article_id}\").json()\n",
    "\n",
    "for f in article['files']:\n",
    "    print(f[\"name\"], \"=>\", f[\"download_url\"])"
   ]
  },
  {
   "cell_type": "code",
   "execution_count": 7,
   "id": "3c6e02c7",
   "metadata": {},
   "outputs": [
    {
     "name": "stderr",
     "output_type": "stream",
     "text": [
      "/Data2/Arun-UAV/NLP/vision_halu/evidence_head_train_datasets/finecops_ref/expression_all_train_set_coco_format.json: 100%|██████████| 120M/120M [00:25<00:00, 4.99MB/s] \n"
     ]
    }
   ],
   "source": [
    "import requests\n",
    "from tqdm import tqdm\n",
    "\n",
    "def download_file(url, filename):\n",
    "    with requests.get(url, stream=True) as r:\n",
    "        r.raise_for_status()\n",
    "        total = int(r.headers.get('content-length', 0))\n",
    "        with open(filename, 'wb') as f, tqdm(\n",
    "            desc=filename,\n",
    "            total=total,\n",
    "            unit='B',\n",
    "            unit_scale=True,\n",
    "            unit_divisor=1024,\n",
    "        ) as bar:\n",
    "            for chunk in r.iter_content(chunk_size=8192):\n",
    "                size = f.write(chunk)\n",
    "                bar.update(size)\n",
    "\n",
    "# Example usage:\n",
    "files = [\n",
    "    (\"/Data2/Arun-UAV/NLP/vision_halu/evidence_head_train_datasets/finecops_ref/expression_all_train_set_coco_format.json\", \"https://ndownloader.figshare.com/files/47092531\"),\n",
    "]\n",
    "\n",
    "for name, url in files:\n",
    "    download_file(url, name)"
   ]
  },
  {
   "cell_type": "code",
   "execution_count": null,
   "id": "b4ba73b3",
   "metadata": {},
   "outputs": [],
   "source": [
    "import os\n",
    "import tarfile\n",
    "from pathlib import Path\n",
    "\n",
    "file_path = Path(\"/Data2/Arun-UAV/NLP/vision_halu/evidence_head_train_datasets/finecops_ref/neg_images/neg_images.tgz\")\n",
    "extract_dir = Path(\"/Data2/Arun-UAV/NLP/vision_halu/evidence_head_train_datasets/finecops_ref/neg_images/neg_images_extracted\")\n",
    "\n",
    "if not file_path.exists():\n",
    "    raise FileNotFoundError(f\"{file_path} not found!\")\n",
    "\n",
    "if not extract_dir.exists():\n",
    "    extract_dir.mkdir(parents=True, exist_ok=True)\n",
    "\n",
    "print(f\"📦 Extracting {file_path} to {extract_dir}...\")\n",
    "\n",
    "with tarfile.open(file_path, \"r:gz\") as tar:\n",
    "    members = tar.getmembers()\n",
    "    for member in members:\n",
    "        tar.extract(member, path=extract_dir)\n",
    "        print(f\"   → Extracted: {member.name}\")\n",
    "\n",
    "print(f\"\\n✅ Done! Files are in: {extract_dir.resolve()}\")"
   ]
  },
  {
   "cell_type": "code",
   "execution_count": null,
   "id": "10a06c8e",
   "metadata": {},
   "outputs": [],
   "source": [
    "file = \"/Data2/Arun-UAV/NLP/vision_halu/evidence_head_train_datasets/finecops_ref/neg_images/neg_images_extracted/final_neg_images/\""
   ]
  },
  {
   "cell_type": "code",
   "execution_count": null,
   "id": "054c74de",
   "metadata": {},
   "outputs": [],
   "source": [
    "len(os.listdir(file))"
   ]
  },
  {
   "cell_type": "code",
   "execution_count": 30,
   "id": "e0d63ace",
   "metadata": {},
   "outputs": [],
   "source": [
    "import pandas as pd\n",
    "df = pd.read_json(\"/Data2/Arun-UAV/NLP/vision_halu/evidence_head_train_datasets/finecops_ref/expression_all_train_set.json\")"
   ]
  },
  {
   "cell_type": "code",
   "execution_count": 32,
   "id": "20369464",
   "metadata": {},
   "outputs": [],
   "source": [
    "df_t  = df.T"
   ]
  },
  {
   "cell_type": "code",
   "execution_count": 35,
   "id": "54ddf448",
   "metadata": {},
   "outputs": [
    {
     "data": {
      "text/plain": [
       "tuple_type\n",
       "2_hop                43415\n",
       "1_hop                34287\n",
       "0_hop                33569\n",
       "and                  33014\n",
       "same_attr            13804\n",
       "same_attr_two_hop     5703\n",
       "Name: count, dtype: int64"
      ]
     },
     "execution_count": 35,
     "metadata": {},
     "output_type": "execute_result"
    }
   ],
   "source": [
    "df_t[\"tuple_type\"].value_counts()"
   ]
  },
  {
   "cell_type": "code",
   "execution_count": 46,
   "id": "5b4d40eb",
   "metadata": {},
   "outputs": [
    {
     "data": {
      "text/plain": [
       "'The car that is to the right of the leafy and small tree that is in front of the apartment.'"
      ]
     },
     "execution_count": 46,
     "metadata": {},
     "output_type": "execute_result"
    }
   ],
   "source": [
    "df_t.iloc[100][\"expression\"]"
   ]
  },
  {
   "cell_type": "code",
   "execution_count": 50,
   "id": "d3158d7a",
   "metadata": {},
   "outputs": [],
   "source": [
    "data = pd.read_json(\"/Data2/Arun-UAV/NLP/vision_halu/trainS.json\")"
   ]
  },
  {
   "cell_type": "code",
   "execution_count": 52,
   "id": "4c21ce39",
   "metadata": {},
   "outputs": [
    {
     "data": {
      "text/html": [
       "<div>\n",
       "<style scoped>\n",
       "    .dataframe tbody tr th:only-of-type {\n",
       "        vertical-align: middle;\n",
       "    }\n",
       "\n",
       "    .dataframe tbody tr th {\n",
       "        vertical-align: top;\n",
       "    }\n",
       "\n",
       "    .dataframe thead th {\n",
       "        text-align: right;\n",
       "    }\n",
       "</style>\n",
       "<table border=\"1\" class=\"dataframe\">\n",
       "  <thead>\n",
       "    <tr style=\"text-align: right;\">\n",
       "      <th></th>\n",
       "      <th>image</th>\n",
       "      <th>bbox</th>\n",
       "      <th>ref</th>\n",
       "      <th>id</th>\n",
       "    </tr>\n",
       "  </thead>\n",
       "  <tbody>\n",
       "    <tr>\n",
       "      <th>0</th>\n",
       "      <td>17387.jpg</td>\n",
       "      <td>[2103, 1112, 33, 27]</td>\n",
       "      <td>The white car is positioned between a red vehi...</td>\n",
       "      <td>1</td>\n",
       "    </tr>\n",
       "    <tr>\n",
       "      <th>1</th>\n",
       "      <td>17387.jpg</td>\n",
       "      <td>[1814, 1128, 44, 29]</td>\n",
       "      <td>The silver car is parked on the street, positi...</td>\n",
       "      <td>2</td>\n",
       "    </tr>\n",
       "  </tbody>\n",
       "</table>\n",
       "</div>"
      ],
      "text/plain": [
       "       image                  bbox  \\\n",
       "0  17387.jpg  [2103, 1112, 33, 27]   \n",
       "1  17387.jpg  [1814, 1128, 44, 29]   \n",
       "\n",
       "                                                 ref  id  \n",
       "0  The white car is positioned between a red vehi...   1  \n",
       "1  The silver car is parked on the street, positi...   2  "
      ]
     },
     "execution_count": 52,
     "metadata": {},
     "output_type": "execute_result"
    }
   ],
   "source": [
    "data.head(2)"
   ]
  },
  {
   "cell_type": "code",
   "execution_count": 53,
   "id": "4b48fddc",
   "metadata": {},
   "outputs": [
    {
     "data": {
      "text/plain": [
       "1446"
      ]
     },
     "execution_count": 53,
     "metadata": {},
     "output_type": "execute_result"
    }
   ],
   "source": [
    "data[\"image\"].nunique()"
   ]
  },
  {
   "cell_type": "code",
   "execution_count": 55,
   "id": "931e2889",
   "metadata": {},
   "outputs": [],
   "source": [
    "import os\n",
    "lis = os.listdir(\"/Data2/Arun-UAV/NLP/vision_halu/evidence_head_train_datasets/flicker/Annotations\")"
   ]
  },
  {
   "cell_type": "code",
   "execution_count": null,
   "id": "93fdbea5",
   "metadata": {},
   "outputs": [],
   "source": []
  },
  {
   "cell_type": "code",
   "execution_count": null,
   "id": "0b58b16a",
   "metadata": {},
   "outputs": [],
   "source": []
  }
 ],
 "metadata": {
  "kernelspec": {
   "display_name": "shdm",
   "language": "python",
   "name": "python3"
  },
  "language_info": {
   "codemirror_mode": {
    "name": "ipython",
    "version": 3
   },
   "file_extension": ".py",
   "mimetype": "text/x-python",
   "name": "python",
   "nbconvert_exporter": "python",
   "pygments_lexer": "ipython3",
   "version": "3.10.18"
  }
 },
 "nbformat": 4,
 "nbformat_minor": 5
}
