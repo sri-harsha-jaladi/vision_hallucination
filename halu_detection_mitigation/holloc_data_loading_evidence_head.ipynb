{
 "cells": [
  {
   "cell_type": "code",
   "execution_count": 229,
   "id": "c622e359",
   "metadata": {},
   "outputs": [],
   "source": [
    "import numpy as np\n",
    "import pandas as pd"
   ]
  },
  {
   "cell_type": "code",
   "execution_count": 230,
   "id": "e142588c",
   "metadata": {},
   "outputs": [],
   "source": [
    "vg_qa = pd.read_json(\"/Data2/Arun-UAV/NLP/vision_halu/visual_genome/annotations/question_answers.json\")"
   ]
  },
  {
   "cell_type": "code",
   "execution_count": null,
   "id": "0afc3fb1",
   "metadata": {},
   "outputs": [],
   "source": [
    "vg_obj = pd.read_json(\"/Data2/Arun-UAV/NLP/vision_halu/visual_genome/annotations/objects.json\")"
   ]
  },
  {
   "cell_type": "code",
   "execution_count": null,
   "id": "cc2a45c9",
   "metadata": {},
   "outputs": [],
   "source": [
    "vg_obj[\"image_id\"] = vg_obj[\"image_id\"].apply(lambda x: str(int(x)))"
   ]
  },
  {
   "cell_type": "code",
   "execution_count": null,
   "id": "5f8dda0a",
   "metadata": {},
   "outputs": [
    {
     "data": {
      "text/plain": [
       "[{'synsets': ['tree.n.01'],\n",
       "  'h': 557,\n",
       "  'object_id': 1058549,\n",
       "  'merged_object_ids': [],\n",
       "  'names': ['trees'],\n",
       "  'w': 799,\n",
       "  'y': 0,\n",
       "  'x': 0},\n",
       " {'synsets': ['sidewalk.n.01'],\n",
       "  'h': 290,\n",
       "  'object_id': 1058534,\n",
       "  'merged_object_ids': [5046],\n",
       "  'names': ['sidewalk'],\n",
       "  'w': 722,\n",
       "  'y': 308,\n",
       "  'x': 78},\n",
       " {'synsets': ['building.n.01'],\n",
       "  'h': 538,\n",
       "  'object_id': 1058508,\n",
       "  'merged_object_ids': [],\n",
       "  'names': ['building'],\n",
       "  'w': 222,\n",
       "  'y': 0,\n",
       "  'x': 1},\n",
       " {'synsets': ['street.n.01'],\n",
       "  'h': 258,\n",
       "  'object_id': 1058539,\n",
       "  'merged_object_ids': [3798578],\n",
       "  'names': ['street'],\n",
       "  'w': 359,\n",
       "  'y': 283,\n",
       "  'x': 439},\n",
       " {'synsets': ['wall.n.01'],\n",
       "  'h': 535,\n",
       "  'object_id': 1058543,\n",
       "  'merged_object_ids': [],\n",
       "  'names': ['wall'],\n",
       "  'w': 135,\n",
       "  'y': 1,\n",
       "  'x': 0},\n",
       " {'synsets': ['tree.n.01'],\n",
       "  'h': 360,\n",
       "  'object_id': 1058545,\n",
       "  'merged_object_ids': [],\n",
       "  'names': ['tree'],\n",
       "  'w': 476,\n",
       "  'y': 0,\n",
       "  'x': 178},\n",
       " {'synsets': ['shade.n.01'],\n",
       "  'h': 189,\n",
       "  'object_id': 5045,\n",
       "  'merged_object_ids': [],\n",
       "  'names': ['shade'],\n",
       "  'w': 274,\n",
       "  'y': 344,\n",
       "  'x': 116},\n",
       " {'synsets': ['van.n.05'],\n",
       "  'h': 176,\n",
       "  'object_id': 1058542,\n",
       "  'merged_object_ids': [1058536],\n",
       "  'names': ['van'],\n",
       "  'w': 241,\n",
       "  'y': 278,\n",
       "  'x': 533},\n",
       " {'synsets': ['trunk.n.01'],\n",
       "  'h': 348,\n",
       "  'object_id': 5055,\n",
       "  'merged_object_ids': [],\n",
       "  'names': ['tree trunk'],\n",
       "  'w': 78,\n",
       "  'y': 213,\n",
       "  'x': 623},\n",
       " {'synsets': ['clock.n.01'],\n",
       "  'h': 363,\n",
       "  'object_id': 1058498,\n",
       "  'merged_object_ids': [],\n",
       "  'names': ['clock'],\n",
       "  'w': 77,\n",
       "  'y': 63,\n",
       "  'x': 422},\n",
       " {'synsets': ['window.n.01'],\n",
       "  'h': 147,\n",
       "  'object_id': 3798579,\n",
       "  'merged_object_ids': [],\n",
       "  'names': ['windows'],\n",
       "  'w': 198,\n",
       "  'y': 1,\n",
       "  'x': 602},\n",
       " {'synsets': ['man.n.01'],\n",
       "  'h': 248,\n",
       "  'object_id': 3798576,\n",
       "  'merged_object_ids': [1058540],\n",
       "  'names': ['man'],\n",
       "  'w': 82,\n",
       "  'y': 264,\n",
       "  'x': 367},\n",
       " {'synsets': ['man.n.01'],\n",
       "  'h': 259,\n",
       "  'object_id': 3798577,\n",
       "  'merged_object_ids': [],\n",
       "  'names': ['man'],\n",
       "  'w': 57,\n",
       "  'y': 254,\n",
       "  'x': 238},\n",
       " {'synsets': [],\n",
       "  'h': 430,\n",
       "  'object_id': 1058548,\n",
       "  'merged_object_ids': [],\n",
       "  'names': ['lamp post'],\n",
       "  'w': 43,\n",
       "  'y': 63,\n",
       "  'x': 537},\n",
       " {'synsets': ['sign.n.02'],\n",
       "  'h': 179,\n",
       "  'object_id': 1058507,\n",
       "  'merged_object_ids': [],\n",
       "  'names': ['sign'],\n",
       "  'w': 78,\n",
       "  'y': 13,\n",
       "  'x': 123},\n",
       " {'synsets': ['car.n.01'],\n",
       "  'h': 164,\n",
       "  'object_id': 1058515,\n",
       "  'merged_object_ids': [],\n",
       "  'names': ['car'],\n",
       "  'w': 80,\n",
       "  'y': 342,\n",
       "  'x': 719},\n",
       " {'synsets': ['back.n.01'],\n",
       "  'h': 164,\n",
       "  'object_id': 5060,\n",
       "  'merged_object_ids': [],\n",
       "  'names': ['back'],\n",
       "  'w': 70,\n",
       "  'y': 345,\n",
       "  'x': 716},\n",
       " {'synsets': ['jacket.n.01'],\n",
       "  'h': 98,\n",
       "  'object_id': 1058530,\n",
       "  'merged_object_ids': [],\n",
       "  'names': ['jacket'],\n",
       "  'w': 82,\n",
       "  'y': 296,\n",
       "  'x': 367},\n",
       " {'synsets': ['car.n.01'],\n",
       "  'h': 95,\n",
       "  'object_id': 5049,\n",
       "  'merged_object_ids': [],\n",
       "  'names': ['car'],\n",
       "  'w': 78,\n",
       "  'y': 319,\n",
       "  'x': 478},\n",
       " {'synsets': ['trouser.n.01'],\n",
       "  'h': 128,\n",
       "  'object_id': 1058531,\n",
       "  'merged_object_ids': [],\n",
       "  'names': ['pants'],\n",
       "  'w': 48,\n",
       "  'y': 369,\n",
       "  'x': 388},\n",
       " {'synsets': ['shirt.n.01'],\n",
       "  'h': 103,\n",
       "  'object_id': 1058511,\n",
       "  'merged_object_ids': [],\n",
       "  'names': ['shirt'],\n",
       "  'w': 54,\n",
       "  'y': 287,\n",
       "  'x': 241},\n",
       " {'synsets': ['parking_meter.n.01'],\n",
       "  'h': 143,\n",
       "  'object_id': 1058519,\n",
       "  'merged_object_ids': [],\n",
       "  'names': ['parking meter'],\n",
       "  'w': 26,\n",
       "  'y': 325,\n",
       "  'x': 577},\n",
       " {'synsets': ['trouser.n.01'],\n",
       "  'h': 118,\n",
       "  'object_id': 1058528,\n",
       "  'merged_object_ids': [],\n",
       "  'names': ['pants'],\n",
       "  'w': 44,\n",
       "  'y': 384,\n",
       "  'x': 245},\n",
       " {'synsets': ['shirt.n.01'],\n",
       "  'h': 102,\n",
       "  'object_id': 1058547,\n",
       "  'merged_object_ids': [],\n",
       "  'names': ['shirt'],\n",
       "  'w': 82,\n",
       "  'y': 295,\n",
       "  'x': 368},\n",
       " {'synsets': ['shoe.n.01'],\n",
       "  'h': 28,\n",
       "  'object_id': 1058525,\n",
       "  'merged_object_ids': [5048],\n",
       "  'names': ['shoes'],\n",
       "  'w': 48,\n",
       "  'y': 485,\n",
       "  'x': 388},\n",
       " {'synsets': ['arm.n.01'],\n",
       "  'h': 41,\n",
       "  'object_id': 1058546,\n",
       "  'merged_object_ids': [],\n",
       "  'names': ['arm'],\n",
       "  'w': 30,\n",
       "  'y': 285,\n",
       "  'x': 370},\n",
       " {'synsets': ['bicycle.n.01'],\n",
       "  'h': 36,\n",
       "  'object_id': 1058535,\n",
       "  'merged_object_ids': [],\n",
       "  'names': ['bike'],\n",
       "  'w': 27,\n",
       "  'y': 319,\n",
       "  'x': 337},\n",
       " {'synsets': ['bicycle.n.01'],\n",
       "  'h': 41,\n",
       "  'object_id': 5051,\n",
       "  'merged_object_ids': [],\n",
       "  'names': ['bike'],\n",
       "  'w': 27,\n",
       "  'y': 311,\n",
       "  'x': 321},\n",
       " {'synsets': ['headlight.n.01'],\n",
       "  'h': 9,\n",
       "  'object_id': 5050,\n",
       "  'merged_object_ids': [],\n",
       "  'names': ['headlight'],\n",
       "  'w': 18,\n",
       "  'y': 370,\n",
       "  'x': 517},\n",
       " {'synsets': ['spectacles.n.01'],\n",
       "  'h': 23,\n",
       "  'object_id': 1058518,\n",
       "  'merged_object_ids': [],\n",
       "  'names': ['glasses'],\n",
       "  'w': 43,\n",
       "  'y': 317,\n",
       "  'x': 448},\n",
       " {'synsets': ['chin.n.01'],\n",
       "  'h': 8,\n",
       "  'object_id': 1058541,\n",
       "  'merged_object_ids': [],\n",
       "  'names': ['chin'],\n",
       "  'w': 9,\n",
       "  'y': 288,\n",
       "  'x': 401}]"
      ]
     },
     "execution_count": 67,
     "metadata": {},
     "output_type": "execute_result"
    }
   ],
   "source": [
    "vg_obj[\"objects\"].iloc[0]"
   ]
  },
  {
   "cell_type": "markdown",
   "id": "8b750a54",
   "metadata": {},
   "source": [
    "# Holoc object dataset collection"
   ]
  },
  {
   "cell_type": "code",
   "execution_count": 255,
   "id": "f675da99",
   "metadata": {},
   "outputs": [],
   "source": [
    "\n",
    "df_1 = pd.read_csv(\"/Data2/Arun-UAV/NLP/vision_halu/haloc/haloc_extension/vqa/tn_data.csv\")\n",
    "df_2 = pd.read_csv(\"/Data2/Arun-UAV/NLP/vision_halu/haloc/haloc_extension/vqa/tp_data.csv\")\n",
    "holoc_neg_data = pd.concat([df_1, df_2]).sample(12000)\n",
    "holoc_neg_data = holoc_neg_data.drop_duplicates(subset=[\"question\"])"
   ]
  },
  {
   "cell_type": "code",
   "execution_count": 256,
   "id": "50dacbd5",
   "metadata": {},
   "outputs": [
    {
     "data": {
      "text/plain": [
       "(10006, 9)"
      ]
     },
     "execution_count": 256,
     "metadata": {},
     "output_type": "execute_result"
    }
   ],
   "source": [
    "holoc_neg_data.shape"
   ]
  },
  {
   "cell_type": "code",
   "execution_count": 258,
   "id": "8cba5b3a",
   "metadata": {},
   "outputs": [
    {
     "data": {
      "text/plain": [
       "10006"
      ]
     },
     "execution_count": 258,
     "metadata": {},
     "output_type": "execute_result"
    }
   ],
   "source": [
    "holoc_neg_data[\"question\"].nunique()"
   ]
  },
  {
   "cell_type": "code",
   "execution_count": 259,
   "id": "77c317d9",
   "metadata": {},
   "outputs": [
    {
     "name": "stderr",
     "output_type": "stream",
     "text": [
      "100%|██████████| 10006/10006 [02:02<00:00, 81.93it/s]\n"
     ]
    }
   ],
   "source": [
    "from tqdm import tqdm\n",
    "all_obj_info = []\n",
    "obj_ids = []\n",
    "for id in tqdm(holoc_neg_data[\"image_id\"]):\n",
    "    obj_df = pd.DataFrame(vg_obj[vg_obj[\"image_id\"] == id.strip(\".jpg\")].iloc[0][\"objects\"])\n",
    "    obj_df[\"names\"] =  obj_df[\"names\"].apply(lambda x: x[0])\n",
    "    all_obj_info.append(obj_df.to_dict(orient=\"records\"))\n",
    "    obj_ids.append({j:i for i,j in zip(obj_df[\"object_id\"] , obj_df[\"names\"])})"
   ]
  },
  {
   "cell_type": "code",
   "execution_count": 260,
   "id": "6bcfd2b0",
   "metadata": {},
   "outputs": [],
   "source": [
    "holoc_neg_data[\"all_obj_info\"] = all_obj_info\n",
    "holoc_neg_data[\"obj_ids\"] = obj_ids"
   ]
  },
  {
   "cell_type": "code",
   "execution_count": 261,
   "id": "2df95728",
   "metadata": {},
   "outputs": [
    {
     "data": {
      "text/html": [
       "<div>\n",
       "<style scoped>\n",
       "    .dataframe tbody tr th:only-of-type {\n",
       "        vertical-align: middle;\n",
       "    }\n",
       "\n",
       "    .dataframe tbody tr th {\n",
       "        vertical-align: top;\n",
       "    }\n",
       "\n",
       "    .dataframe thead th {\n",
       "        text-align: right;\n",
       "    }\n",
       "</style>\n",
       "<table border=\"1\" class=\"dataframe\">\n",
       "  <thead>\n",
       "    <tr style=\"text-align: right;\">\n",
       "      <th></th>\n",
       "      <th>image_id</th>\n",
       "      <th>question</th>\n",
       "      <th>answer</th>\n",
       "      <th>hallucination_candidates</th>\n",
       "      <th>candidates</th>\n",
       "      <th>candidates_inx</th>\n",
       "      <th>image_path</th>\n",
       "      <th>question_id</th>\n",
       "      <th>hallucination_candidates_inx</th>\n",
       "      <th>all_obj_info</th>\n",
       "      <th>obj_ids</th>\n",
       "    </tr>\n",
       "  </thead>\n",
       "  <tbody>\n",
       "    <tr>\n",
       "      <th>29691</th>\n",
       "      <td>2377030.jpg</td>\n",
       "      <td>Question: What is the woman on? Short answer:</td>\n",
       "      <td>book</td>\n",
       "      <td>['book']</td>\n",
       "      <td>[]</td>\n",
       "      <td>NaN</td>\n",
       "      <td>/Data2/Arun-UAV/NLP/vision_halu/visual_genome/...</td>\n",
       "      <td>991c186e-0737-4a70-aec0-69a42cd945c3</td>\n",
       "      <td>{'book': [(0, 4)]}</td>\n",
       "      <td>[{'synsets': ['radio_beam.n.01'], 'h': 39, 'ob...</td>\n",
       "      <td>{'beams': 568219, 'bed': 568229, 'bed room': 5...</td>\n",
       "    </tr>\n",
       "    <tr>\n",
       "      <th>14647</th>\n",
       "      <td>2318398.jpg</td>\n",
       "      <td>Use the provided image to answer the question:...</td>\n",
       "      <td>girl</td>\n",
       "      <td>[]</td>\n",
       "      <td>['girl']</td>\n",
       "      <td>{'girl': [(0, 4)]}</td>\n",
       "      <td>/Data2/Arun-UAV/NLP/vision_halu/visual_genome/...</td>\n",
       "      <td>3048ca26-6f65-4279-b69d-35a64fcb89fa</td>\n",
       "      <td>NaN</td>\n",
       "      <td>[{'synsets': [], 'h': 22, 'object_id': 4483469...</td>\n",
       "      <td>{'air': 4483469, 'antenna': 4055544, 'branches...</td>\n",
       "    </tr>\n",
       "  </tbody>\n",
       "</table>\n",
       "</div>"
      ],
      "text/plain": [
       "          image_id                                           question answer  \\\n",
       "29691  2377030.jpg      Question: What is the woman on? Short answer:   book   \n",
       "14647  2318398.jpg  Use the provided image to answer the question:...   girl   \n",
       "\n",
       "      hallucination_candidates candidates      candidates_inx  \\\n",
       "29691                 ['book']         []                 NaN   \n",
       "14647                       []   ['girl']  {'girl': [(0, 4)]}   \n",
       "\n",
       "                                              image_path  \\\n",
       "29691  /Data2/Arun-UAV/NLP/vision_halu/visual_genome/...   \n",
       "14647  /Data2/Arun-UAV/NLP/vision_halu/visual_genome/...   \n",
       "\n",
       "                                question_id hallucination_candidates_inx  \\\n",
       "29691  991c186e-0737-4a70-aec0-69a42cd945c3           {'book': [(0, 4)]}   \n",
       "14647  3048ca26-6f65-4279-b69d-35a64fcb89fa                          NaN   \n",
       "\n",
       "                                            all_obj_info  \\\n",
       "29691  [{'synsets': ['radio_beam.n.01'], 'h': 39, 'ob...   \n",
       "14647  [{'synsets': [], 'h': 22, 'object_id': 4483469...   \n",
       "\n",
       "                                                 obj_ids  \n",
       "29691  {'beams': 568219, 'bed': 568229, 'bed room': 5...  \n",
       "14647  {'air': 4483469, 'antenna': 4055544, 'branches...  "
      ]
     },
     "execution_count": 261,
     "metadata": {},
     "output_type": "execute_result"
    }
   ],
   "source": [
    "holoc_neg_data.head(2)"
   ]
  },
  {
   "cell_type": "code",
   "execution_count": 262,
   "id": "3d0340c9",
   "metadata": {},
   "outputs": [],
   "source": [
    "holoc_neg_data.to_csv(\"/Data2/Arun-UAV/NLP/vision_halu/evidence_head_train_datasets/holoc/vqa/holoc_sampled_10k.csv\", index=False)"
   ]
  },
  {
   "cell_type": "code",
   "execution_count": null,
   "id": "c4027a78",
   "metadata": {},
   "outputs": [],
   "source": [
    "image_processor = CLIPImageProcessor.from_pretrained(self.vision_tower_name)"
   ]
  },
  {
   "cell_type": "code",
   "execution_count": null,
   "metadata": {},
   "outputs": [],
   "source": []
  },
  {
   "cell_type": "code",
   "execution_count": null,
   "id": "da3730ab",
   "metadata": {},
   "outputs": [],
   "source": [
    "pd.DataFrame(vg_obj[vg_obj[\"image_id\"] == id.strip(\".jpg\")].iloc[0][\"objects\"])"
   ]
  },
  {
   "cell_type": "code",
   "execution_count": null,
   "id": "ea26d618",
   "metadata": {},
   "outputs": [],
   "source": [
    "def get_obj_words(res):\n",
    "    words = [i[\"obj\"][\"name\"] for i in eval(res)[\"object\"]]\n",
    "    return [{\"word\": i, 'h': 0, 'w': 0, 'y': 0,'x': 0} for i in words]"
   ]
  },
  {
   "cell_type": "code",
   "execution_count": null,
   "id": "2417ac3f",
   "metadata": {},
   "outputs": [
    {
     "name": "stderr",
     "output_type": "stream",
     "text": [
      "/tmp/ipykernel_2426391/2065153946.py:2: SettingWithCopyWarning: \n",
      "A value is trying to be set on a copy of a slice from a DataFrame.\n",
      "Try using .loc[row_indexer,col_indexer] = value instead\n",
      "\n",
      "See the caveats in the documentation: https://pandas.pydata.org/pandas-docs/stable/user_guide/indexing.html#returning-a-view-versus-a-copy\n",
      "  fil_holoc_neg_data[\"bb_info\"] = fil_holoc_neg_data[\"annotations\"].apply(get_obj_words)\n"
     ]
    }
   ],
   "source": [
    "fil_holoc_neg_data = holoc_neg_data[holoc_neg_data[\"annotations\"].apply(lambda x: len(eval(x)[\"object\"]) != 0)]\n",
    "fil_holoc_neg_data[\"bb_info\"] = fil_holoc_neg_data[\"annotations\"].apply(get_obj_words)\n",
    "\n",
    "fil_holoc_neg_data = fil_holoc_neg_data[[\"prompt\", \"image_id\", \"hallucinated_text\", \"bb_info\"]]\n",
    "fil_holoc_neg_data = fil_holoc_neg_data.rename(columns={\"hallucinated_text\": \"answer\"})\n",
    "fil_holoc_neg_data[\"prompt\"] = fil_holoc_neg_data[\"prompt\"].apply(lambda x: x.replace(\"<image>\", \"\"))\n"
   ]
  },
  {
   "cell_type": "code",
   "execution_count": null,
   "id": "78896a13",
   "metadata": {},
   "outputs": [
    {
     "data": {
      "text/html": [
       "<div>\n",
       "<style scoped>\n",
       "    .dataframe tbody tr th:only-of-type {\n",
       "        vertical-align: middle;\n",
       "    }\n",
       "\n",
       "    .dataframe tbody tr th {\n",
       "        vertical-align: top;\n",
       "    }\n",
       "\n",
       "    .dataframe thead th {\n",
       "        text-align: right;\n",
       "    }\n",
       "</style>\n",
       "<table border=\"1\" class=\"dataframe\">\n",
       "  <thead>\n",
       "    <tr style=\"text-align: right;\">\n",
       "      <th></th>\n",
       "      <th>prompt</th>\n",
       "      <th>image_id</th>\n",
       "      <th>answer</th>\n",
       "      <th>bb_info</th>\n",
       "    </tr>\n",
       "  </thead>\n",
       "  <tbody>\n",
       "    <tr>\n",
       "      <th>0</th>\n",
       "      <td>Explain the visual content of the image in gre...</td>\n",
       "      <td>2324272</td>\n",
       "      <td>A plumber in a blue shirt and black pants is s...</td>\n",
       "      <td>[{'word': 'backpack', 'h': 0, 'w': 0, 'y': 0, ...</td>\n",
       "    </tr>\n",
       "    <tr>\n",
       "      <th>2</th>\n",
       "      <td>What is this photo about?</td>\n",
       "      <td>2383098</td>\n",
       "      <td>In this image I see a horse which is of white ...</td>\n",
       "      <td>[{'word': 'elephant', 'h': 0, 'w': 0, 'y': 0, ...</td>\n",
       "    </tr>\n",
       "  </tbody>\n",
       "</table>\n",
       "</div>"
      ],
      "text/plain": [
       "                                              prompt  image_id  \\\n",
       "0  Explain the visual content of the image in gre...   2324272   \n",
       "2                          What is this photo about?   2383098   \n",
       "\n",
       "                                              answer  \\\n",
       "0  A plumber in a blue shirt and black pants is s...   \n",
       "2  In this image I see a horse which is of white ...   \n",
       "\n",
       "                                             bb_info  \n",
       "0  [{'word': 'backpack', 'h': 0, 'w': 0, 'y': 0, ...  \n",
       "2  [{'word': 'elephant', 'h': 0, 'w': 0, 'y': 0, ...  "
      ]
     },
     "execution_count": 152,
     "metadata": {},
     "output_type": "execute_result"
    }
   ],
   "source": [
    "fil_holoc_neg_data.head(2)"
   ]
  },
  {
   "cell_type": "code",
   "execution_count": null,
   "id": "0197582f",
   "metadata": {},
   "outputs": [],
   "source": [
    "fil_holoc_neg_data.to_csv(\"/Data2/Arun-UAV/NLP/vision_halu/evidence_head_train_datasets/holoc/caption/obj_neg.csv\", index=False)"
   ]
  },
  {
   "cell_type": "code",
   "execution_count": null,
   "id": "de29a05a",
   "metadata": {},
   "outputs": [
    {
     "data": {
      "text/plain": [
       "(16931, 4)"
      ]
     },
     "execution_count": 158,
     "metadata": {},
     "output_type": "execute_result"
    }
   ],
   "source": [
    "fil_holoc_neg_data.shape"
   ]
  },
  {
   "cell_type": "code",
   "execution_count": 264,
   "id": "066b68cb",
   "metadata": {},
   "outputs": [
    {
     "name": "stderr",
     "output_type": "stream",
     "text": [
      "/home/user/.conda/envs/shdm/lib/python3.10/site-packages/huggingface_hub/file_download.py:945: FutureWarning: `resume_download` is deprecated and will be removed in version 1.0.0. Downloads always resume when possible. If you want to force a new download, use `force_download=True`.\n",
      "  warnings.warn(\n"
     ]
    }
   ],
   "source": [
    "from transformers import CLIPVisionModel, CLIPImageProcessor, CLIPVisionConfig\n",
    "image_processor = CLIPImageProcessor.from_pretrained('openai/clip-vit-large-patch14-336')"
   ]
  },
  {
   "cell_type": "code",
   "execution_count": null,
   "id": "ed353a22",
   "metadata": {},
   "outputs": [],
   "source": [
    "image_path = \"\"\n",
    "Image.open(image_path).convert(\"RGB\")\n",
    "image_tensor = self.image_processor([image], return_tensors=\"pt\")[\"pixel_values\"]"
   ]
  },
  {
   "cell_type": "code",
   "execution_count": null,
   "id": "2e2f4a91",
   "metadata": {},
   "outputs": [],
   "source": []
  }
 ],
 "metadata": {
  "kernelspec": {
   "display_name": "shdm",
   "language": "python",
   "name": "python3"
  },
  "language_info": {
   "codemirror_mode": {
    "name": "ipython",
    "version": 3
   },
   "file_extension": ".py",
   "mimetype": "text/x-python",
   "name": "python",
   "nbconvert_exporter": "python",
   "pygments_lexer": "ipython3",
   "version": "3.10.18"
  }
 },
 "nbformat": 4,
 "nbformat_minor": 5
}
