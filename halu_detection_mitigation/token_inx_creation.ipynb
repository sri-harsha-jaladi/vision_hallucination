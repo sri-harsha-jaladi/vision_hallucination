{
 "cells": [
  {
   "cell_type": "code",
   "execution_count": 14,
   "id": "b4cccd3a",
   "metadata": {},
   "outputs": [],
   "source": [
    "import numpy as np\n",
    "import pandas as pd"
   ]
  },
  {
   "cell_type": "code",
   "execution_count": 15,
   "id": "713f4187",
   "metadata": {},
   "outputs": [],
   "source": [
    "data = pd.read_csv('/Data2/Arun-UAV/NLP/vision_halu/haloc/haloc_extension/caption/gemini_labeled_28k.csv')"
   ]
  },
  {
   "cell_type": "code",
   "execution_count": 16,
   "id": "65c4173a",
   "metadata": {},
   "outputs": [],
   "source": [
    "data[\"candidates\"] = data[\"candidates\"].apply(lambda x: list(set(eval(x))))\n",
    "data[\"hallucination_candidates\"] = data[\"hallucination_candidates\"].apply(lambda x: list(set(eval(x))))"
   ]
  },
  {
   "cell_type": "code",
   "execution_count": 17,
   "id": "f98c6526",
   "metadata": {},
   "outputs": [
    {
     "data": {
      "text/html": [
       "<div>\n",
       "<style scoped>\n",
       "    .dataframe tbody tr th:only-of-type {\n",
       "        vertical-align: middle;\n",
       "    }\n",
       "\n",
       "    .dataframe tbody tr th {\n",
       "        vertical-align: top;\n",
       "    }\n",
       "\n",
       "    .dataframe thead th {\n",
       "        text-align: right;\n",
       "    }\n",
       "</style>\n",
       "<table border=\"1\" class=\"dataframe\">\n",
       "  <thead>\n",
       "    <tr style=\"text-align: right;\">\n",
       "      <th></th>\n",
       "      <th>image_path</th>\n",
       "      <th>question</th>\n",
       "      <th>answer</th>\n",
       "      <th>candidates</th>\n",
       "      <th>hallucination_candidates</th>\n",
       "    </tr>\n",
       "  </thead>\n",
       "  <tbody>\n",
       "    <tr>\n",
       "      <th>0</th>\n",
       "      <td>2381430.jpg</td>\n",
       "      <td>What do you think is going on in this snapshot?</td>\n",
       "      <td>In this picture we can see one woman is holdin...</td>\n",
       "      <td>[bat, one, holding, back, tennis, fencing, sid...</td>\n",
       "      <td>[bat]</td>\n",
       "    </tr>\n",
       "    <tr>\n",
       "      <th>1</th>\n",
       "      <td>2381430.jpg</td>\n",
       "      <td>What do you think is going on in this snapshot?</td>\n",
       "      <td>In this picture we can see one woman is holdin...</td>\n",
       "      <td>[bat, one, holding, back, tennis, frisbee, fen...</td>\n",
       "      <td>[bat, frisbee]</td>\n",
       "    </tr>\n",
       "  </tbody>\n",
       "</table>\n",
       "</div>"
      ],
      "text/plain": [
       "    image_path                                         question  \\\n",
       "0  2381430.jpg  What do you think is going on in this snapshot?   \n",
       "1  2381430.jpg  What do you think is going on in this snapshot?   \n",
       "\n",
       "                                              answer  \\\n",
       "0  In this picture we can see one woman is holdin...   \n",
       "1  In this picture we can see one woman is holdin...   \n",
       "\n",
       "                                          candidates hallucination_candidates  \n",
       "0  [bat, one, holding, back, tennis, fencing, sid...                    [bat]  \n",
       "1  [bat, one, holding, back, tennis, frisbee, fen...           [bat, frisbee]  "
      ]
     },
     "execution_count": 17,
     "metadata": {},
     "output_type": "execute_result"
    }
   ],
   "source": [
    "data.head(2)"
   ]
  },
  {
   "cell_type": "code",
   "execution_count": 20,
   "id": "e12bcb33",
   "metadata": {},
   "outputs": [],
   "source": [
    "import re\n",
    "import unicodedata\n",
    "from typing import Dict, Iterable, List, Tuple\n",
    "\n",
    "def find_word_spans(\n",
    "    text: str,\n",
    "    terms: Iterable[str],\n",
    "    *,\n",
    "    case_sensitive: bool = False,\n",
    "    whole_word: bool = False,\n",
    "    overlapping: bool = False,\n",
    "    normalize_unicode: bool = True,\n",
    ") -> Dict[str, List[Tuple[int, int]]]:\n",
    "    \n",
    "    if normalize_unicode:\n",
    "        text = unicodedata.normalize(\"NFC\", text)\n",
    "\n",
    "    # Prepare result with original (possibly unnormalized) term strings as keys\n",
    "    results: Dict[str, List[Tuple[int, int]]] = {t: [] for t in terms if t}\n",
    "\n",
    "    # Build a working list of (orig_term, norm_term)\n",
    "    work_terms: List[Tuple[str, str]] = []\n",
    "    for t in terms:\n",
    "        if not t:\n",
    "            continue\n",
    "        t_norm = unicodedata.normalize(\"NFC\", t) if normalize_unicode else t\n",
    "        work_terms.append((t, t_norm))\n",
    "\n",
    "    flags = 0 if case_sensitive else re.IGNORECASE\n",
    "\n",
    "    for orig_term, norm_term in work_terms:\n",
    "        # Escape to match literal text\n",
    "        escaped = re.escape(norm_term)\n",
    "\n",
    "        if whole_word:\n",
    "            # Word boundaries only at the ends (so phrases are supported)\n",
    "            # Use (?<!\\w) and (?!\\w) instead of \\b to behave well inside lookaheads for overlapping.\n",
    "            core = f\"(?<!\\\\w){escaped}(?!\\\\w)\"\n",
    "        else:\n",
    "            core = escaped\n",
    "\n",
    "        if overlapping:\n",
    "            # Lookahead to capture overlapping starts.\n",
    "            # Put the core inside a capturing group so we can compute the end index.\n",
    "            pattern = re.compile(f\"(?=({core}))\", flags)\n",
    "            matches = pattern.finditer(text)\n",
    "            for m in matches:\n",
    "                start = m.start()\n",
    "                end = start + len(m.group(1))\n",
    "                results[orig_term].append((start, end))\n",
    "        else:\n",
    "            pattern = re.compile(core, flags)\n",
    "            matches = pattern.finditer(text)\n",
    "            for m in matches:\n",
    "                results[orig_term].append((m.start(), m.end()))\n",
    "\n",
    "    return results\n"
   ]
  },
  {
   "cell_type": "code",
   "execution_count": 18,
   "id": "2623c7b8",
   "metadata": {},
   "outputs": [
    {
     "data": {
      "text/html": [
       "<div>\n",
       "<style scoped>\n",
       "    .dataframe tbody tr th:only-of-type {\n",
       "        vertical-align: middle;\n",
       "    }\n",
       "\n",
       "    .dataframe tbody tr th {\n",
       "        vertical-align: top;\n",
       "    }\n",
       "\n",
       "    .dataframe thead th {\n",
       "        text-align: right;\n",
       "    }\n",
       "</style>\n",
       "<table border=\"1\" class=\"dataframe\">\n",
       "  <thead>\n",
       "    <tr style=\"text-align: right;\">\n",
       "      <th></th>\n",
       "      <th>image_path</th>\n",
       "      <th>question</th>\n",
       "      <th>answer</th>\n",
       "      <th>candidates</th>\n",
       "      <th>hallucination_candidates</th>\n",
       "    </tr>\n",
       "  </thead>\n",
       "  <tbody>\n",
       "    <tr>\n",
       "      <th>0</th>\n",
       "      <td>2381430.jpg</td>\n",
       "      <td>What do you think is going on in this snapshot?</td>\n",
       "      <td>In this picture we can see one woman is holdin...</td>\n",
       "      <td>[bat, one, holding, back, tennis, fencing, sid...</td>\n",
       "      <td>[bat]</td>\n",
       "    </tr>\n",
       "    <tr>\n",
       "      <th>1</th>\n",
       "      <td>2381430.jpg</td>\n",
       "      <td>What do you think is going on in this snapshot?</td>\n",
       "      <td>In this picture we can see one woman is holdin...</td>\n",
       "      <td>[bat, one, holding, back, tennis, frisbee, fen...</td>\n",
       "      <td>[bat, frisbee]</td>\n",
       "    </tr>\n",
       "  </tbody>\n",
       "</table>\n",
       "</div>"
      ],
      "text/plain": [
       "    image_path                                         question  \\\n",
       "0  2381430.jpg  What do you think is going on in this snapshot?   \n",
       "1  2381430.jpg  What do you think is going on in this snapshot?   \n",
       "\n",
       "                                              answer  \\\n",
       "0  In this picture we can see one woman is holdin...   \n",
       "1  In this picture we can see one woman is holdin...   \n",
       "\n",
       "                                          candidates hallucination_candidates  \n",
       "0  [bat, one, holding, back, tennis, fencing, sid...                    [bat]  \n",
       "1  [bat, one, holding, back, tennis, frisbee, fen...           [bat, frisbee]  "
      ]
     },
     "execution_count": 18,
     "metadata": {},
     "output_type": "execute_result"
    }
   ],
   "source": [
    "data.head(2)"
   ]
  },
  {
   "cell_type": "code",
   "execution_count": 30,
   "id": "28196733",
   "metadata": {},
   "outputs": [
    {
     "data": {
      "text/plain": [
       "{'vessels': [(58, 65)],\n",
       " 'pink': [(193, 197), (234, 238)],\n",
       " 'light': [(548, 553)],\n",
       " 'side': [(506, 510)],\n",
       " 'pillows': [(122, 129), (182, 189)],\n",
       " 'background': [(303, 313)],\n",
       " 'frames': [(331, 337), (528, 534)],\n",
       " 'carpet': [(137, 143)],\n",
       " 'right': [(500, 505)],\n",
       " 'arranged': [(16, 24)],\n",
       " 'cups': [(30, 34)],\n",
       " 'buildings': [(482, 491)],\n",
       " 'brown': [(100, 105), (389, 394)],\n",
       " 'white': [(436, 441)],\n",
       " 'steel': [(52, 57)],\n",
       " 'table': [(91, 96)],\n",
       " 'two': [(26, 29)],\n",
       " 'plants': [(474, 480)],\n",
       " 'sofa': [(226, 230)],\n",
       " 'books': [(10, 15)],\n",
       " 'objects': [(76, 83), (564, 571)],\n",
       " 'grey': [(208, 212), (253, 257), (284, 288), (359, 363)],\n",
       " 'orange': [(38, 44)],\n",
       " 'curtain': [(425, 432)],\n",
       " 'floor': [(160, 165)],\n",
       " 'wall': [(345, 349), (542, 546)],\n",
       " 'window': [(409, 415)],\n",
       " 'photo': [(325, 330), (522, 527)],\n",
       " 'roof': [(375, 379)],\n",
       " 'chair': [(269, 274)]}"
      ]
     },
     "execution_count": 30,
     "metadata": {},
     "output_type": "execute_result"
    }
   ],
   "source": [
    "find_word_spans(\n",
    "    text=data.iloc[100][\"answer\"].lower(),\n",
    "    terms=[i.lower() for i in data.iloc[100][\"candidates\"]])"
   ]
  },
  {
   "cell_type": "code",
   "execution_count": null,
   "id": "e60b7e65",
   "metadata": {},
   "outputs": [],
   "source": []
  },
  {
   "cell_type": "code",
   "execution_count": null,
   "id": "60248557",
   "metadata": {},
   "outputs": [],
   "source": []
  },
  {
   "cell_type": "code",
   "execution_count": null,
   "id": "4c9b63e7",
   "metadata": {},
   "outputs": [],
   "source": []
  }
 ],
 "metadata": {
  "kernelspec": {
   "display_name": "shdm",
   "language": "python",
   "name": "python3"
  },
  "language_info": {
   "codemirror_mode": {
    "name": "ipython",
    "version": 3
   },
   "file_extension": ".py",
   "mimetype": "text/x-python",
   "name": "python",
   "nbconvert_exporter": "python",
   "pygments_lexer": "ipython3",
   "version": "3.10.18"
  }
 },
 "nbformat": 4,
 "nbformat_minor": 5
}
