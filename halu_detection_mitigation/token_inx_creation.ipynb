{
 "cells": [
  {
   "cell_type": "code",
   "execution_count": 2,
   "id": "b4cccd3a",
   "metadata": {},
   "outputs": [],
   "source": [
    "import numpy as np\n",
    "import pandas as pd"
   ]
  },
  {
   "cell_type": "code",
   "execution_count": 38,
   "id": "713f4187",
   "metadata": {},
   "outputs": [],
   "source": [
    "data = pd.read_csv('/Data2/Arun-UAV/NLP/vision_halu/haloc/haloc_extension/instruct/gemini_labeled_40k.csv')"
   ]
  },
  {
   "cell_type": "code",
   "execution_count": 39,
   "id": "727e3b09",
   "metadata": {},
   "outputs": [
    {
     "data": {
      "text/html": [
       "<div>\n",
       "<style scoped>\n",
       "    .dataframe tbody tr th:only-of-type {\n",
       "        vertical-align: middle;\n",
       "    }\n",
       "\n",
       "    .dataframe tbody tr th {\n",
       "        vertical-align: top;\n",
       "    }\n",
       "\n",
       "    .dataframe thead th {\n",
       "        text-align: right;\n",
       "    }\n",
       "</style>\n",
       "<table border=\"1\" class=\"dataframe\">\n",
       "  <thead>\n",
       "    <tr style=\"text-align: right;\">\n",
       "      <th></th>\n",
       "      <th>image_path</th>\n",
       "      <th>question</th>\n",
       "      <th>answer</th>\n",
       "      <th>candidates</th>\n",
       "      <th>hallucination_candidates</th>\n",
       "      <th>candidates_inx</th>\n",
       "      <th>hallucination_candidates_inx</th>\n",
       "    </tr>\n",
       "  </thead>\n",
       "  <tbody>\n",
       "    <tr>\n",
       "      <th>0</th>\n",
       "      <td>2317351.jpg</td>\n",
       "      <td>Describe the color of the hat.</td>\n",
       "      <td>The hat is blue.</td>\n",
       "      <td>['blue', 'hat']</td>\n",
       "      <td>['blue']</td>\n",
       "      <td>{'blue': [(11, 15)], 'hat': [(4, 7)]}</td>\n",
       "      <td>{'blue': [(11, 15)]}</td>\n",
       "    </tr>\n",
       "    <tr>\n",
       "      <th>1</th>\n",
       "      <td>2317351.jpg</td>\n",
       "      <td>Describe the color of the hat.</td>\n",
       "      <td>The hat is gray.</td>\n",
       "      <td>['hat', 'gray']</td>\n",
       "      <td>['gray']</td>\n",
       "      <td>{'hat': [(4, 7)], 'gray': [(11, 15)]}</td>\n",
       "      <td>{'gray': [(11, 15)]}</td>\n",
       "    </tr>\n",
       "  </tbody>\n",
       "</table>\n",
       "</div>"
      ],
      "text/plain": [
       "    image_path                        question            answer  \\\n",
       "0  2317351.jpg  Describe the color of the hat.  The hat is blue.   \n",
       "1  2317351.jpg  Describe the color of the hat.  The hat is gray.   \n",
       "\n",
       "        candidates hallucination_candidates  \\\n",
       "0  ['blue', 'hat']                 ['blue']   \n",
       "1  ['hat', 'gray']                 ['gray']   \n",
       "\n",
       "                          candidates_inx hallucination_candidates_inx  \n",
       "0  {'blue': [(11, 15)], 'hat': [(4, 7)]}         {'blue': [(11, 15)]}  \n",
       "1  {'hat': [(4, 7)], 'gray': [(11, 15)]}         {'gray': [(11, 15)]}  "
      ]
     },
     "execution_count": 39,
     "metadata": {},
     "output_type": "execute_result"
    }
   ],
   "source": [
    "data.head(2)"
   ]
  },
  {
   "cell_type": "code",
   "execution_count": 29,
   "id": "65c4173a",
   "metadata": {},
   "outputs": [],
   "source": [
    "data[\"candidates\"] = data[\"candidates\"].apply(lambda x: list(set(eval(x))))\n",
    "data[\"hallucination_candidates\"] = data[\"hallucination_candidates\"].apply(lambda x: list(set(eval(x))))"
   ]
  },
  {
   "cell_type": "code",
   "execution_count": 30,
   "id": "f98c6526",
   "metadata": {},
   "outputs": [
    {
     "data": {
      "text/html": [
       "<div>\n",
       "<style scoped>\n",
       "    .dataframe tbody tr th:only-of-type {\n",
       "        vertical-align: middle;\n",
       "    }\n",
       "\n",
       "    .dataframe tbody tr th {\n",
       "        vertical-align: top;\n",
       "    }\n",
       "\n",
       "    .dataframe thead th {\n",
       "        text-align: right;\n",
       "    }\n",
       "</style>\n",
       "<table border=\"1\" class=\"dataframe\">\n",
       "  <thead>\n",
       "    <tr style=\"text-align: right;\">\n",
       "      <th></th>\n",
       "      <th>image_path</th>\n",
       "      <th>question</th>\n",
       "      <th>answer</th>\n",
       "      <th>candidates</th>\n",
       "      <th>hallucination_candidates</th>\n",
       "    </tr>\n",
       "  </thead>\n",
       "  <tbody>\n",
       "    <tr>\n",
       "      <th>0</th>\n",
       "      <td>2317351.jpg</td>\n",
       "      <td>Describe the color of the hat.</td>\n",
       "      <td>The hat is blue.</td>\n",
       "      <td>[blue, hat]</td>\n",
       "      <td>[blue]</td>\n",
       "    </tr>\n",
       "    <tr>\n",
       "      <th>1</th>\n",
       "      <td>2317351.jpg</td>\n",
       "      <td>Describe the color of the hat.</td>\n",
       "      <td>The hat is gray.</td>\n",
       "      <td>[hat, gray]</td>\n",
       "      <td>[gray]</td>\n",
       "    </tr>\n",
       "  </tbody>\n",
       "</table>\n",
       "</div>"
      ],
      "text/plain": [
       "    image_path                        question            answer   candidates  \\\n",
       "0  2317351.jpg  Describe the color of the hat.  The hat is blue.  [blue, hat]   \n",
       "1  2317351.jpg  Describe the color of the hat.  The hat is gray.  [hat, gray]   \n",
       "\n",
       "  hallucination_candidates  \n",
       "0                   [blue]  \n",
       "1                   [gray]  "
      ]
     },
     "execution_count": 30,
     "metadata": {},
     "output_type": "execute_result"
    }
   ],
   "source": [
    "data.head(2)"
   ]
  },
  {
   "cell_type": "code",
   "execution_count": 2,
   "id": "e12bcb33",
   "metadata": {},
   "outputs": [],
   "source": [
    "import re\n",
    "import unicodedata\n",
    "from typing import Dict, Iterable, List, Tuple\n",
    "\n",
    "def find_word_spans(\n",
    "    text: str,\n",
    "    terms: Iterable[str],\n",
    "    *,\n",
    "    case_sensitive: bool = False,\n",
    "    whole_word: bool = False,\n",
    "    overlapping: bool = False,\n",
    "    normalize_unicode: bool = True,\n",
    ") -> Dict[str, List[Tuple[int, int]]]:\n",
    "    \n",
    "    if normalize_unicode:\n",
    "        text = unicodedata.normalize(\"NFC\", text)\n",
    "\n",
    "    # Prepare result with original (possibly unnormalized) term strings as keys\n",
    "    results: Dict[str, List[Tuple[int, int]]] = {t: [] for t in terms if t}\n",
    "\n",
    "    # Build a working list of (orig_term, norm_term)\n",
    "    work_terms: List[Tuple[str, str]] = []\n",
    "    for t in terms:\n",
    "        if not t:\n",
    "            continue\n",
    "        t_norm = unicodedata.normalize(\"NFC\", t) if normalize_unicode else t\n",
    "        work_terms.append((t, t_norm))\n",
    "\n",
    "    flags = 0 if case_sensitive else re.IGNORECASE\n",
    "\n",
    "    for orig_term, norm_term in work_terms:\n",
    "        # Escape to match literal text\n",
    "        escaped = re.escape(norm_term)\n",
    "\n",
    "        if whole_word:\n",
    "            # Word boundaries only at the ends (so phrases are supported)\n",
    "            # Use (?<!\\w) and (?!\\w) instead of \\b to behave well inside lookaheads for overlapping.\n",
    "            core = f\"(?<!\\\\w){escaped}(?!\\\\w)\"\n",
    "        else:\n",
    "            core = escaped\n",
    "\n",
    "        if overlapping:\n",
    "            # Lookahead to capture overlapping starts.\n",
    "            # Put the core inside a capturing group so we can compute the end index.\n",
    "            pattern = re.compile(f\"(?=({core}))\", flags)\n",
    "            matches = pattern.finditer(text)\n",
    "            for m in matches:\n",
    "                start = m.start()\n",
    "                end = start + len(m.group(1))\n",
    "                results[orig_term].append((start, end))\n",
    "        else:\n",
    "            pattern = re.compile(core, flags)\n",
    "            matches = pattern.finditer(text)\n",
    "            for m in matches:\n",
    "                results[orig_term].append((m.start(), m.end()))\n",
    "\n",
    "    return results\n"
   ]
  },
  {
   "cell_type": "code",
   "execution_count": 32,
   "id": "2623c7b8",
   "metadata": {},
   "outputs": [
    {
     "data": {
      "text/html": [
       "<div>\n",
       "<style scoped>\n",
       "    .dataframe tbody tr th:only-of-type {\n",
       "        vertical-align: middle;\n",
       "    }\n",
       "\n",
       "    .dataframe tbody tr th {\n",
       "        vertical-align: top;\n",
       "    }\n",
       "\n",
       "    .dataframe thead th {\n",
       "        text-align: right;\n",
       "    }\n",
       "</style>\n",
       "<table border=\"1\" class=\"dataframe\">\n",
       "  <thead>\n",
       "    <tr style=\"text-align: right;\">\n",
       "      <th></th>\n",
       "      <th>image_path</th>\n",
       "      <th>question</th>\n",
       "      <th>answer</th>\n",
       "      <th>candidates</th>\n",
       "      <th>hallucination_candidates</th>\n",
       "    </tr>\n",
       "  </thead>\n",
       "  <tbody>\n",
       "    <tr>\n",
       "      <th>0</th>\n",
       "      <td>2317351.jpg</td>\n",
       "      <td>Describe the color of the hat.</td>\n",
       "      <td>The hat is blue.</td>\n",
       "      <td>[blue, hat]</td>\n",
       "      <td>[blue]</td>\n",
       "    </tr>\n",
       "    <tr>\n",
       "      <th>1</th>\n",
       "      <td>2317351.jpg</td>\n",
       "      <td>Describe the color of the hat.</td>\n",
       "      <td>The hat is gray.</td>\n",
       "      <td>[hat, gray]</td>\n",
       "      <td>[gray]</td>\n",
       "    </tr>\n",
       "  </tbody>\n",
       "</table>\n",
       "</div>"
      ],
      "text/plain": [
       "    image_path                        question            answer   candidates  \\\n",
       "0  2317351.jpg  Describe the color of the hat.  The hat is blue.  [blue, hat]   \n",
       "1  2317351.jpg  Describe the color of the hat.  The hat is gray.  [hat, gray]   \n",
       "\n",
       "  hallucination_candidates  \n",
       "0                   [blue]  \n",
       "1                   [gray]  "
      ]
     },
     "execution_count": 32,
     "metadata": {},
     "output_type": "execute_result"
    }
   ],
   "source": [
    "data.head(2)"
   ]
  },
  {
   "cell_type": "code",
   "execution_count": 33,
   "id": "28196733",
   "metadata": {},
   "outputs": [],
   "source": [
    "candid_inx = [] \n",
    "hal_inx = []\n",
    "\n",
    "for inx, row in data.iterrows():\n",
    "    spans = find_word_spans(\n",
    "        text=row[\"answer\"].lower(),\n",
    "        terms=[i.lower() for i in row[\"candidates\"]])\n",
    "    candid_inx.append(spans)\n",
    "    \n",
    "    hal_spans = find_word_spans(\n",
    "        text=row[\"answer\"].lower(),\n",
    "        terms=[i.lower() for i in row[\"hallucination_candidates\"]])\n",
    "    hal_inx.append(hal_spans)\n",
    "    "
   ]
  },
  {
   "cell_type": "code",
   "execution_count": 34,
   "id": "4c9b63e7",
   "metadata": {},
   "outputs": [],
   "source": [
    "data[\"candidates_inx\"] = candid_inx\n",
    "data[\"hallucination_candidates_inx\"] = hal_inx"
   ]
  },
  {
   "cell_type": "code",
   "execution_count": 35,
   "id": "2587a04d",
   "metadata": {},
   "outputs": [
    {
     "data": {
      "text/html": [
       "<div>\n",
       "<style scoped>\n",
       "    .dataframe tbody tr th:only-of-type {\n",
       "        vertical-align: middle;\n",
       "    }\n",
       "\n",
       "    .dataframe tbody tr th {\n",
       "        vertical-align: top;\n",
       "    }\n",
       "\n",
       "    .dataframe thead th {\n",
       "        text-align: right;\n",
       "    }\n",
       "</style>\n",
       "<table border=\"1\" class=\"dataframe\">\n",
       "  <thead>\n",
       "    <tr style=\"text-align: right;\">\n",
       "      <th></th>\n",
       "      <th>image_path</th>\n",
       "      <th>question</th>\n",
       "      <th>answer</th>\n",
       "      <th>candidates</th>\n",
       "      <th>hallucination_candidates</th>\n",
       "      <th>candidates_inx</th>\n",
       "      <th>hallucination_candidates_inx</th>\n",
       "    </tr>\n",
       "  </thead>\n",
       "  <tbody>\n",
       "    <tr>\n",
       "      <th>0</th>\n",
       "      <td>2317351.jpg</td>\n",
       "      <td>Describe the color of the hat.</td>\n",
       "      <td>The hat is blue.</td>\n",
       "      <td>[blue, hat]</td>\n",
       "      <td>[blue]</td>\n",
       "      <td>{'blue': [(11, 15)], 'hat': [(4, 7)]}</td>\n",
       "      <td>{'blue': [(11, 15)]}</td>\n",
       "    </tr>\n",
       "    <tr>\n",
       "      <th>1</th>\n",
       "      <td>2317351.jpg</td>\n",
       "      <td>Describe the color of the hat.</td>\n",
       "      <td>The hat is gray.</td>\n",
       "      <td>[hat, gray]</td>\n",
       "      <td>[gray]</td>\n",
       "      <td>{'hat': [(4, 7)], 'gray': [(11, 15)]}</td>\n",
       "      <td>{'gray': [(11, 15)]}</td>\n",
       "    </tr>\n",
       "  </tbody>\n",
       "</table>\n",
       "</div>"
      ],
      "text/plain": [
       "    image_path                        question            answer   candidates  \\\n",
       "0  2317351.jpg  Describe the color of the hat.  The hat is blue.  [blue, hat]   \n",
       "1  2317351.jpg  Describe the color of the hat.  The hat is gray.  [hat, gray]   \n",
       "\n",
       "  hallucination_candidates                         candidates_inx  \\\n",
       "0                   [blue]  {'blue': [(11, 15)], 'hat': [(4, 7)]}   \n",
       "1                   [gray]  {'hat': [(4, 7)], 'gray': [(11, 15)]}   \n",
       "\n",
       "  hallucination_candidates_inx  \n",
       "0         {'blue': [(11, 15)]}  \n",
       "1         {'gray': [(11, 15)]}  "
      ]
     },
     "execution_count": 35,
     "metadata": {},
     "output_type": "execute_result"
    }
   ],
   "source": [
    "data.head(2)"
   ]
  },
  {
   "cell_type": "code",
   "execution_count": 36,
   "id": "607471e5",
   "metadata": {},
   "outputs": [],
   "source": [
    "data.to_csv(\"/Data2/Arun-UAV/NLP/vision_halu/haloc/haloc_extension/instruct/gemini_labeled_40k.csv\", index=False)"
   ]
  },
  {
   "cell_type": "code",
   "execution_count": 58,
   "id": "f071ac08",
   "metadata": {},
   "outputs": [],
   "source": [
    "sampled_data = pd.read_csv(\"/Data2/Arun-UAV/NLP/vision_halu/haloc/haloc_extension/instruct/original_sampled_20k.csv\")\n",
    "total_data = pd.read_csv(\"/Data2/Arun-UAV/NLP/vision_halu/haloc/train_dataset/instruct/tp_train.csv\")"
   ]
  },
  {
   "cell_type": "code",
   "execution_count": 59,
   "id": "1d1c60dd",
   "metadata": {},
   "outputs": [],
   "source": [
    "sampled_ids = sampled_data[\"id\"].to_list()"
   ]
  },
  {
   "cell_type": "code",
   "execution_count": 60,
   "id": "1dded910",
   "metadata": {},
   "outputs": [],
   "source": [
    "ramian_data = total_data[~total_data[\"id\"].isin(sampled_ids)]"
   ]
  },
  {
   "cell_type": "code",
   "execution_count": 3,
   "id": "1011e317",
   "metadata": {},
   "outputs": [],
   "source": [
    "tp_data = pd.read_csv(\"/Data2/Arun-UAV/NLP/vision_halu/haloc/train_dataset/vqa/tp_train.csv\")\n",
    "tn_data = pd.read_csv(\"/Data2/Arun-UAV/NLP/vision_halu/haloc/train_dataset/vqa/tn_train.csv\")"
   ]
  },
  {
   "cell_type": "code",
   "execution_count": 45,
   "id": "d79f2ecb",
   "metadata": {},
   "outputs": [],
   "source": [
    "ramian_data = tn_data"
   ]
  },
  {
   "cell_type": "code",
   "execution_count": 46,
   "id": "8f7356c0",
   "metadata": {},
   "outputs": [
    {
     "data": {
      "text/html": [
       "<div>\n",
       "<style scoped>\n",
       "    .dataframe tbody tr th:only-of-type {\n",
       "        vertical-align: middle;\n",
       "    }\n",
       "\n",
       "    .dataframe tbody tr th {\n",
       "        vertical-align: top;\n",
       "    }\n",
       "\n",
       "    .dataframe thead th {\n",
       "        text-align: right;\n",
       "    }\n",
       "</style>\n",
       "<table border=\"1\" class=\"dataframe\">\n",
       "  <thead>\n",
       "    <tr style=\"text-align: right;\">\n",
       "      <th></th>\n",
       "      <th>Unnamed: 0</th>\n",
       "      <th>source_text</th>\n",
       "      <th>source_metadata</th>\n",
       "      <th>qa_metadata</th>\n",
       "      <th>qa_ids</th>\n",
       "      <th>prompt</th>\n",
       "      <th>image_id</th>\n",
       "      <th>hallucinated_text</th>\n",
       "      <th>annotations</th>\n",
       "      <th>split</th>\n",
       "      <th>id</th>\n",
       "    </tr>\n",
       "  </thead>\n",
       "  <tbody>\n",
       "    <tr>\n",
       "      <th>0</th>\n",
       "      <td>40270</td>\n",
       "      <td>right</td>\n",
       "      <td>{'id': '001000255', 'source': 'GQA'}</td>\n",
       "      <td>{}</td>\n",
       "      <td>[]</td>\n",
       "      <td>Use the provided image to answer the question:...</td>\n",
       "      <td>2411114</td>\n",
       "      <td>right</td>\n",
       "      <td>{'object': [], 'attribute': [], 'relationship'...</td>\n",
       "      <td>train</td>\n",
       "      <td>vqa_1_clean</td>\n",
       "    </tr>\n",
       "    <tr>\n",
       "      <th>1</th>\n",
       "      <td>40271</td>\n",
       "      <td>post</td>\n",
       "      <td>{'id': '001000300', 'source': 'GQA'}</td>\n",
       "      <td>{}</td>\n",
       "      <td>[]</td>\n",
       "      <td>What is the answer to the following question? ...</td>\n",
       "      <td>2411114</td>\n",
       "      <td>post</td>\n",
       "      <td>{'object': [], 'attribute': [], 'relationship'...</td>\n",
       "      <td>train</td>\n",
       "      <td>vqa_2_clean</td>\n",
       "    </tr>\n",
       "    <tr>\n",
       "      <th>2</th>\n",
       "      <td>40272</td>\n",
       "      <td>left</td>\n",
       "      <td>{'id': '001015025', 'source': 'GQA'}</td>\n",
       "      <td>{}</td>\n",
       "      <td>[]</td>\n",
       "      <td>Is the book to the right or to the left of the...</td>\n",
       "      <td>2387711</td>\n",
       "      <td>left</td>\n",
       "      <td>{'object': [], 'attribute': [], 'relationship'...</td>\n",
       "      <td>train</td>\n",
       "      <td>vqa_4_clean</td>\n",
       "    </tr>\n",
       "    <tr>\n",
       "      <th>3</th>\n",
       "      <td>40273</td>\n",
       "      <td>book</td>\n",
       "      <td>{'id': '001015051', 'source': 'GQA'}</td>\n",
       "      <td>{}</td>\n",
       "      <td>[]</td>\n",
       "      <td>What is the answer to the following question? ...</td>\n",
       "      <td>2387711</td>\n",
       "      <td>book</td>\n",
       "      <td>{'object': [], 'attribute': [], 'relationship'...</td>\n",
       "      <td>train</td>\n",
       "      <td>vqa_5_clean</td>\n",
       "    </tr>\n",
       "    <tr>\n",
       "      <th>4</th>\n",
       "      <td>40274</td>\n",
       "      <td>blue</td>\n",
       "      <td>{'id': '001017949', 'source': 'GQA'}</td>\n",
       "      <td>{}</td>\n",
       "      <td>[]</td>\n",
       "      <td>Based on the image, respond to this question w...</td>\n",
       "      <td>2408027</td>\n",
       "      <td>blue</td>\n",
       "      <td>{'object': [], 'attribute': [], 'relationship'...</td>\n",
       "      <td>train</td>\n",
       "      <td>vqa_6_clean</td>\n",
       "    </tr>\n",
       "  </tbody>\n",
       "</table>\n",
       "</div>"
      ],
      "text/plain": [
       "   Unnamed: 0 source_text                       source_metadata qa_metadata  \\\n",
       "0       40270       right  {'id': '001000255', 'source': 'GQA'}          {}   \n",
       "1       40271        post  {'id': '001000300', 'source': 'GQA'}          {}   \n",
       "2       40272        left  {'id': '001015025', 'source': 'GQA'}          {}   \n",
       "3       40273        book  {'id': '001015051', 'source': 'GQA'}          {}   \n",
       "4       40274        blue  {'id': '001017949', 'source': 'GQA'}          {}   \n",
       "\n",
       "  qa_ids                                             prompt  image_id  \\\n",
       "0     []  Use the provided image to answer the question:...   2411114   \n",
       "1     []  What is the answer to the following question? ...   2411114   \n",
       "2     []  Is the book to the right or to the left of the...   2387711   \n",
       "3     []  What is the answer to the following question? ...   2387711   \n",
       "4     []  Based on the image, respond to this question w...   2408027   \n",
       "\n",
       "  hallucinated_text                                        annotations  split  \\\n",
       "0             right  {'object': [], 'attribute': [], 'relationship'...  train   \n",
       "1              post  {'object': [], 'attribute': [], 'relationship'...  train   \n",
       "2              left  {'object': [], 'attribute': [], 'relationship'...  train   \n",
       "3              book  {'object': [], 'attribute': [], 'relationship'...  train   \n",
       "4              blue  {'object': [], 'attribute': [], 'relationship'...  train   \n",
       "\n",
       "            id  \n",
       "0  vqa_1_clean  \n",
       "1  vqa_2_clean  \n",
       "2  vqa_4_clean  \n",
       "3  vqa_5_clean  \n",
       "4  vqa_6_clean  "
      ]
     },
     "execution_count": 46,
     "metadata": {},
     "output_type": "execute_result"
    }
   ],
   "source": [
    "ramian_data.head(5)"
   ]
  },
  {
   "cell_type": "code",
   "execution_count": 47,
   "id": "e974cd04",
   "metadata": {},
   "outputs": [],
   "source": [
    "ramian_data[\"prompt\"] = ramian_data[\"prompt\"].apply(lambda x: x.replace(\"<image>\",\"\"))"
   ]
  },
  {
   "cell_type": "code",
   "execution_count": 48,
   "id": "f2d7f618",
   "metadata": {},
   "outputs": [],
   "source": [
    "ramian_data = ramian_data[[\"image_id\", \"prompt\", \"hallucinated_text\", \"annotations\"]]"
   ]
  },
  {
   "cell_type": "code",
   "execution_count": 49,
   "id": "69e7dd68",
   "metadata": {},
   "outputs": [
    {
     "data": {
      "text/html": [
       "<div>\n",
       "<style scoped>\n",
       "    .dataframe tbody tr th:only-of-type {\n",
       "        vertical-align: middle;\n",
       "    }\n",
       "\n",
       "    .dataframe tbody tr th {\n",
       "        vertical-align: top;\n",
       "    }\n",
       "\n",
       "    .dataframe thead th {\n",
       "        text-align: right;\n",
       "    }\n",
       "</style>\n",
       "<table border=\"1\" class=\"dataframe\">\n",
       "  <thead>\n",
       "    <tr style=\"text-align: right;\">\n",
       "      <th></th>\n",
       "      <th>image_id</th>\n",
       "      <th>prompt</th>\n",
       "      <th>hallucinated_text</th>\n",
       "      <th>annotations</th>\n",
       "    </tr>\n",
       "  </thead>\n",
       "  <tbody>\n",
       "    <tr>\n",
       "      <th>0</th>\n",
       "      <td>2411114</td>\n",
       "      <td>Use the provided image to answer the question:...</td>\n",
       "      <td>right</td>\n",
       "      <td>{'object': [], 'attribute': [], 'relationship'...</td>\n",
       "    </tr>\n",
       "    <tr>\n",
       "      <th>1</th>\n",
       "      <td>2411114</td>\n",
       "      <td>What is the answer to the following question? ...</td>\n",
       "      <td>post</td>\n",
       "      <td>{'object': [], 'attribute': [], 'relationship'...</td>\n",
       "    </tr>\n",
       "  </tbody>\n",
       "</table>\n",
       "</div>"
      ],
      "text/plain": [
       "   image_id                                             prompt  \\\n",
       "0   2411114  Use the provided image to answer the question:...   \n",
       "1   2411114  What is the answer to the following question? ...   \n",
       "\n",
       "  hallucinated_text                                        annotations  \n",
       "0             right  {'object': [], 'attribute': [], 'relationship'...  \n",
       "1              post  {'object': [], 'attribute': [], 'relationship'...  "
      ]
     },
     "execution_count": 49,
     "metadata": {},
     "output_type": "execute_result"
    }
   ],
   "source": [
    "ramian_data.head(2)"
   ]
  },
  {
   "cell_type": "code",
   "execution_count": 50,
   "id": "085b52bc",
   "metadata": {},
   "outputs": [],
   "source": [
    "all_hal_cand = []\n",
    "\n",
    "for anot in ramian_data[\"annotations\"]:\n",
    "    res = eval(anot)\n",
    "    hal_cand = []\n",
    "    for val in res.values():\n",
    "        for i in val:\n",
    "            for j in list(i.values()):\n",
    "                token =  j['name']\n",
    "                hal_cand.append(token)\n",
    "    all_hal_cand.append(list(set(hal_cand)))"
   ]
  },
  {
   "cell_type": "code",
   "execution_count": 51,
   "id": "c4f2d7b5",
   "metadata": {},
   "outputs": [
    {
     "name": "stderr",
     "output_type": "stream",
     "text": [
      "/tmp/ipykernel_3919724/1222014100.py:1: SettingWithCopyWarning: \n",
      "A value is trying to be set on a copy of a slice from a DataFrame.\n",
      "Try using .loc[row_indexer,col_indexer] = value instead\n",
      "\n",
      "See the caveats in the documentation: https://pandas.pydata.org/pandas-docs/stable/user_guide/indexing.html#returning-a-view-versus-a-copy\n",
      "  ramian_data[\"hallucination_candidates\"] = all_hal_cand\n",
      "/tmp/ipykernel_3919724/1222014100.py:2: SettingWithCopyWarning: \n",
      "A value is trying to be set on a copy of a slice from a DataFrame.\n",
      "Try using .loc[row_indexer,col_indexer] = value instead\n",
      "\n",
      "See the caveats in the documentation: https://pandas.pydata.org/pandas-docs/stable/user_guide/indexing.html#returning-a-view-versus-a-copy\n",
      "  ramian_data[\"candidates\"] = [[i] for i in ramian_data[\"hallucinated_text\"]]\n"
     ]
    }
   ],
   "source": [
    "ramian_data[\"hallucination_candidates\"] = all_hal_cand\n",
    "ramian_data[\"candidates\"] = [[i] for i in ramian_data[\"hallucinated_text\"]]\n"
   ]
  },
  {
   "cell_type": "code",
   "execution_count": 52,
   "id": "00c8939d",
   "metadata": {},
   "outputs": [
    {
     "name": "stderr",
     "output_type": "stream",
     "text": [
      "/tmp/ipykernel_3919724/643254796.py:1: SettingWithCopyWarning: \n",
      "A value is trying to be set on a copy of a slice from a DataFrame\n",
      "\n",
      "See the caveats in the documentation: https://pandas.pydata.org/pandas-docs/stable/user_guide/indexing.html#returning-a-view-versus-a-copy\n",
      "  ramian_data.drop(columns=[\"annotations\"], inplace=True)\n"
     ]
    }
   ],
   "source": [
    "ramian_data.drop(columns=[\"annotations\"], inplace=True)"
   ]
  },
  {
   "cell_type": "code",
   "execution_count": 53,
   "id": "c3036d0b",
   "metadata": {},
   "outputs": [
    {
     "data": {
      "text/html": [
       "<div>\n",
       "<style scoped>\n",
       "    .dataframe tbody tr th:only-of-type {\n",
       "        vertical-align: middle;\n",
       "    }\n",
       "\n",
       "    .dataframe tbody tr th {\n",
       "        vertical-align: top;\n",
       "    }\n",
       "\n",
       "    .dataframe thead th {\n",
       "        text-align: right;\n",
       "    }\n",
       "</style>\n",
       "<table border=\"1\" class=\"dataframe\">\n",
       "  <thead>\n",
       "    <tr style=\"text-align: right;\">\n",
       "      <th></th>\n",
       "      <th>image_id</th>\n",
       "      <th>prompt</th>\n",
       "      <th>hallucinated_text</th>\n",
       "      <th>hallucination_candidates</th>\n",
       "      <th>candidates</th>\n",
       "    </tr>\n",
       "  </thead>\n",
       "  <tbody>\n",
       "    <tr>\n",
       "      <th>0</th>\n",
       "      <td>2411114</td>\n",
       "      <td>Use the provided image to answer the question:...</td>\n",
       "      <td>right</td>\n",
       "      <td>[]</td>\n",
       "      <td>[right]</td>\n",
       "    </tr>\n",
       "    <tr>\n",
       "      <th>1</th>\n",
       "      <td>2411114</td>\n",
       "      <td>What is the answer to the following question? ...</td>\n",
       "      <td>post</td>\n",
       "      <td>[]</td>\n",
       "      <td>[post]</td>\n",
       "    </tr>\n",
       "  </tbody>\n",
       "</table>\n",
       "</div>"
      ],
      "text/plain": [
       "   image_id                                             prompt  \\\n",
       "0   2411114  Use the provided image to answer the question:...   \n",
       "1   2411114  What is the answer to the following question? ...   \n",
       "\n",
       "  hallucinated_text hallucination_candidates candidates  \n",
       "0             right                       []    [right]  \n",
       "1              post                       []     [post]  "
      ]
     },
     "execution_count": 53,
     "metadata": {},
     "output_type": "execute_result"
    }
   ],
   "source": [
    "ramian_data.head(2)"
   ]
  },
  {
   "cell_type": "code",
   "execution_count": 54,
   "id": "c0bf27e3",
   "metadata": {},
   "outputs": [],
   "source": [
    "ramian_data.columns = [\"image_path\", \"question\", \"answer\", \"hallucination_candidates\", \"candidates\"]\n"
   ]
  },
  {
   "cell_type": "code",
   "execution_count": 55,
   "id": "d615eee2",
   "metadata": {},
   "outputs": [
    {
     "data": {
      "text/html": [
       "<div>\n",
       "<style scoped>\n",
       "    .dataframe tbody tr th:only-of-type {\n",
       "        vertical-align: middle;\n",
       "    }\n",
       "\n",
       "    .dataframe tbody tr th {\n",
       "        vertical-align: top;\n",
       "    }\n",
       "\n",
       "    .dataframe thead th {\n",
       "        text-align: right;\n",
       "    }\n",
       "</style>\n",
       "<table border=\"1\" class=\"dataframe\">\n",
       "  <thead>\n",
       "    <tr style=\"text-align: right;\">\n",
       "      <th></th>\n",
       "      <th>image_path</th>\n",
       "      <th>question</th>\n",
       "      <th>answer</th>\n",
       "      <th>hallucination_candidates</th>\n",
       "      <th>candidates</th>\n",
       "    </tr>\n",
       "  </thead>\n",
       "  <tbody>\n",
       "    <tr>\n",
       "      <th>0</th>\n",
       "      <td>2411114</td>\n",
       "      <td>Use the provided image to answer the question:...</td>\n",
       "      <td>right</td>\n",
       "      <td>[]</td>\n",
       "      <td>[right]</td>\n",
       "    </tr>\n",
       "    <tr>\n",
       "      <th>1</th>\n",
       "      <td>2411114</td>\n",
       "      <td>What is the answer to the following question? ...</td>\n",
       "      <td>post</td>\n",
       "      <td>[]</td>\n",
       "      <td>[post]</td>\n",
       "    </tr>\n",
       "  </tbody>\n",
       "</table>\n",
       "</div>"
      ],
      "text/plain": [
       "   image_path                                           question answer  \\\n",
       "0     2411114  Use the provided image to answer the question:...  right   \n",
       "1     2411114  What is the answer to the following question? ...   post   \n",
       "\n",
       "  hallucination_candidates candidates  \n",
       "0                       []    [right]  \n",
       "1                       []     [post]  "
      ]
     },
     "execution_count": 55,
     "metadata": {},
     "output_type": "execute_result"
    }
   ],
   "source": [
    "ramian_data.head(2)"
   ]
  },
  {
   "cell_type": "code",
   "execution_count": 57,
   "id": "a6a64ab3",
   "metadata": {},
   "outputs": [],
   "source": [
    "hal_inx = []\n",
    "\n",
    "for inx, row in ramian_data.iterrows():\n",
    "    hal_spans = find_word_spans(\n",
    "        text=row[\"answer\"].lower(),\n",
    "        terms=[i.lower() for i in row[\"candidates\"]])\n",
    "    hal_inx.append(hal_spans)\n",
    "    "
   ]
  },
  {
   "cell_type": "code",
   "execution_count": 58,
   "id": "87487e64",
   "metadata": {},
   "outputs": [
    {
     "name": "stderr",
     "output_type": "stream",
     "text": [
      "/tmp/ipykernel_3919724/4104138947.py:1: SettingWithCopyWarning: \n",
      "A value is trying to be set on a copy of a slice from a DataFrame.\n",
      "Try using .loc[row_indexer,col_indexer] = value instead\n",
      "\n",
      "See the caveats in the documentation: https://pandas.pydata.org/pandas-docs/stable/user_guide/indexing.html#returning-a-view-versus-a-copy\n",
      "  ramian_data[\"candidates_inx\"] = hal_inx\n"
     ]
    }
   ],
   "source": [
    "ramian_data[\"candidates_inx\"] = hal_inx"
   ]
  },
  {
   "cell_type": "code",
   "execution_count": 59,
   "id": "b29f14ff",
   "metadata": {},
   "outputs": [
    {
     "data": {
      "text/html": [
       "<div>\n",
       "<style scoped>\n",
       "    .dataframe tbody tr th:only-of-type {\n",
       "        vertical-align: middle;\n",
       "    }\n",
       "\n",
       "    .dataframe tbody tr th {\n",
       "        vertical-align: top;\n",
       "    }\n",
       "\n",
       "    .dataframe thead th {\n",
       "        text-align: right;\n",
       "    }\n",
       "</style>\n",
       "<table border=\"1\" class=\"dataframe\">\n",
       "  <thead>\n",
       "    <tr style=\"text-align: right;\">\n",
       "      <th></th>\n",
       "      <th>image_path</th>\n",
       "      <th>question</th>\n",
       "      <th>answer</th>\n",
       "      <th>hallucination_candidates</th>\n",
       "      <th>candidates</th>\n",
       "      <th>candidates_inx</th>\n",
       "    </tr>\n",
       "  </thead>\n",
       "  <tbody>\n",
       "    <tr>\n",
       "      <th>0</th>\n",
       "      <td>2411114</td>\n",
       "      <td>Use the provided image to answer the question:...</td>\n",
       "      <td>right</td>\n",
       "      <td>[]</td>\n",
       "      <td>[right]</td>\n",
       "      <td>{'right': [(0, 5)]}</td>\n",
       "    </tr>\n",
       "    <tr>\n",
       "      <th>1</th>\n",
       "      <td>2411114</td>\n",
       "      <td>What is the answer to the following question? ...</td>\n",
       "      <td>post</td>\n",
       "      <td>[]</td>\n",
       "      <td>[post]</td>\n",
       "      <td>{'post': [(0, 4)]}</td>\n",
       "    </tr>\n",
       "  </tbody>\n",
       "</table>\n",
       "</div>"
      ],
      "text/plain": [
       "   image_path                                           question answer  \\\n",
       "0     2411114  Use the provided image to answer the question:...  right   \n",
       "1     2411114  What is the answer to the following question? ...   post   \n",
       "\n",
       "  hallucination_candidates candidates       candidates_inx  \n",
       "0                       []    [right]  {'right': [(0, 5)]}  \n",
       "1                       []     [post]   {'post': [(0, 4)]}  "
      ]
     },
     "execution_count": 59,
     "metadata": {},
     "output_type": "execute_result"
    }
   ],
   "source": [
    "ramian_data.head(2)"
   ]
  },
  {
   "cell_type": "code",
   "execution_count": 60,
   "id": "f6e10fae",
   "metadata": {},
   "outputs": [
    {
     "name": "stderr",
     "output_type": "stream",
     "text": [
      "/tmp/ipykernel_3919724/308830470.py:1: SettingWithCopyWarning: \n",
      "A value is trying to be set on a copy of a slice from a DataFrame.\n",
      "Try using .loc[row_indexer,col_indexer] = value instead\n",
      "\n",
      "See the caveats in the documentation: https://pandas.pydata.org/pandas-docs/stable/user_guide/indexing.html#returning-a-view-versus-a-copy\n",
      "  ramian_data[\"image_path\"] = ramian_data[\"image_path\"].apply(lambda x: str(x)+ \".jpg\")\n"
     ]
    }
   ],
   "source": [
    "ramian_data[\"image_path\"] = ramian_data[\"image_path\"].apply(lambda x: str(x)+ \".jpg\")"
   ]
  },
  {
   "cell_type": "code",
   "execution_count": 61,
   "id": "af0ca08a",
   "metadata": {},
   "outputs": [
    {
     "data": {
      "text/html": [
       "<div>\n",
       "<style scoped>\n",
       "    .dataframe tbody tr th:only-of-type {\n",
       "        vertical-align: middle;\n",
       "    }\n",
       "\n",
       "    .dataframe tbody tr th {\n",
       "        vertical-align: top;\n",
       "    }\n",
       "\n",
       "    .dataframe thead th {\n",
       "        text-align: right;\n",
       "    }\n",
       "</style>\n",
       "<table border=\"1\" class=\"dataframe\">\n",
       "  <thead>\n",
       "    <tr style=\"text-align: right;\">\n",
       "      <th></th>\n",
       "      <th>image_path</th>\n",
       "      <th>question</th>\n",
       "      <th>answer</th>\n",
       "      <th>hallucination_candidates</th>\n",
       "      <th>candidates</th>\n",
       "      <th>candidates_inx</th>\n",
       "    </tr>\n",
       "  </thead>\n",
       "  <tbody>\n",
       "    <tr>\n",
       "      <th>0</th>\n",
       "      <td>2411114.jpg</td>\n",
       "      <td>Use the provided image to answer the question:...</td>\n",
       "      <td>right</td>\n",
       "      <td>[]</td>\n",
       "      <td>[right]</td>\n",
       "      <td>{'right': [(0, 5)]}</td>\n",
       "    </tr>\n",
       "    <tr>\n",
       "      <th>1</th>\n",
       "      <td>2411114.jpg</td>\n",
       "      <td>What is the answer to the following question? ...</td>\n",
       "      <td>post</td>\n",
       "      <td>[]</td>\n",
       "      <td>[post]</td>\n",
       "      <td>{'post': [(0, 4)]}</td>\n",
       "    </tr>\n",
       "  </tbody>\n",
       "</table>\n",
       "</div>"
      ],
      "text/plain": [
       "    image_path                                           question answer  \\\n",
       "0  2411114.jpg  Use the provided image to answer the question:...  right   \n",
       "1  2411114.jpg  What is the answer to the following question? ...   post   \n",
       "\n",
       "  hallucination_candidates candidates       candidates_inx  \n",
       "0                       []    [right]  {'right': [(0, 5)]}  \n",
       "1                       []     [post]   {'post': [(0, 4)]}  "
      ]
     },
     "execution_count": 61,
     "metadata": {},
     "output_type": "execute_result"
    }
   ],
   "source": [
    "ramian_data.head(2)"
   ]
  },
  {
   "cell_type": "code",
   "execution_count": 62,
   "id": "ae22656b",
   "metadata": {},
   "outputs": [
    {
     "data": {
      "text/plain": [
       "(40270, 6)"
      ]
     },
     "execution_count": 62,
     "metadata": {},
     "output_type": "execute_result"
    }
   ],
   "source": [
    "ramian_data.shape"
   ]
  },
  {
   "cell_type": "code",
   "execution_count": 63,
   "id": "68caa29d",
   "metadata": {},
   "outputs": [],
   "source": [
    "ramian_data.to_csv(\"/Data2/Arun-UAV/NLP/vision_halu/haloc/haloc_extension/vqa/tn_data.csv\", index=False)"
   ]
  },
  {
   "cell_type": "code",
   "execution_count": 22,
   "id": "81b1e12d",
   "metadata": {},
   "outputs": [],
   "source": [
    "data = pd.read_csv(\"/Data2/Arun-UAV/NLP/vision_halu/haloc/haloc_extension/caption/gemini_labeled_28k.csv\")"
   ]
  },
  {
   "cell_type": "code",
   "execution_count": 29,
   "id": "65a69b50",
   "metadata": {},
   "outputs": [],
   "source": [
    "tar_paths = [\"/Data2/Arun-UAV/NLP/vision_halu/haloc/haloc_extension/caption/gemini_labeled_28k.csv\",\n",
    "             \"/Data2/Arun-UAV/NLP/vision_halu/haloc/haloc_extension/caption/original_unsampled_14k.csv\",\n",
    "             \"/Data2/Arun-UAV/NLP/vision_halu/haloc/haloc_extension/instruct/gemini_labeled_40k.csv\",\n",
    "             \"/Data2/Arun-UAV/NLP/vision_halu/haloc/haloc_extension/instruct/original_unsampled_20k.csv\",\n",
    "             \"/Data2/Arun-UAV/NLP/vision_halu/haloc/haloc_extension/vqa/tn_data.csv\",\n",
    "             \"/Data2/Arun-UAV/NLP/vision_halu/haloc/haloc_extension/vqa/tp_data.csv\"\n",
    "             ]"
   ]
  },
  {
   "cell_type": "code",
   "execution_count": 30,
   "id": "aa715689",
   "metadata": {},
   "outputs": [],
   "source": [
    "from uuid import uuid4\n",
    "\n",
    "for path in tar_paths:\n",
    "    data = pd.read_csv(path)\n",
    "    img_folder = \"/Data2/Arun-UAV/NLP/vision_halu/visual_genome/target_images/\"\n",
    "\n",
    "    data = data.rename(columns={\"image_path\": \"image_id\"})\n",
    "    data[\"image_path\"] = data[\"image_id\"].apply(lambda x: img_folder + x)\n",
    "    data[\"question_id\"] = [str(uuid4()) for _ in range(len(data))]\n",
    "    \n",
    "    data.to_csv(path, index=False)"
   ]
  },
  {
   "cell_type": "code",
   "execution_count": 44,
   "id": "bc8e9439",
   "metadata": {},
   "outputs": [
    {
     "data": {
      "text/html": [
       "<div>\n",
       "<style scoped>\n",
       "    .dataframe tbody tr th:only-of-type {\n",
       "        vertical-align: middle;\n",
       "    }\n",
       "\n",
       "    .dataframe tbody tr th {\n",
       "        vertical-align: top;\n",
       "    }\n",
       "\n",
       "    .dataframe thead th {\n",
       "        text-align: right;\n",
       "    }\n",
       "</style>\n",
       "<table border=\"1\" class=\"dataframe\">\n",
       "  <thead>\n",
       "    <tr style=\"text-align: right;\">\n",
       "      <th></th>\n",
       "      <th>image_id</th>\n",
       "      <th>question</th>\n",
       "      <th>answer</th>\n",
       "      <th>candidates</th>\n",
       "      <th>hallucination_candidates</th>\n",
       "      <th>candidates_inx</th>\n",
       "      <th>hallucination_candidates_inx</th>\n",
       "      <th>image_path</th>\n",
       "      <th>question_id</th>\n",
       "    </tr>\n",
       "  </thead>\n",
       "  <tbody>\n",
       "    <tr>\n",
       "      <th>0</th>\n",
       "      <td>2381430.jpg</td>\n",
       "      <td>What do you think is going on in this snapshot?</td>\n",
       "      <td>In this picture we can see one woman is holdin...</td>\n",
       "      <td>['holding', 'playing', 'fencing', 'tennis', 'b...</td>\n",
       "      <td>['bat']</td>\n",
       "      <td>{'holding': [(40, 47)], 'playing': [(58, 65)],...</td>\n",
       "      <td>{'bat': [(50, 53)]}</td>\n",
       "      <td>/Data2/Arun-UAV/NLP/vision_halu/visual_genome/...</td>\n",
       "      <td>10850c51-bdb5-4a1d-9739-a72f955e84a7</td>\n",
       "    </tr>\n",
       "    <tr>\n",
       "      <th>1</th>\n",
       "      <td>2381430.jpg</td>\n",
       "      <td>What do you think is going on in this snapshot?</td>\n",
       "      <td>In this picture we can see one woman is holdin...</td>\n",
       "      <td>['ground', 'holding', 'playing', 'fencing', 't...</td>\n",
       "      <td>['frisbee', 'bat']</td>\n",
       "      <td>{'ground': [(114, 120)], 'holding': [(40, 47)]...</td>\n",
       "      <td>{'frisbee': [(99, 106)], 'bat': [(50, 53)]}</td>\n",
       "      <td>/Data2/Arun-UAV/NLP/vision_halu/visual_genome/...</td>\n",
       "      <td>78581d22-2e82-439a-987f-2504e3642904</td>\n",
       "    </tr>\n",
       "  </tbody>\n",
       "</table>\n",
       "</div>"
      ],
      "text/plain": [
       "      image_id                                         question  \\\n",
       "0  2381430.jpg  What do you think is going on in this snapshot?   \n",
       "1  2381430.jpg  What do you think is going on in this snapshot?   \n",
       "\n",
       "                                              answer  \\\n",
       "0  In this picture we can see one woman is holdin...   \n",
       "1  In this picture we can see one woman is holdin...   \n",
       "\n",
       "                                          candidates hallucination_candidates  \\\n",
       "0  ['holding', 'playing', 'fencing', 'tennis', 'b...                  ['bat']   \n",
       "1  ['ground', 'holding', 'playing', 'fencing', 't...       ['frisbee', 'bat']   \n",
       "\n",
       "                                      candidates_inx  \\\n",
       "0  {'holding': [(40, 47)], 'playing': [(58, 65)],...   \n",
       "1  {'ground': [(114, 120)], 'holding': [(40, 47)]...   \n",
       "\n",
       "                  hallucination_candidates_inx  \\\n",
       "0                          {'bat': [(50, 53)]}   \n",
       "1  {'frisbee': [(99, 106)], 'bat': [(50, 53)]}   \n",
       "\n",
       "                                          image_path  \\\n",
       "0  /Data2/Arun-UAV/NLP/vision_halu/visual_genome/...   \n",
       "1  /Data2/Arun-UAV/NLP/vision_halu/visual_genome/...   \n",
       "\n",
       "                            question_id  \n",
       "0  10850c51-bdb5-4a1d-9739-a72f955e84a7  \n",
       "1  78581d22-2e82-439a-987f-2504e3642904  "
      ]
     },
     "execution_count": 44,
     "metadata": {},
     "output_type": "execute_result"
    }
   ],
   "source": [
    "pd.read_csv(tar_paths[0]).head(2)"
   ]
  },
  {
   "cell_type": "code",
   "execution_count": 1,
   "id": "74248e81",
   "metadata": {},
   "outputs": [
    {
     "data": {
      "text/plain": [
       "0.084228515625"
      ]
     },
     "execution_count": 1,
     "metadata": {},
     "output_type": "execute_result"
    }
   ],
   "source": [
    "(4096*690*16*2/1024**3)"
   ]
  },
  {
   "cell_type": "code",
   "execution_count": 6,
   "id": "5f3e2c24",
   "metadata": {},
   "outputs": [
    {
     "data": {
      "text/plain": [
       "True"
      ]
     },
     "execution_count": 6,
     "metadata": {},
     "output_type": "execute_result"
    }
   ],
   "source": [
    "text_1 == text_2"
   ]
  },
  {
   "cell_type": "code",
   "execution_count": null,
   "id": "c95a37a7",
   "metadata": {},
   "outputs": [],
   "source": []
  }
 ],
 "metadata": {
  "kernelspec": {
   "display_name": "shdm",
   "language": "python",
   "name": "python3"
  },
  "language_info": {
   "codemirror_mode": {
    "name": "ipython",
    "version": 3
   },
   "file_extension": ".py",
   "mimetype": "text/x-python",
   "name": "python",
   "nbconvert_exporter": "python",
   "pygments_lexer": "ipython3",
   "version": "3.10.18"
  }
 },
 "nbformat": 4,
 "nbformat_minor": 5
}
