{
 "cells": [
  {
   "cell_type": "code",
   "execution_count": 38,
   "id": "b4cccd3a",
   "metadata": {},
   "outputs": [],
   "source": [
    "import numpy as np\n",
    "import pandas as pd"
   ]
  },
  {
   "cell_type": "code",
   "execution_count": 3,
   "id": "0cc32363",
   "metadata": {},
   "outputs": [],
   "source": [
    "data = pd.read_csv(\"/Data2/Arun-UAV/NLP/vision_halu/haloc/train_dataset/caption/tp_test.csv\")"
   ]
  },
  {
   "cell_type": "code",
   "execution_count": 4,
   "id": "4d9f3d9b",
   "metadata": {},
   "outputs": [
    {
     "data": {
      "text/html": [
       "<div>\n",
       "<style scoped>\n",
       "    .dataframe tbody tr th:only-of-type {\n",
       "        vertical-align: middle;\n",
       "    }\n",
       "\n",
       "    .dataframe tbody tr th {\n",
       "        vertical-align: top;\n",
       "    }\n",
       "\n",
       "    .dataframe thead th {\n",
       "        text-align: right;\n",
       "    }\n",
       "</style>\n",
       "<table border=\"1\" class=\"dataframe\">\n",
       "  <thead>\n",
       "    <tr style=\"text-align: right;\">\n",
       "      <th></th>\n",
       "      <th>Unnamed: 0</th>\n",
       "      <th>image_id</th>\n",
       "      <th>prompt</th>\n",
       "      <th>hallucinated_text</th>\n",
       "      <th>source_text</th>\n",
       "      <th>source_metadata</th>\n",
       "      <th>qa_metadata</th>\n",
       "      <th>qa_ids</th>\n",
       "      <th>annotations</th>\n",
       "      <th>id</th>\n",
       "      <th>split</th>\n",
       "    </tr>\n",
       "  </thead>\n",
       "  <tbody>\n",
       "    <tr>\n",
       "      <th>0</th>\n",
       "      <td>64796</td>\n",
       "      <td>2391368</td>\n",
       "      <td>&lt;image&gt;Can you describe the main features of t...</td>\n",
       "      <td>In this image, there are some boxes that conta...</td>\n",
       "      <td>In this image, there are some boxes contains f...</td>\n",
       "      <td>{'source': 'localized_narratives', 'id': 'sp_2...</td>\n",
       "      <td>[]</td>\n",
       "      <td>['001006084']</td>\n",
       "      <td>{'object': [], 'attribute': [{'attribute': {'n...</td>\n",
       "      <td>caption_4</td>\n",
       "      <td>test</td>\n",
       "    </tr>\n",
       "    <tr>\n",
       "      <th>1</th>\n",
       "      <td>64797</td>\n",
       "      <td>2375207</td>\n",
       "      <td>&lt;image&gt;Write a detailed description of the giv...</td>\n",
       "      <td>A man is wearing a white uniform. He is wearin...</td>\n",
       "      <td>A man is wearing a white uniform. He is wearin...</td>\n",
       "      <td>{'source': 'stanford', 'id': 'sp_30231'}</td>\n",
       "      <td>[]</td>\n",
       "      <td>['001021520']</td>\n",
       "      <td>{'object': [], 'attribute': [{'attribute': {'n...</td>\n",
       "      <td>caption_11</td>\n",
       "      <td>test</td>\n",
       "    </tr>\n",
       "  </tbody>\n",
       "</table>\n",
       "</div>"
      ],
      "text/plain": [
       "   Unnamed: 0  image_id                                             prompt  \\\n",
       "0       64796   2391368  <image>Can you describe the main features of t...   \n",
       "1       64797   2375207  <image>Write a detailed description of the giv...   \n",
       "\n",
       "                                   hallucinated_text  \\\n",
       "0  In this image, there are some boxes that conta...   \n",
       "1  A man is wearing a white uniform. He is wearin...   \n",
       "\n",
       "                                         source_text  \\\n",
       "0  In this image, there are some boxes contains f...   \n",
       "1  A man is wearing a white uniform. He is wearin...   \n",
       "\n",
       "                                     source_metadata qa_metadata  \\\n",
       "0  {'source': 'localized_narratives', 'id': 'sp_2...          []   \n",
       "1           {'source': 'stanford', 'id': 'sp_30231'}          []   \n",
       "\n",
       "          qa_ids                                        annotations  \\\n",
       "0  ['001006084']  {'object': [], 'attribute': [{'attribute': {'n...   \n",
       "1  ['001021520']  {'object': [], 'attribute': [{'attribute': {'n...   \n",
       "\n",
       "           id split  \n",
       "0   caption_4  test  \n",
       "1  caption_11  test  "
      ]
     },
     "execution_count": 4,
     "metadata": {},
     "output_type": "execute_result"
    }
   ],
   "source": [
    "data.head(2)"
   ]
  },
  {
   "cell_type": "code",
   "execution_count": 2,
   "id": "713f4187",
   "metadata": {},
   "outputs": [],
   "source": [
    "data = pd.read_csv('/Data2/Arun-UAV/NLP/vision_halu/haloc/haloc_extension/instruct/gemini_labeled_40k.csv')"
   ]
  },
  {
   "cell_type": "code",
   "execution_count": 3,
   "id": "727e3b09",
   "metadata": {},
   "outputs": [
    {
     "data": {
      "text/html": [
       "<div>\n",
       "<style scoped>\n",
       "    .dataframe tbody tr th:only-of-type {\n",
       "        vertical-align: middle;\n",
       "    }\n",
       "\n",
       "    .dataframe tbody tr th {\n",
       "        vertical-align: top;\n",
       "    }\n",
       "\n",
       "    .dataframe thead th {\n",
       "        text-align: right;\n",
       "    }\n",
       "</style>\n",
       "<table border=\"1\" class=\"dataframe\">\n",
       "  <thead>\n",
       "    <tr style=\"text-align: right;\">\n",
       "      <th></th>\n",
       "      <th>image_id</th>\n",
       "      <th>question</th>\n",
       "      <th>answer</th>\n",
       "      <th>candidates</th>\n",
       "      <th>hallucination_candidates</th>\n",
       "      <th>candidates_inx</th>\n",
       "      <th>hallucination_candidates_inx</th>\n",
       "      <th>image_path</th>\n",
       "      <th>question_id</th>\n",
       "    </tr>\n",
       "  </thead>\n",
       "  <tbody>\n",
       "    <tr>\n",
       "      <th>0</th>\n",
       "      <td>2317351.jpg</td>\n",
       "      <td>Describe the color of the hat.</td>\n",
       "      <td>The hat is blue.</td>\n",
       "      <td>['blue', 'hat']</td>\n",
       "      <td>['blue']</td>\n",
       "      <td>{'blue': [(11, 15)], 'hat': [(4, 7)]}</td>\n",
       "      <td>{'blue': [(11, 15)]}</td>\n",
       "      <td>/Data2/Arun-UAV/NLP/vision_halu/visual_genome/...</td>\n",
       "      <td>e7f137be-9190-42f0-a1b0-7486e8028fad</td>\n",
       "    </tr>\n",
       "    <tr>\n",
       "      <th>1</th>\n",
       "      <td>2317351.jpg</td>\n",
       "      <td>Describe the color of the hat.</td>\n",
       "      <td>The hat is gray.</td>\n",
       "      <td>['hat', 'gray']</td>\n",
       "      <td>['gray']</td>\n",
       "      <td>{'hat': [(4, 7)], 'gray': [(11, 15)]}</td>\n",
       "      <td>{'gray': [(11, 15)]}</td>\n",
       "      <td>/Data2/Arun-UAV/NLP/vision_halu/visual_genome/...</td>\n",
       "      <td>c9903799-0507-4102-84fe-3dcd587ae9e0</td>\n",
       "    </tr>\n",
       "  </tbody>\n",
       "</table>\n",
       "</div>"
      ],
      "text/plain": [
       "      image_id                        question            answer  \\\n",
       "0  2317351.jpg  Describe the color of the hat.  The hat is blue.   \n",
       "1  2317351.jpg  Describe the color of the hat.  The hat is gray.   \n",
       "\n",
       "        candidates hallucination_candidates  \\\n",
       "0  ['blue', 'hat']                 ['blue']   \n",
       "1  ['hat', 'gray']                 ['gray']   \n",
       "\n",
       "                          candidates_inx hallucination_candidates_inx  \\\n",
       "0  {'blue': [(11, 15)], 'hat': [(4, 7)]}         {'blue': [(11, 15)]}   \n",
       "1  {'hat': [(4, 7)], 'gray': [(11, 15)]}         {'gray': [(11, 15)]}   \n",
       "\n",
       "                                          image_path  \\\n",
       "0  /Data2/Arun-UAV/NLP/vision_halu/visual_genome/...   \n",
       "1  /Data2/Arun-UAV/NLP/vision_halu/visual_genome/...   \n",
       "\n",
       "                            question_id  \n",
       "0  e7f137be-9190-42f0-a1b0-7486e8028fad  \n",
       "1  c9903799-0507-4102-84fe-3dcd587ae9e0  "
      ]
     },
     "execution_count": 3,
     "metadata": {},
     "output_type": "execute_result"
    }
   ],
   "source": [
    "data.head(2)"
   ]
  },
  {
   "cell_type": "code",
   "execution_count": null,
   "id": "8eb3182f",
   "metadata": {},
   "outputs": [],
   "source": []
  },
  {
   "cell_type": "code",
   "execution_count": 29,
   "id": "65c4173a",
   "metadata": {},
   "outputs": [],
   "source": [
    "data[\"candidates\"] = data[\"candidates\"].apply(lambda x: list(set(eval(x))))\n",
    "data[\"hallucination_candidates\"] = data[\"hallucination_candidates\"].apply(lambda x: list(set(eval(x))))"
   ]
  },
  {
   "cell_type": "code",
   "execution_count": 30,
   "id": "f98c6526",
   "metadata": {},
   "outputs": [
    {
     "data": {
      "text/html": [
       "<div>\n",
       "<style scoped>\n",
       "    .dataframe tbody tr th:only-of-type {\n",
       "        vertical-align: middle;\n",
       "    }\n",
       "\n",
       "    .dataframe tbody tr th {\n",
       "        vertical-align: top;\n",
       "    }\n",
       "\n",
       "    .dataframe thead th {\n",
       "        text-align: right;\n",
       "    }\n",
       "</style>\n",
       "<table border=\"1\" class=\"dataframe\">\n",
       "  <thead>\n",
       "    <tr style=\"text-align: right;\">\n",
       "      <th></th>\n",
       "      <th>image_path</th>\n",
       "      <th>question</th>\n",
       "      <th>answer</th>\n",
       "      <th>candidates</th>\n",
       "      <th>hallucination_candidates</th>\n",
       "    </tr>\n",
       "  </thead>\n",
       "  <tbody>\n",
       "    <tr>\n",
       "      <th>0</th>\n",
       "      <td>2317351.jpg</td>\n",
       "      <td>Describe the color of the hat.</td>\n",
       "      <td>The hat is blue.</td>\n",
       "      <td>[blue, hat]</td>\n",
       "      <td>[blue]</td>\n",
       "    </tr>\n",
       "    <tr>\n",
       "      <th>1</th>\n",
       "      <td>2317351.jpg</td>\n",
       "      <td>Describe the color of the hat.</td>\n",
       "      <td>The hat is gray.</td>\n",
       "      <td>[hat, gray]</td>\n",
       "      <td>[gray]</td>\n",
       "    </tr>\n",
       "  </tbody>\n",
       "</table>\n",
       "</div>"
      ],
      "text/plain": [
       "    image_path                        question            answer   candidates  \\\n",
       "0  2317351.jpg  Describe the color of the hat.  The hat is blue.  [blue, hat]   \n",
       "1  2317351.jpg  Describe the color of the hat.  The hat is gray.  [hat, gray]   \n",
       "\n",
       "  hallucination_candidates  \n",
       "0                   [blue]  \n",
       "1                   [gray]  "
      ]
     },
     "execution_count": 30,
     "metadata": {},
     "output_type": "execute_result"
    }
   ],
   "source": [
    "data.head(2)"
   ]
  },
  {
   "cell_type": "code",
   "execution_count": 37,
   "id": "e12bcb33",
   "metadata": {},
   "outputs": [],
   "source": [
    "import re\n",
    "import unicodedata\n",
    "from typing import Dict, Iterable, List, Tuple\n",
    "\n",
    "def find_word_spans(\n",
    "    text: str,\n",
    "    terms: Iterable[str],\n",
    "    *,\n",
    "    case_sensitive: bool = False,\n",
    "    whole_word: bool = False,\n",
    "    overlapping: bool = False,\n",
    "    normalize_unicode: bool = True,\n",
    ") -> Dict[str, List[Tuple[int, int]]]:\n",
    "    \n",
    "    if normalize_unicode:\n",
    "        text = unicodedata.normalize(\"NFC\", text)\n",
    "\n",
    "    # Prepare result with original (possibly unnormalized) term strings as keys\n",
    "    results: Dict[str, List[Tuple[int, int]]] = {t: [] for t in terms if t}\n",
    "\n",
    "    # Build a working list of (orig_term, norm_term)\n",
    "    work_terms: List[Tuple[str, str]] = []\n",
    "    for t in terms:\n",
    "        if not t:\n",
    "            continue\n",
    "        t_norm = unicodedata.normalize(\"NFC\", t) if normalize_unicode else t\n",
    "        work_terms.append((t, t_norm))\n",
    "\n",
    "    flags = 0 if case_sensitive else re.IGNORECASE\n",
    "\n",
    "    for orig_term, norm_term in work_terms:\n",
    "        # Escape to match literal text\n",
    "        escaped = re.escape(norm_term)\n",
    "\n",
    "        if whole_word:\n",
    "            # Word boundaries only at the ends (so phrases are supported)\n",
    "            # Use (?<!\\w) and (?!\\w) instead of \\b to behave well inside lookaheads for overlapping.\n",
    "            core = f\"(?<!\\\\w){escaped}(?!\\\\w)\"\n",
    "        else:\n",
    "            core = escaped\n",
    "\n",
    "        if overlapping:\n",
    "            # Lookahead to capture overlapping starts.\n",
    "            # Put the core inside a capturing group so we can compute the end index.\n",
    "            pattern = re.compile(f\"(?=({core}))\", flags)\n",
    "            matches = pattern.finditer(text)\n",
    "            for m in matches:\n",
    "                start = m.start()\n",
    "                end = start + len(m.group(1))\n",
    "                results[orig_term].append((start, end))\n",
    "        else:\n",
    "            pattern = re.compile(core, flags)\n",
    "            matches = pattern.finditer(text)\n",
    "            for m in matches:\n",
    "                results[orig_term].append((m.start(), m.end()))\n",
    "\n",
    "    return results\n"
   ]
  },
  {
   "cell_type": "code",
   "execution_count": 4,
   "id": "2623c7b8",
   "metadata": {},
   "outputs": [
    {
     "ename": "NameError",
     "evalue": "name 'data' is not defined",
     "output_type": "error",
     "traceback": [
      "\u001b[0;31m---------------------------------------------------------------------------\u001b[0m",
      "\u001b[0;31mNameError\u001b[0m                                 Traceback (most recent call last)",
      "Cell \u001b[0;32mIn[4], line 1\u001b[0m\n\u001b[0;32m----> 1\u001b[0m \u001b[43mdata\u001b[49m\u001b[38;5;241m.\u001b[39mhead(\u001b[38;5;241m2\u001b[39m)\n",
      "\u001b[0;31mNameError\u001b[0m: name 'data' is not defined"
     ]
    }
   ],
   "source": [
    "data.head(2)"
   ]
  },
  {
   "cell_type": "code",
   "execution_count": 33,
   "id": "28196733",
   "metadata": {},
   "outputs": [],
   "source": [
    "candid_inx = [] \n",
    "hal_inx = []\n",
    "\n",
    "for inx, row in data.iterrows():\n",
    "    spans = find_word_spans(\n",
    "        text=row[\"answer\"].lower(),\n",
    "        terms=[i.lower() for i in row[\"candidates\"]])\n",
    "    candid_inx.append(spans)\n",
    "    \n",
    "    hal_spans = find_word_spans(\n",
    "        text=row[\"answer\"].lower(),\n",
    "        terms=[i.lower() for i in row[\"hallucination_candidates\"]])\n",
    "    hal_inx.append(hal_spans)\n",
    "    "
   ]
  },
  {
   "cell_type": "code",
   "execution_count": 34,
   "id": "4c9b63e7",
   "metadata": {},
   "outputs": [],
   "source": [
    "data[\"candidates_inx\"] = candid_inx\n",
    "data[\"hallucination_candidates_inx\"] = hal_inx"
   ]
  },
  {
   "cell_type": "code",
   "execution_count": 35,
   "id": "2587a04d",
   "metadata": {},
   "outputs": [
    {
     "data": {
      "text/html": [
       "<div>\n",
       "<style scoped>\n",
       "    .dataframe tbody tr th:only-of-type {\n",
       "        vertical-align: middle;\n",
       "    }\n",
       "\n",
       "    .dataframe tbody tr th {\n",
       "        vertical-align: top;\n",
       "    }\n",
       "\n",
       "    .dataframe thead th {\n",
       "        text-align: right;\n",
       "    }\n",
       "</style>\n",
       "<table border=\"1\" class=\"dataframe\">\n",
       "  <thead>\n",
       "    <tr style=\"text-align: right;\">\n",
       "      <th></th>\n",
       "      <th>image_path</th>\n",
       "      <th>question</th>\n",
       "      <th>answer</th>\n",
       "      <th>candidates</th>\n",
       "      <th>hallucination_candidates</th>\n",
       "      <th>candidates_inx</th>\n",
       "      <th>hallucination_candidates_inx</th>\n",
       "    </tr>\n",
       "  </thead>\n",
       "  <tbody>\n",
       "    <tr>\n",
       "      <th>0</th>\n",
       "      <td>2317351.jpg</td>\n",
       "      <td>Describe the color of the hat.</td>\n",
       "      <td>The hat is blue.</td>\n",
       "      <td>[blue, hat]</td>\n",
       "      <td>[blue]</td>\n",
       "      <td>{'blue': [(11, 15)], 'hat': [(4, 7)]}</td>\n",
       "      <td>{'blue': [(11, 15)]}</td>\n",
       "    </tr>\n",
       "    <tr>\n",
       "      <th>1</th>\n",
       "      <td>2317351.jpg</td>\n",
       "      <td>Describe the color of the hat.</td>\n",
       "      <td>The hat is gray.</td>\n",
       "      <td>[hat, gray]</td>\n",
       "      <td>[gray]</td>\n",
       "      <td>{'hat': [(4, 7)], 'gray': [(11, 15)]}</td>\n",
       "      <td>{'gray': [(11, 15)]}</td>\n",
       "    </tr>\n",
       "  </tbody>\n",
       "</table>\n",
       "</div>"
      ],
      "text/plain": [
       "    image_path                        question            answer   candidates  \\\n",
       "0  2317351.jpg  Describe the color of the hat.  The hat is blue.  [blue, hat]   \n",
       "1  2317351.jpg  Describe the color of the hat.  The hat is gray.  [hat, gray]   \n",
       "\n",
       "  hallucination_candidates                         candidates_inx  \\\n",
       "0                   [blue]  {'blue': [(11, 15)], 'hat': [(4, 7)]}   \n",
       "1                   [gray]  {'hat': [(4, 7)], 'gray': [(11, 15)]}   \n",
       "\n",
       "  hallucination_candidates_inx  \n",
       "0         {'blue': [(11, 15)]}  \n",
       "1         {'gray': [(11, 15)]}  "
      ]
     },
     "execution_count": 35,
     "metadata": {},
     "output_type": "execute_result"
    }
   ],
   "source": [
    "data.head(2)"
   ]
  },
  {
   "cell_type": "code",
   "execution_count": 36,
   "id": "607471e5",
   "metadata": {},
   "outputs": [],
   "source": [
    "data.to_csv(\"/Data2/Arun-UAV/NLP/vision_halu/haloc/haloc_extension/instruct/gemini_labeled_40k.csv\", index=False)"
   ]
  },
  {
   "cell_type": "code",
   "execution_count": 58,
   "id": "f071ac08",
   "metadata": {},
   "outputs": [],
   "source": [
    "sampled_data = pd.read_csv(\"/Data2/Arun-UAV/NLP/vision_halu/haloc/haloc_extension/instruct/original_sampled_20k.csv\")\n",
    "total_data = pd.read_csv(\"/Data2/Arun-UAV/NLP/vision_halu/haloc/train_dataset/instruct/tp_train.csv\")"
   ]
  },
  {
   "cell_type": "code",
   "execution_count": 59,
   "id": "1d1c60dd",
   "metadata": {},
   "outputs": [],
   "source": [
    "sampled_ids = sampled_data[\"id\"].to_list()"
   ]
  },
  {
   "cell_type": "code",
   "execution_count": 60,
   "id": "1dded910",
   "metadata": {},
   "outputs": [],
   "source": [
    "ramian_data = total_data[~total_data[\"id\"].isin(sampled_ids)]"
   ]
  },
  {
   "cell_type": "code",
   "execution_count": 75,
   "id": "1011e317",
   "metadata": {},
   "outputs": [],
   "source": [
    "data = pd.read_csv(\"/Data2/Arun-UAV/NLP/vision_halu/haloc/train_dataset/vqa/tn_test.csv\")"
   ]
  },
  {
   "cell_type": "code",
   "execution_count": 76,
   "id": "d79f2ecb",
   "metadata": {},
   "outputs": [],
   "source": [
    "ramian_data = data"
   ]
  },
  {
   "cell_type": "code",
   "execution_count": 77,
   "id": "8f7356c0",
   "metadata": {},
   "outputs": [
    {
     "data": {
      "text/html": [
       "<div>\n",
       "<style scoped>\n",
       "    .dataframe tbody tr th:only-of-type {\n",
       "        vertical-align: middle;\n",
       "    }\n",
       "\n",
       "    .dataframe tbody tr th {\n",
       "        vertical-align: top;\n",
       "    }\n",
       "\n",
       "    .dataframe thead th {\n",
       "        text-align: right;\n",
       "    }\n",
       "</style>\n",
       "<table border=\"1\" class=\"dataframe\">\n",
       "  <thead>\n",
       "    <tr style=\"text-align: right;\">\n",
       "      <th></th>\n",
       "      <th>Unnamed: 0</th>\n",
       "      <th>source_text</th>\n",
       "      <th>source_metadata</th>\n",
       "      <th>qa_metadata</th>\n",
       "      <th>qa_ids</th>\n",
       "      <th>prompt</th>\n",
       "      <th>image_id</th>\n",
       "      <th>hallucinated_text</th>\n",
       "      <th>annotations</th>\n",
       "      <th>split</th>\n",
       "      <th>id</th>\n",
       "    </tr>\n",
       "  </thead>\n",
       "  <tbody>\n",
       "    <tr>\n",
       "      <th>0</th>\n",
       "      <td>96513</td>\n",
       "      <td>metal</td>\n",
       "      <td>{'id': '001006088', 'source': 'GQA'}</td>\n",
       "      <td>{}</td>\n",
       "      <td>[]</td>\n",
       "      <td>&lt;image&gt;The question \"Which material makes up t...</td>\n",
       "      <td>2391368</td>\n",
       "      <td>metal</td>\n",
       "      <td>{'object': [], 'attribute': [], 'relationship'...</td>\n",
       "      <td>test</td>\n",
       "      <td>vqa_3_clean</td>\n",
       "    </tr>\n",
       "    <tr>\n",
       "      <th>1</th>\n",
       "      <td>96514</td>\n",
       "      <td>indoors</td>\n",
       "      <td>{'id': '00155642', 'source': 'GQA'}</td>\n",
       "      <td>{}</td>\n",
       "      <td>[]</td>\n",
       "      <td>&lt;image&gt;Is it outdoors or indoors? A short answ...</td>\n",
       "      <td>1160027</td>\n",
       "      <td>indoors</td>\n",
       "      <td>{'object': [], 'attribute': [], 'relationship'...</td>\n",
       "      <td>test</td>\n",
       "      <td>vqa_43_clean</td>\n",
       "    </tr>\n",
       "    <tr>\n",
       "      <th>2</th>\n",
       "      <td>96515</td>\n",
       "      <td>field</td>\n",
       "      <td>{'id': '00182093', 'source': 'GQA'}</td>\n",
       "      <td>{}</td>\n",
       "      <td>[]</td>\n",
       "      <td>&lt;image&gt;Use the provided image to answer the qu...</td>\n",
       "      <td>2334081</td>\n",
       "      <td>field</td>\n",
       "      <td>{'object': [], 'attribute': [], 'relationship'...</td>\n",
       "      <td>test</td>\n",
       "      <td>vqa_54_clean</td>\n",
       "    </tr>\n",
       "    <tr>\n",
       "      <th>3</th>\n",
       "      <td>96516</td>\n",
       "      <td>right</td>\n",
       "      <td>{'id': '00194450', 'source': 'GQA'}</td>\n",
       "      <td>{}</td>\n",
       "      <td>[]</td>\n",
       "      <td>&lt;image&gt;Given the image, answer the following q...</td>\n",
       "      <td>2405761</td>\n",
       "      <td>right</td>\n",
       "      <td>{'object': [], 'attribute': [], 'relationship'...</td>\n",
       "      <td>test</td>\n",
       "      <td>vqa_63_clean</td>\n",
       "    </tr>\n",
       "    <tr>\n",
       "      <th>4</th>\n",
       "      <td>96517</td>\n",
       "      <td>left</td>\n",
       "      <td>{'id': '00194479', 'source': 'GQA'}</td>\n",
       "      <td>{}</td>\n",
       "      <td>[]</td>\n",
       "      <td>&lt;image&gt;Is the blue helmet to the left or to th...</td>\n",
       "      <td>2405761</td>\n",
       "      <td>left</td>\n",
       "      <td>{'object': [], 'attribute': [], 'relationship'...</td>\n",
       "      <td>test</td>\n",
       "      <td>vqa_64_clean</td>\n",
       "    </tr>\n",
       "  </tbody>\n",
       "</table>\n",
       "</div>"
      ],
      "text/plain": [
       "   Unnamed: 0 source_text                       source_metadata qa_metadata  \\\n",
       "0       96513       metal  {'id': '001006088', 'source': 'GQA'}          {}   \n",
       "1       96514     indoors   {'id': '00155642', 'source': 'GQA'}          {}   \n",
       "2       96515       field   {'id': '00182093', 'source': 'GQA'}          {}   \n",
       "3       96516       right   {'id': '00194450', 'source': 'GQA'}          {}   \n",
       "4       96517        left   {'id': '00194479', 'source': 'GQA'}          {}   \n",
       "\n",
       "  qa_ids                                             prompt  image_id  \\\n",
       "0     []  <image>The question \"Which material makes up t...   2391368   \n",
       "1     []  <image>Is it outdoors or indoors? A short answ...   1160027   \n",
       "2     []  <image>Use the provided image to answer the qu...   2334081   \n",
       "3     []  <image>Given the image, answer the following q...   2405761   \n",
       "4     []  <image>Is the blue helmet to the left or to th...   2405761   \n",
       "\n",
       "  hallucinated_text                                        annotations split  \\\n",
       "0             metal  {'object': [], 'attribute': [], 'relationship'...  test   \n",
       "1           indoors  {'object': [], 'attribute': [], 'relationship'...  test   \n",
       "2             field  {'object': [], 'attribute': [], 'relationship'...  test   \n",
       "3             right  {'object': [], 'attribute': [], 'relationship'...  test   \n",
       "4              left  {'object': [], 'attribute': [], 'relationship'...  test   \n",
       "\n",
       "             id  \n",
       "0   vqa_3_clean  \n",
       "1  vqa_43_clean  \n",
       "2  vqa_54_clean  \n",
       "3  vqa_63_clean  \n",
       "4  vqa_64_clean  "
      ]
     },
     "execution_count": 77,
     "metadata": {},
     "output_type": "execute_result"
    }
   ],
   "source": [
    "ramian_data.head(5)"
   ]
  },
  {
   "cell_type": "code",
   "execution_count": 78,
   "id": "e974cd04",
   "metadata": {},
   "outputs": [],
   "source": [
    "ramian_data[\"prompt\"] = ramian_data[\"prompt\"].apply(lambda x: x.replace(\"<image>\",\"\"))"
   ]
  },
  {
   "cell_type": "code",
   "execution_count": 79,
   "id": "f2d7f618",
   "metadata": {},
   "outputs": [],
   "source": [
    "ramian_data = ramian_data[[\"image_id\", \"prompt\", \"hallucinated_text\", \"annotations\"]]"
   ]
  },
  {
   "cell_type": "code",
   "execution_count": 80,
   "id": "69e7dd68",
   "metadata": {},
   "outputs": [
    {
     "data": {
      "text/html": [
       "<div>\n",
       "<style scoped>\n",
       "    .dataframe tbody tr th:only-of-type {\n",
       "        vertical-align: middle;\n",
       "    }\n",
       "\n",
       "    .dataframe tbody tr th {\n",
       "        vertical-align: top;\n",
       "    }\n",
       "\n",
       "    .dataframe thead th {\n",
       "        text-align: right;\n",
       "    }\n",
       "</style>\n",
       "<table border=\"1\" class=\"dataframe\">\n",
       "  <thead>\n",
       "    <tr style=\"text-align: right;\">\n",
       "      <th></th>\n",
       "      <th>image_id</th>\n",
       "      <th>prompt</th>\n",
       "      <th>hallucinated_text</th>\n",
       "      <th>annotations</th>\n",
       "    </tr>\n",
       "  </thead>\n",
       "  <tbody>\n",
       "    <tr>\n",
       "      <th>0</th>\n",
       "      <td>2391368</td>\n",
       "      <td>The question \"Which material makes up the silv...</td>\n",
       "      <td>metal</td>\n",
       "      <td>{'object': [], 'attribute': [], 'relationship'...</td>\n",
       "    </tr>\n",
       "    <tr>\n",
       "      <th>1</th>\n",
       "      <td>1160027</td>\n",
       "      <td>Is it outdoors or indoors? A short answer to t...</td>\n",
       "      <td>indoors</td>\n",
       "      <td>{'object': [], 'attribute': [], 'relationship'...</td>\n",
       "    </tr>\n",
       "  </tbody>\n",
       "</table>\n",
       "</div>"
      ],
      "text/plain": [
       "   image_id                                             prompt  \\\n",
       "0   2391368  The question \"Which material makes up the silv...   \n",
       "1   1160027  Is it outdoors or indoors? A short answer to t...   \n",
       "\n",
       "  hallucinated_text                                        annotations  \n",
       "0             metal  {'object': [], 'attribute': [], 'relationship'...  \n",
       "1           indoors  {'object': [], 'attribute': [], 'relationship'...  "
      ]
     },
     "execution_count": 80,
     "metadata": {},
     "output_type": "execute_result"
    }
   ],
   "source": [
    "ramian_data.head(2)"
   ]
  },
  {
   "cell_type": "code",
   "execution_count": 81,
   "id": "085b52bc",
   "metadata": {},
   "outputs": [],
   "source": [
    "all_hal_cand = []\n",
    "\n",
    "for anot in ramian_data[\"annotations\"]:\n",
    "    res = eval(anot)\n",
    "    hal_cand = []\n",
    "    for val in res.values():\n",
    "        for i in val:\n",
    "            for j in list(i.values()):\n",
    "                token =  j['name']\n",
    "                hal_cand.append(token)\n",
    "    all_hal_cand.append(list(set(hal_cand)))"
   ]
  },
  {
   "cell_type": "code",
   "execution_count": 82,
   "id": "c4f2d7b5",
   "metadata": {},
   "outputs": [
    {
     "name": "stderr",
     "output_type": "stream",
     "text": [
      "/tmp/ipykernel_1485470/1222014100.py:1: SettingWithCopyWarning: \n",
      "A value is trying to be set on a copy of a slice from a DataFrame.\n",
      "Try using .loc[row_indexer,col_indexer] = value instead\n",
      "\n",
      "See the caveats in the documentation: https://pandas.pydata.org/pandas-docs/stable/user_guide/indexing.html#returning-a-view-versus-a-copy\n",
      "  ramian_data[\"hallucination_candidates\"] = all_hal_cand\n",
      "/tmp/ipykernel_1485470/1222014100.py:2: SettingWithCopyWarning: \n",
      "A value is trying to be set on a copy of a slice from a DataFrame.\n",
      "Try using .loc[row_indexer,col_indexer] = value instead\n",
      "\n",
      "See the caveats in the documentation: https://pandas.pydata.org/pandas-docs/stable/user_guide/indexing.html#returning-a-view-versus-a-copy\n",
      "  ramian_data[\"candidates\"] = [[i] for i in ramian_data[\"hallucinated_text\"]]\n"
     ]
    }
   ],
   "source": [
    "ramian_data[\"hallucination_candidates\"] = all_hal_cand\n",
    "ramian_data[\"candidates\"] = [[i] for i in ramian_data[\"hallucinated_text\"]]\n"
   ]
  },
  {
   "cell_type": "code",
   "execution_count": 83,
   "id": "00c8939d",
   "metadata": {},
   "outputs": [
    {
     "name": "stderr",
     "output_type": "stream",
     "text": [
      "/tmp/ipykernel_1485470/643254796.py:1: SettingWithCopyWarning: \n",
      "A value is trying to be set on a copy of a slice from a DataFrame\n",
      "\n",
      "See the caveats in the documentation: https://pandas.pydata.org/pandas-docs/stable/user_guide/indexing.html#returning-a-view-versus-a-copy\n",
      "  ramian_data.drop(columns=[\"annotations\"], inplace=True)\n"
     ]
    }
   ],
   "source": [
    "ramian_data.drop(columns=[\"annotations\"], inplace=True)"
   ]
  },
  {
   "cell_type": "code",
   "execution_count": 84,
   "id": "c3036d0b",
   "metadata": {},
   "outputs": [
    {
     "data": {
      "text/html": [
       "<div>\n",
       "<style scoped>\n",
       "    .dataframe tbody tr th:only-of-type {\n",
       "        vertical-align: middle;\n",
       "    }\n",
       "\n",
       "    .dataframe tbody tr th {\n",
       "        vertical-align: top;\n",
       "    }\n",
       "\n",
       "    .dataframe thead th {\n",
       "        text-align: right;\n",
       "    }\n",
       "</style>\n",
       "<table border=\"1\" class=\"dataframe\">\n",
       "  <thead>\n",
       "    <tr style=\"text-align: right;\">\n",
       "      <th></th>\n",
       "      <th>image_id</th>\n",
       "      <th>prompt</th>\n",
       "      <th>hallucinated_text</th>\n",
       "      <th>hallucination_candidates</th>\n",
       "      <th>candidates</th>\n",
       "    </tr>\n",
       "  </thead>\n",
       "  <tbody>\n",
       "    <tr>\n",
       "      <th>0</th>\n",
       "      <td>2391368</td>\n",
       "      <td>The question \"Which material makes up the silv...</td>\n",
       "      <td>metal</td>\n",
       "      <td>[]</td>\n",
       "      <td>[metal]</td>\n",
       "    </tr>\n",
       "    <tr>\n",
       "      <th>1</th>\n",
       "      <td>1160027</td>\n",
       "      <td>Is it outdoors or indoors? A short answer to t...</td>\n",
       "      <td>indoors</td>\n",
       "      <td>[]</td>\n",
       "      <td>[indoors]</td>\n",
       "    </tr>\n",
       "  </tbody>\n",
       "</table>\n",
       "</div>"
      ],
      "text/plain": [
       "   image_id                                             prompt  \\\n",
       "0   2391368  The question \"Which material makes up the silv...   \n",
       "1   1160027  Is it outdoors or indoors? A short answer to t...   \n",
       "\n",
       "  hallucinated_text hallucination_candidates candidates  \n",
       "0             metal                       []    [metal]  \n",
       "1           indoors                       []  [indoors]  "
      ]
     },
     "execution_count": 84,
     "metadata": {},
     "output_type": "execute_result"
    }
   ],
   "source": [
    "ramian_data.head(2)"
   ]
  },
  {
   "cell_type": "code",
   "execution_count": 85,
   "id": "c0bf27e3",
   "metadata": {},
   "outputs": [],
   "source": [
    "ramian_data.columns = [\"image_path\", \"question\", \"answer\", \"hallucination_candidates\", \"candidates\"]\n"
   ]
  },
  {
   "cell_type": "code",
   "execution_count": 86,
   "id": "d615eee2",
   "metadata": {},
   "outputs": [
    {
     "data": {
      "text/html": [
       "<div>\n",
       "<style scoped>\n",
       "    .dataframe tbody tr th:only-of-type {\n",
       "        vertical-align: middle;\n",
       "    }\n",
       "\n",
       "    .dataframe tbody tr th {\n",
       "        vertical-align: top;\n",
       "    }\n",
       "\n",
       "    .dataframe thead th {\n",
       "        text-align: right;\n",
       "    }\n",
       "</style>\n",
       "<table border=\"1\" class=\"dataframe\">\n",
       "  <thead>\n",
       "    <tr style=\"text-align: right;\">\n",
       "      <th></th>\n",
       "      <th>image_path</th>\n",
       "      <th>question</th>\n",
       "      <th>answer</th>\n",
       "      <th>hallucination_candidates</th>\n",
       "      <th>candidates</th>\n",
       "    </tr>\n",
       "  </thead>\n",
       "  <tbody>\n",
       "    <tr>\n",
       "      <th>0</th>\n",
       "      <td>2391368</td>\n",
       "      <td>The question \"Which material makes up the silv...</td>\n",
       "      <td>metal</td>\n",
       "      <td>[]</td>\n",
       "      <td>[metal]</td>\n",
       "    </tr>\n",
       "    <tr>\n",
       "      <th>1</th>\n",
       "      <td>1160027</td>\n",
       "      <td>Is it outdoors or indoors? A short answer to t...</td>\n",
       "      <td>indoors</td>\n",
       "      <td>[]</td>\n",
       "      <td>[indoors]</td>\n",
       "    </tr>\n",
       "  </tbody>\n",
       "</table>\n",
       "</div>"
      ],
      "text/plain": [
       "   image_path                                           question   answer  \\\n",
       "0     2391368  The question \"Which material makes up the silv...    metal   \n",
       "1     1160027  Is it outdoors or indoors? A short answer to t...  indoors   \n",
       "\n",
       "  hallucination_candidates candidates  \n",
       "0                       []    [metal]  \n",
       "1                       []  [indoors]  "
      ]
     },
     "execution_count": 86,
     "metadata": {},
     "output_type": "execute_result"
    }
   ],
   "source": [
    "ramian_data.head(2)"
   ]
  },
  {
   "cell_type": "code",
   "execution_count": 87,
   "id": "a6a64ab3",
   "metadata": {},
   "outputs": [],
   "source": [
    "hal_inx = []\n",
    "\n",
    "for inx, row in ramian_data.iterrows():\n",
    "    hal_spans = find_word_spans(\n",
    "        text=row[\"answer\"].lower(),\n",
    "        terms=[i.lower() for i in row[\"candidates\"]])\n",
    "    hal_inx.append(hal_spans)\n",
    "    "
   ]
  },
  {
   "cell_type": "code",
   "execution_count": 88,
   "id": "87487e64",
   "metadata": {},
   "outputs": [
    {
     "name": "stderr",
     "output_type": "stream",
     "text": [
      "/tmp/ipykernel_1485470/4104138947.py:1: SettingWithCopyWarning: \n",
      "A value is trying to be set on a copy of a slice from a DataFrame.\n",
      "Try using .loc[row_indexer,col_indexer] = value instead\n",
      "\n",
      "See the caveats in the documentation: https://pandas.pydata.org/pandas-docs/stable/user_guide/indexing.html#returning-a-view-versus-a-copy\n",
      "  ramian_data[\"candidates_inx\"] = hal_inx\n"
     ]
    }
   ],
   "source": [
    "ramian_data[\"candidates_inx\"] = hal_inx"
   ]
  },
  {
   "cell_type": "code",
   "execution_count": 89,
   "id": "b29f14ff",
   "metadata": {},
   "outputs": [
    {
     "data": {
      "text/html": [
       "<div>\n",
       "<style scoped>\n",
       "    .dataframe tbody tr th:only-of-type {\n",
       "        vertical-align: middle;\n",
       "    }\n",
       "\n",
       "    .dataframe tbody tr th {\n",
       "        vertical-align: top;\n",
       "    }\n",
       "\n",
       "    .dataframe thead th {\n",
       "        text-align: right;\n",
       "    }\n",
       "</style>\n",
       "<table border=\"1\" class=\"dataframe\">\n",
       "  <thead>\n",
       "    <tr style=\"text-align: right;\">\n",
       "      <th></th>\n",
       "      <th>image_path</th>\n",
       "      <th>question</th>\n",
       "      <th>answer</th>\n",
       "      <th>hallucination_candidates</th>\n",
       "      <th>candidates</th>\n",
       "      <th>candidates_inx</th>\n",
       "    </tr>\n",
       "  </thead>\n",
       "  <tbody>\n",
       "    <tr>\n",
       "      <th>0</th>\n",
       "      <td>2391368</td>\n",
       "      <td>The question \"Which material makes up the silv...</td>\n",
       "      <td>metal</td>\n",
       "      <td>[]</td>\n",
       "      <td>[metal]</td>\n",
       "      <td>{'metal': [(0, 5)]}</td>\n",
       "    </tr>\n",
       "    <tr>\n",
       "      <th>1</th>\n",
       "      <td>1160027</td>\n",
       "      <td>Is it outdoors or indoors? A short answer to t...</td>\n",
       "      <td>indoors</td>\n",
       "      <td>[]</td>\n",
       "      <td>[indoors]</td>\n",
       "      <td>{'indoors': [(0, 7)]}</td>\n",
       "    </tr>\n",
       "  </tbody>\n",
       "</table>\n",
       "</div>"
      ],
      "text/plain": [
       "   image_path                                           question   answer  \\\n",
       "0     2391368  The question \"Which material makes up the silv...    metal   \n",
       "1     1160027  Is it outdoors or indoors? A short answer to t...  indoors   \n",
       "\n",
       "  hallucination_candidates candidates         candidates_inx  \n",
       "0                       []    [metal]    {'metal': [(0, 5)]}  \n",
       "1                       []  [indoors]  {'indoors': [(0, 7)]}  "
      ]
     },
     "execution_count": 89,
     "metadata": {},
     "output_type": "execute_result"
    }
   ],
   "source": [
    "ramian_data.head(2)"
   ]
  },
  {
   "cell_type": "code",
   "execution_count": 90,
   "id": "f6e10fae",
   "metadata": {},
   "outputs": [
    {
     "name": "stderr",
     "output_type": "stream",
     "text": [
      "/tmp/ipykernel_1485470/308830470.py:1: SettingWithCopyWarning: \n",
      "A value is trying to be set on a copy of a slice from a DataFrame.\n",
      "Try using .loc[row_indexer,col_indexer] = value instead\n",
      "\n",
      "See the caveats in the documentation: https://pandas.pydata.org/pandas-docs/stable/user_guide/indexing.html#returning-a-view-versus-a-copy\n",
      "  ramian_data[\"image_path\"] = ramian_data[\"image_path\"].apply(lambda x: str(x)+ \".jpg\")\n"
     ]
    }
   ],
   "source": [
    "ramian_data[\"image_path\"] = ramian_data[\"image_path\"].apply(lambda x: str(x)+ \".jpg\")"
   ]
  },
  {
   "cell_type": "code",
   "execution_count": 91,
   "id": "af0ca08a",
   "metadata": {},
   "outputs": [
    {
     "data": {
      "text/html": [
       "<div>\n",
       "<style scoped>\n",
       "    .dataframe tbody tr th:only-of-type {\n",
       "        vertical-align: middle;\n",
       "    }\n",
       "\n",
       "    .dataframe tbody tr th {\n",
       "        vertical-align: top;\n",
       "    }\n",
       "\n",
       "    .dataframe thead th {\n",
       "        text-align: right;\n",
       "    }\n",
       "</style>\n",
       "<table border=\"1\" class=\"dataframe\">\n",
       "  <thead>\n",
       "    <tr style=\"text-align: right;\">\n",
       "      <th></th>\n",
       "      <th>image_path</th>\n",
       "      <th>question</th>\n",
       "      <th>answer</th>\n",
       "      <th>hallucination_candidates</th>\n",
       "      <th>candidates</th>\n",
       "      <th>candidates_inx</th>\n",
       "    </tr>\n",
       "  </thead>\n",
       "  <tbody>\n",
       "    <tr>\n",
       "      <th>0</th>\n",
       "      <td>2391368.jpg</td>\n",
       "      <td>The question \"Which material makes up the silv...</td>\n",
       "      <td>metal</td>\n",
       "      <td>[]</td>\n",
       "      <td>[metal]</td>\n",
       "      <td>{'metal': [(0, 5)]}</td>\n",
       "    </tr>\n",
       "    <tr>\n",
       "      <th>1</th>\n",
       "      <td>1160027.jpg</td>\n",
       "      <td>Is it outdoors or indoors? A short answer to t...</td>\n",
       "      <td>indoors</td>\n",
       "      <td>[]</td>\n",
       "      <td>[indoors]</td>\n",
       "      <td>{'indoors': [(0, 7)]}</td>\n",
       "    </tr>\n",
       "  </tbody>\n",
       "</table>\n",
       "</div>"
      ],
      "text/plain": [
       "    image_path                                           question   answer  \\\n",
       "0  2391368.jpg  The question \"Which material makes up the silv...    metal   \n",
       "1  1160027.jpg  Is it outdoors or indoors? A short answer to t...  indoors   \n",
       "\n",
       "  hallucination_candidates candidates         candidates_inx  \n",
       "0                       []    [metal]    {'metal': [(0, 5)]}  \n",
       "1                       []  [indoors]  {'indoors': [(0, 7)]}  "
      ]
     },
     "execution_count": 91,
     "metadata": {},
     "output_type": "execute_result"
    }
   ],
   "source": [
    "ramian_data.head(2)"
   ]
  },
  {
   "cell_type": "code",
   "execution_count": 92,
   "id": "ae22656b",
   "metadata": {},
   "outputs": [
    {
     "data": {
      "text/plain": [
       "(5041, 6)"
      ]
     },
     "execution_count": 92,
     "metadata": {},
     "output_type": "execute_result"
    }
   ],
   "source": [
    "ramian_data.shape"
   ]
  },
  {
   "cell_type": "code",
   "execution_count": 93,
   "id": "aa715689",
   "metadata": {},
   "outputs": [],
   "source": [
    "from uuid import uuid4\n",
    "\n",
    "img_folder = \"/Data2/Arun-UAV/NLP/vision_halu/visual_genome/target_images/\"\n",
    "\n",
    "ramian_data = ramian_data.rename(columns={\"image_path\": \"image_id\"})\n",
    "ramian_data[\"image_path\"] = ramian_data[\"image_id\"].apply(lambda x: img_folder + x)\n",
    "ramian_data[\"question_id\"] = [str(uuid4()) for _ in range(len(ramian_data))]"
   ]
  },
  {
   "cell_type": "code",
   "execution_count": 94,
   "id": "f71007d8",
   "metadata": {},
   "outputs": [
    {
     "data": {
      "text/html": [
       "<div>\n",
       "<style scoped>\n",
       "    .dataframe tbody tr th:only-of-type {\n",
       "        vertical-align: middle;\n",
       "    }\n",
       "\n",
       "    .dataframe tbody tr th {\n",
       "        vertical-align: top;\n",
       "    }\n",
       "\n",
       "    .dataframe thead th {\n",
       "        text-align: right;\n",
       "    }\n",
       "</style>\n",
       "<table border=\"1\" class=\"dataframe\">\n",
       "  <thead>\n",
       "    <tr style=\"text-align: right;\">\n",
       "      <th></th>\n",
       "      <th>image_id</th>\n",
       "      <th>question</th>\n",
       "      <th>answer</th>\n",
       "      <th>hallucination_candidates</th>\n",
       "      <th>candidates</th>\n",
       "      <th>candidates_inx</th>\n",
       "      <th>image_path</th>\n",
       "      <th>question_id</th>\n",
       "    </tr>\n",
       "  </thead>\n",
       "  <tbody>\n",
       "    <tr>\n",
       "      <th>0</th>\n",
       "      <td>2391368.jpg</td>\n",
       "      <td>The question \"Which material makes up the silv...</td>\n",
       "      <td>metal</td>\n",
       "      <td>[]</td>\n",
       "      <td>[metal]</td>\n",
       "      <td>{'metal': [(0, 5)]}</td>\n",
       "      <td>/Data2/Arun-UAV/NLP/vision_halu/visual_genome/...</td>\n",
       "      <td>f80bd492-ad55-4312-90ca-3a828ad5c689</td>\n",
       "    </tr>\n",
       "    <tr>\n",
       "      <th>1</th>\n",
       "      <td>1160027.jpg</td>\n",
       "      <td>Is it outdoors or indoors? A short answer to t...</td>\n",
       "      <td>indoors</td>\n",
       "      <td>[]</td>\n",
       "      <td>[indoors]</td>\n",
       "      <td>{'indoors': [(0, 7)]}</td>\n",
       "      <td>/Data2/Arun-UAV/NLP/vision_halu/visual_genome/...</td>\n",
       "      <td>bebd49db-22c6-4e55-bb79-c47efaa0f29d</td>\n",
       "    </tr>\n",
       "  </tbody>\n",
       "</table>\n",
       "</div>"
      ],
      "text/plain": [
       "      image_id                                           question   answer  \\\n",
       "0  2391368.jpg  The question \"Which material makes up the silv...    metal   \n",
       "1  1160027.jpg  Is it outdoors or indoors? A short answer to t...  indoors   \n",
       "\n",
       "  hallucination_candidates candidates         candidates_inx  \\\n",
       "0                       []    [metal]    {'metal': [(0, 5)]}   \n",
       "1                       []  [indoors]  {'indoors': [(0, 7)]}   \n",
       "\n",
       "                                          image_path  \\\n",
       "0  /Data2/Arun-UAV/NLP/vision_halu/visual_genome/...   \n",
       "1  /Data2/Arun-UAV/NLP/vision_halu/visual_genome/...   \n",
       "\n",
       "                            question_id  \n",
       "0  f80bd492-ad55-4312-90ca-3a828ad5c689  \n",
       "1  bebd49db-22c6-4e55-bb79-c47efaa0f29d  "
      ]
     },
     "execution_count": 94,
     "metadata": {},
     "output_type": "execute_result"
    }
   ],
   "source": [
    "ramian_data.head(2)"
   ]
  },
  {
   "cell_type": "code",
   "execution_count": null,
   "id": "42fa58be",
   "metadata": {},
   "outputs": [],
   "source": [
    "ramian_data = ramian_data.drop([\"candidates\", \"candidates_inx\"], axis=1)"
   ]
  },
  {
   "cell_type": "code",
   "execution_count": 97,
   "id": "bc8e9439",
   "metadata": {},
   "outputs": [
    {
     "data": {
      "text/html": [
       "<div>\n",
       "<style scoped>\n",
       "    .dataframe tbody tr th:only-of-type {\n",
       "        vertical-align: middle;\n",
       "    }\n",
       "\n",
       "    .dataframe tbody tr th {\n",
       "        vertical-align: top;\n",
       "    }\n",
       "\n",
       "    .dataframe thead th {\n",
       "        text-align: right;\n",
       "    }\n",
       "</style>\n",
       "<table border=\"1\" class=\"dataframe\">\n",
       "  <thead>\n",
       "    <tr style=\"text-align: right;\">\n",
       "      <th></th>\n",
       "      <th>image_id</th>\n",
       "      <th>question</th>\n",
       "      <th>answer</th>\n",
       "      <th>hallucination_candidates</th>\n",
       "      <th>candidates</th>\n",
       "      <th>image_path</th>\n",
       "      <th>question_id</th>\n",
       "    </tr>\n",
       "  </thead>\n",
       "  <tbody>\n",
       "    <tr>\n",
       "      <th>0</th>\n",
       "      <td>2391368.jpg</td>\n",
       "      <td>The question \"Which material makes up the silv...</td>\n",
       "      <td>metal</td>\n",
       "      <td>[]</td>\n",
       "      <td>[metal]</td>\n",
       "      <td>/Data2/Arun-UAV/NLP/vision_halu/visual_genome/...</td>\n",
       "      <td>f80bd492-ad55-4312-90ca-3a828ad5c689</td>\n",
       "    </tr>\n",
       "    <tr>\n",
       "      <th>1</th>\n",
       "      <td>1160027.jpg</td>\n",
       "      <td>Is it outdoors or indoors? A short answer to t...</td>\n",
       "      <td>indoors</td>\n",
       "      <td>[]</td>\n",
       "      <td>[indoors]</td>\n",
       "      <td>/Data2/Arun-UAV/NLP/vision_halu/visual_genome/...</td>\n",
       "      <td>bebd49db-22c6-4e55-bb79-c47efaa0f29d</td>\n",
       "    </tr>\n",
       "  </tbody>\n",
       "</table>\n",
       "</div>"
      ],
      "text/plain": [
       "      image_id                                           question   answer  \\\n",
       "0  2391368.jpg  The question \"Which material makes up the silv...    metal   \n",
       "1  1160027.jpg  Is it outdoors or indoors? A short answer to t...  indoors   \n",
       "\n",
       "  hallucination_candidates candidates  \\\n",
       "0                       []    [metal]   \n",
       "1                       []  [indoors]   \n",
       "\n",
       "                                          image_path  \\\n",
       "0  /Data2/Arun-UAV/NLP/vision_halu/visual_genome/...   \n",
       "1  /Data2/Arun-UAV/NLP/vision_halu/visual_genome/...   \n",
       "\n",
       "                            question_id  \n",
       "0  f80bd492-ad55-4312-90ca-3a828ad5c689  \n",
       "1  bebd49db-22c6-4e55-bb79-c47efaa0f29d  "
      ]
     },
     "execution_count": 97,
     "metadata": {},
     "output_type": "execute_result"
    }
   ],
   "source": [
    "ramian_data.head(2)"
   ]
  },
  {
   "cell_type": "code",
   "execution_count": 99,
   "id": "74248e81",
   "metadata": {},
   "outputs": [],
   "source": [
    "ramian_data.to_csv(\"/Data2/Arun-UAV/NLP/vision_halu/benchmarks/holoc/test_vqa_tn_3200.csv\", index=False)"
   ]
  },
  {
   "cell_type": "code",
   "execution_count": 100,
   "id": "5f3e2c24",
   "metadata": {},
   "outputs": [
    {
     "data": {
      "text/html": [
       "<div>\n",
       "<style scoped>\n",
       "    .dataframe tbody tr th:only-of-type {\n",
       "        vertical-align: middle;\n",
       "    }\n",
       "\n",
       "    .dataframe tbody tr th {\n",
       "        vertical-align: top;\n",
       "    }\n",
       "\n",
       "    .dataframe thead th {\n",
       "        text-align: right;\n",
       "    }\n",
       "</style>\n",
       "<table border=\"1\" class=\"dataframe\">\n",
       "  <thead>\n",
       "    <tr style=\"text-align: right;\">\n",
       "      <th></th>\n",
       "      <th>image_id</th>\n",
       "      <th>question</th>\n",
       "      <th>answer</th>\n",
       "      <th>hallucination_candidates</th>\n",
       "      <th>candidates</th>\n",
       "      <th>image_path</th>\n",
       "      <th>question_id</th>\n",
       "    </tr>\n",
       "  </thead>\n",
       "  <tbody>\n",
       "    <tr>\n",
       "      <th>0</th>\n",
       "      <td>2391368.jpg</td>\n",
       "      <td>The question \"Which material makes up the silv...</td>\n",
       "      <td>metal</td>\n",
       "      <td>[]</td>\n",
       "      <td>[metal]</td>\n",
       "      <td>/Data2/Arun-UAV/NLP/vision_halu/visual_genome/...</td>\n",
       "      <td>f80bd492-ad55-4312-90ca-3a828ad5c689</td>\n",
       "    </tr>\n",
       "    <tr>\n",
       "      <th>1</th>\n",
       "      <td>1160027.jpg</td>\n",
       "      <td>Is it outdoors or indoors? A short answer to t...</td>\n",
       "      <td>indoors</td>\n",
       "      <td>[]</td>\n",
       "      <td>[indoors]</td>\n",
       "      <td>/Data2/Arun-UAV/NLP/vision_halu/visual_genome/...</td>\n",
       "      <td>bebd49db-22c6-4e55-bb79-c47efaa0f29d</td>\n",
       "    </tr>\n",
       "  </tbody>\n",
       "</table>\n",
       "</div>"
      ],
      "text/plain": [
       "      image_id                                           question   answer  \\\n",
       "0  2391368.jpg  The question \"Which material makes up the silv...    metal   \n",
       "1  1160027.jpg  Is it outdoors or indoors? A short answer to t...  indoors   \n",
       "\n",
       "  hallucination_candidates candidates  \\\n",
       "0                       []    [metal]   \n",
       "1                       []  [indoors]   \n",
       "\n",
       "                                          image_path  \\\n",
       "0  /Data2/Arun-UAV/NLP/vision_halu/visual_genome/...   \n",
       "1  /Data2/Arun-UAV/NLP/vision_halu/visual_genome/...   \n",
       "\n",
       "                            question_id  \n",
       "0  f80bd492-ad55-4312-90ca-3a828ad5c689  \n",
       "1  bebd49db-22c6-4e55-bb79-c47efaa0f29d  "
      ]
     },
     "execution_count": 100,
     "metadata": {},
     "output_type": "execute_result"
    }
   ],
   "source": [
    "ramian_data.head(2)"
   ]
  },
  {
   "cell_type": "code",
   "execution_count": 22,
   "id": "70c86e11",
   "metadata": {},
   "outputs": [],
   "source": [
    "import pandas as pd\n",
    "data = pd.read_json(\"/Data2/Arun-UAV/NLP/vision_halu/testing_res/chair_llava_plus_des_embed_20_des.jsonl\", lines=True)"
   ]
  },
  {
   "cell_type": "code",
   "execution_count": 23,
   "id": "f4781928",
   "metadata": {},
   "outputs": [
    {
     "data": {
      "text/html": [
       "<div>\n",
       "<style scoped>\n",
       "    .dataframe tbody tr th:only-of-type {\n",
       "        vertical-align: middle;\n",
       "    }\n",
       "\n",
       "    .dataframe tbody tr th {\n",
       "        vertical-align: top;\n",
       "    }\n",
       "\n",
       "    .dataframe thead th {\n",
       "        text-align: right;\n",
       "    }\n",
       "</style>\n",
       "<table border=\"1\" class=\"dataframe\">\n",
       "  <thead>\n",
       "    <tr style=\"text-align: right;\">\n",
       "      <th></th>\n",
       "      <th>question</th>\n",
       "      <th>answer</th>\n",
       "      <th>question_id</th>\n",
       "      <th>image_id</th>\n",
       "      <th>image_path</th>\n",
       "      <th>data_type</th>\n",
       "      <th>generated_captions</th>\n",
       "    </tr>\n",
       "  </thead>\n",
       "  <tbody>\n",
       "    <tr>\n",
       "      <th>0</th>\n",
       "      <td>Please describe this image in detail.</td>\n",
       "      <td>{'total_image_description': 'A close-up, high-...</td>\n",
       "      <td>0</td>\n",
       "      <td>226988</td>\n",
       "      <td>/Data2/Arun-UAV/NLP/vision_halu/benchmarks/coc...</td>\n",
       "      <td>no_datatype</td>\n",
       "      <td>The image features a woman sitting at a dining...</td>\n",
       "    </tr>\n",
       "    <tr>\n",
       "      <th>1</th>\n",
       "      <td>Please describe this image in detail.</td>\n",
       "      <td>{'total_image_description': 'The image capture...</td>\n",
       "      <td>1</td>\n",
       "      <td>337443</td>\n",
       "      <td>/Data2/Arun-UAV/NLP/vision_halu/benchmarks/coc...</td>\n",
       "      <td>no_datatype</td>\n",
       "      <td>The image depicts a busy city street with mult...</td>\n",
       "    </tr>\n",
       "  </tbody>\n",
       "</table>\n",
       "</div>"
      ],
      "text/plain": [
       "                                question  \\\n",
       "0  Please describe this image in detail.   \n",
       "1  Please describe this image in detail.   \n",
       "\n",
       "                                              answer  question_id  image_id  \\\n",
       "0  {'total_image_description': 'A close-up, high-...            0    226988   \n",
       "1  {'total_image_description': 'The image capture...            1    337443   \n",
       "\n",
       "                                          image_path    data_type  \\\n",
       "0  /Data2/Arun-UAV/NLP/vision_halu/benchmarks/coc...  no_datatype   \n",
       "1  /Data2/Arun-UAV/NLP/vision_halu/benchmarks/coc...  no_datatype   \n",
       "\n",
       "                                  generated_captions  \n",
       "0  The image features a woman sitting at a dining...  \n",
       "1  The image depicts a busy city street with mult...  "
      ]
     },
     "execution_count": 23,
     "metadata": {},
     "output_type": "execute_result"
    }
   ],
   "source": [
    "data.head(2)"
   ]
  },
  {
   "cell_type": "code",
   "execution_count": 24,
   "id": "14753f2e",
   "metadata": {},
   "outputs": [
    {
     "data": {
      "text/plain": [
       "'The image features a woman sitting at a dining table, taking a picture of a delicious pizza on a plate. She is using a camera to capture the moment, likely to share the image with others or to remember the meal. \\n\\nThe table is surrounded by several chairs, with one chair placed near the woman and the other chairs positioned around the table. There are also a few other people in the scene, with one person standing near the top left corner of the image and another person in the background on the right side. Additionally, there is a handbag placed on the table, possibly belonging to the woman or another person in the scene.'"
      ]
     },
     "execution_count": 24,
     "metadata": {},
     "output_type": "execute_result"
    }
   ],
   "source": [
    "data[\"generated_captions\"].iloc[0]"
   ]
  },
  {
   "cell_type": "code",
   "execution_count": 25,
   "id": "9fc07cd3",
   "metadata": {},
   "outputs": [],
   "source": [
    "data = data[[\"question\", \"generated_captions\", \"image_path\", \"question_id\", \"image_id\"]]"
   ]
  },
  {
   "cell_type": "code",
   "execution_count": 26,
   "id": "8c899e49",
   "metadata": {},
   "outputs": [],
   "source": [
    "data.rename(columns={\"generated_captions\": \"answer\"}, inplace=True)"
   ]
  },
  {
   "cell_type": "code",
   "execution_count": 30,
   "id": "23d08a13",
   "metadata": {},
   "outputs": [
    {
     "data": {
      "text/html": [
       "<div>\n",
       "<style scoped>\n",
       "    .dataframe tbody tr th:only-of-type {\n",
       "        vertical-align: middle;\n",
       "    }\n",
       "\n",
       "    .dataframe tbody tr th {\n",
       "        vertical-align: top;\n",
       "    }\n",
       "\n",
       "    .dataframe thead th {\n",
       "        text-align: right;\n",
       "    }\n",
       "</style>\n",
       "<table border=\"1\" class=\"dataframe\">\n",
       "  <thead>\n",
       "    <tr style=\"text-align: right;\">\n",
       "      <th></th>\n",
       "      <th>question</th>\n",
       "      <th>answer</th>\n",
       "      <th>image_path</th>\n",
       "      <th>question_id</th>\n",
       "      <th>image_id</th>\n",
       "      <th>hallucination_candidates</th>\n",
       "      <th>candidates</th>\n",
       "    </tr>\n",
       "  </thead>\n",
       "  <tbody>\n",
       "    <tr>\n",
       "      <th>0</th>\n",
       "      <td>Please describe this image in detail.</td>\n",
       "      <td>The image features a woman sitting at a dining...</td>\n",
       "      <td>/Data2/Arun-UAV/NLP/vision_halu/benchmarks/coc...</td>\n",
       "      <td>0</td>\n",
       "      <td>226988</td>\n",
       "      <td>[]</td>\n",
       "      <td>[sitting, at, a, dining, table,]</td>\n",
       "    </tr>\n",
       "    <tr>\n",
       "      <th>1</th>\n",
       "      <td>Please describe this image in detail.</td>\n",
       "      <td>The image depicts a busy city street with mult...</td>\n",
       "      <td>/Data2/Arun-UAV/NLP/vision_halu/benchmarks/coc...</td>\n",
       "      <td>1</td>\n",
       "      <td>337443</td>\n",
       "      <td>[]</td>\n",
       "      <td>[city, street, with, multiple, cars]</td>\n",
       "    </tr>\n",
       "  </tbody>\n",
       "</table>\n",
       "</div>"
      ],
      "text/plain": [
       "                                question  \\\n",
       "0  Please describe this image in detail.   \n",
       "1  Please describe this image in detail.   \n",
       "\n",
       "                                              answer  \\\n",
       "0  The image features a woman sitting at a dining...   \n",
       "1  The image depicts a busy city street with mult...   \n",
       "\n",
       "                                          image_path  question_id  image_id  \\\n",
       "0  /Data2/Arun-UAV/NLP/vision_halu/benchmarks/coc...            0    226988   \n",
       "1  /Data2/Arun-UAV/NLP/vision_halu/benchmarks/coc...            1    337443   \n",
       "\n",
       "  hallucination_candidates                            candidates  \n",
       "0                       []      [sitting, at, a, dining, table,]  \n",
       "1                       []  [city, street, with, multiple, cars]  "
      ]
     },
     "execution_count": 30,
     "metadata": {},
     "output_type": "execute_result"
    }
   ],
   "source": [
    "data.head(2)"
   ]
  },
  {
   "cell_type": "code",
   "execution_count": 28,
   "id": "90c5d46f",
   "metadata": {},
   "outputs": [],
   "source": [
    "data[\"hallucination_candidates\"] = str([])"
   ]
  },
  {
   "cell_type": "code",
   "execution_count": 29,
   "id": "217ac4c8",
   "metadata": {},
   "outputs": [],
   "source": [
    "data[\"candidates\"] = data[\"answer\"].apply(lambda x: x.split(\" \")[5:10])"
   ]
  },
  {
   "cell_type": "code",
   "execution_count": null,
   "id": "d3c65a81",
   "metadata": {},
   "outputs": [],
   "source": [
    "image_id\tquestion\tanswer\thallucination_candidates\tcandidates\timage_path\tquestion_id"
   ]
  },
  {
   "cell_type": "code",
   "execution_count": 31,
   "id": "d069b691",
   "metadata": {},
   "outputs": [],
   "source": [
    "data.to_csv(\"/Data2/Arun-UAV/NLP/vision_halu/haloc/haloc_extension/chair_caption_gen.csv\", index=False)"
   ]
  },
  {
   "cell_type": "code",
   "execution_count": null,
   "id": "7719bf20",
   "metadata": {},
   "outputs": [],
   "source": []
  }
 ],
 "metadata": {
  "kernelspec": {
   "display_name": "shdm",
   "language": "python",
   "name": "python3"
  },
  "language_info": {
   "codemirror_mode": {
    "name": "ipython",
    "version": 3
   },
   "file_extension": ".py",
   "mimetype": "text/x-python",
   "name": "python",
   "nbconvert_exporter": "python",
   "pygments_lexer": "ipython3",
   "version": "3.10.18"
  }
 },
 "nbformat": 4,
 "nbformat_minor": 5
}
