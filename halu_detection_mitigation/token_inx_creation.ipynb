{
 "cells": [
  {
   "cell_type": "code",
   "execution_count": 2,
   "id": "b4cccd3a",
   "metadata": {},
   "outputs": [],
   "source": [
    "import numpy as np\n",
    "import pandas as pd"
   ]
  },
  {
   "cell_type": "code",
   "execution_count": 3,
   "id": "0cc32363",
   "metadata": {},
   "outputs": [],
   "source": [
    "data = pd.read_csv(\"/Data2/Arun-UAV/NLP/vision_halu/haloc/train_dataset/caption/tp_test.csv\")"
   ]
  },
  {
   "cell_type": "code",
   "execution_count": 4,
   "id": "4d9f3d9b",
   "metadata": {},
   "outputs": [
    {
     "data": {
      "text/html": [
       "<div>\n",
       "<style scoped>\n",
       "    .dataframe tbody tr th:only-of-type {\n",
       "        vertical-align: middle;\n",
       "    }\n",
       "\n",
       "    .dataframe tbody tr th {\n",
       "        vertical-align: top;\n",
       "    }\n",
       "\n",
       "    .dataframe thead th {\n",
       "        text-align: right;\n",
       "    }\n",
       "</style>\n",
       "<table border=\"1\" class=\"dataframe\">\n",
       "  <thead>\n",
       "    <tr style=\"text-align: right;\">\n",
       "      <th></th>\n",
       "      <th>Unnamed: 0</th>\n",
       "      <th>image_id</th>\n",
       "      <th>prompt</th>\n",
       "      <th>hallucinated_text</th>\n",
       "      <th>source_text</th>\n",
       "      <th>source_metadata</th>\n",
       "      <th>qa_metadata</th>\n",
       "      <th>qa_ids</th>\n",
       "      <th>annotations</th>\n",
       "      <th>id</th>\n",
       "      <th>split</th>\n",
       "    </tr>\n",
       "  </thead>\n",
       "  <tbody>\n",
       "    <tr>\n",
       "      <th>0</th>\n",
       "      <td>64796</td>\n",
       "      <td>2391368</td>\n",
       "      <td>&lt;image&gt;Can you describe the main features of t...</td>\n",
       "      <td>In this image, there are some boxes that conta...</td>\n",
       "      <td>In this image, there are some boxes contains f...</td>\n",
       "      <td>{'source': 'localized_narratives', 'id': 'sp_2...</td>\n",
       "      <td>[]</td>\n",
       "      <td>['001006084']</td>\n",
       "      <td>{'object': [], 'attribute': [{'attribute': {'n...</td>\n",
       "      <td>caption_4</td>\n",
       "      <td>test</td>\n",
       "    </tr>\n",
       "    <tr>\n",
       "      <th>1</th>\n",
       "      <td>64797</td>\n",
       "      <td>2375207</td>\n",
       "      <td>&lt;image&gt;Write a detailed description of the giv...</td>\n",
       "      <td>A man is wearing a white uniform. He is wearin...</td>\n",
       "      <td>A man is wearing a white uniform. He is wearin...</td>\n",
       "      <td>{'source': 'stanford', 'id': 'sp_30231'}</td>\n",
       "      <td>[]</td>\n",
       "      <td>['001021520']</td>\n",
       "      <td>{'object': [], 'attribute': [{'attribute': {'n...</td>\n",
       "      <td>caption_11</td>\n",
       "      <td>test</td>\n",
       "    </tr>\n",
       "  </tbody>\n",
       "</table>\n",
       "</div>"
      ],
      "text/plain": [
       "   Unnamed: 0  image_id                                             prompt  \\\n",
       "0       64796   2391368  <image>Can you describe the main features of t...   \n",
       "1       64797   2375207  <image>Write a detailed description of the giv...   \n",
       "\n",
       "                                   hallucinated_text  \\\n",
       "0  In this image, there are some boxes that conta...   \n",
       "1  A man is wearing a white uniform. He is wearin...   \n",
       "\n",
       "                                         source_text  \\\n",
       "0  In this image, there are some boxes contains f...   \n",
       "1  A man is wearing a white uniform. He is wearin...   \n",
       "\n",
       "                                     source_metadata qa_metadata  \\\n",
       "0  {'source': 'localized_narratives', 'id': 'sp_2...          []   \n",
       "1           {'source': 'stanford', 'id': 'sp_30231'}          []   \n",
       "\n",
       "          qa_ids                                        annotations  \\\n",
       "0  ['001006084']  {'object': [], 'attribute': [{'attribute': {'n...   \n",
       "1  ['001021520']  {'object': [], 'attribute': [{'attribute': {'n...   \n",
       "\n",
       "           id split  \n",
       "0   caption_4  test  \n",
       "1  caption_11  test  "
      ]
     },
     "execution_count": 4,
     "metadata": {},
     "output_type": "execute_result"
    }
   ],
   "source": [
    "data.head(2)"
   ]
  },
  {
   "cell_type": "code",
   "execution_count": 2,
   "id": "713f4187",
   "metadata": {},
   "outputs": [],
   "source": [
    "data = pd.read_csv('/Data2/Arun-UAV/NLP/vision_halu/haloc/haloc_extension/instruct/gemini_labeled_40k.csv')"
   ]
  },
  {
   "cell_type": "code",
   "execution_count": 3,
   "id": "727e3b09",
   "metadata": {},
   "outputs": [
    {
     "data": {
      "text/html": [
       "<div>\n",
       "<style scoped>\n",
       "    .dataframe tbody tr th:only-of-type {\n",
       "        vertical-align: middle;\n",
       "    }\n",
       "\n",
       "    .dataframe tbody tr th {\n",
       "        vertical-align: top;\n",
       "    }\n",
       "\n",
       "    .dataframe thead th {\n",
       "        text-align: right;\n",
       "    }\n",
       "</style>\n",
       "<table border=\"1\" class=\"dataframe\">\n",
       "  <thead>\n",
       "    <tr style=\"text-align: right;\">\n",
       "      <th></th>\n",
       "      <th>image_id</th>\n",
       "      <th>question</th>\n",
       "      <th>answer</th>\n",
       "      <th>candidates</th>\n",
       "      <th>hallucination_candidates</th>\n",
       "      <th>candidates_inx</th>\n",
       "      <th>hallucination_candidates_inx</th>\n",
       "      <th>image_path</th>\n",
       "      <th>question_id</th>\n",
       "    </tr>\n",
       "  </thead>\n",
       "  <tbody>\n",
       "    <tr>\n",
       "      <th>0</th>\n",
       "      <td>2317351.jpg</td>\n",
       "      <td>Describe the color of the hat.</td>\n",
       "      <td>The hat is blue.</td>\n",
       "      <td>['blue', 'hat']</td>\n",
       "      <td>['blue']</td>\n",
       "      <td>{'blue': [(11, 15)], 'hat': [(4, 7)]}</td>\n",
       "      <td>{'blue': [(11, 15)]}</td>\n",
       "      <td>/Data2/Arun-UAV/NLP/vision_halu/visual_genome/...</td>\n",
       "      <td>e7f137be-9190-42f0-a1b0-7486e8028fad</td>\n",
       "    </tr>\n",
       "    <tr>\n",
       "      <th>1</th>\n",
       "      <td>2317351.jpg</td>\n",
       "      <td>Describe the color of the hat.</td>\n",
       "      <td>The hat is gray.</td>\n",
       "      <td>['hat', 'gray']</td>\n",
       "      <td>['gray']</td>\n",
       "      <td>{'hat': [(4, 7)], 'gray': [(11, 15)]}</td>\n",
       "      <td>{'gray': [(11, 15)]}</td>\n",
       "      <td>/Data2/Arun-UAV/NLP/vision_halu/visual_genome/...</td>\n",
       "      <td>c9903799-0507-4102-84fe-3dcd587ae9e0</td>\n",
       "    </tr>\n",
       "  </tbody>\n",
       "</table>\n",
       "</div>"
      ],
      "text/plain": [
       "      image_id                        question            answer  \\\n",
       "0  2317351.jpg  Describe the color of the hat.  The hat is blue.   \n",
       "1  2317351.jpg  Describe the color of the hat.  The hat is gray.   \n",
       "\n",
       "        candidates hallucination_candidates  \\\n",
       "0  ['blue', 'hat']                 ['blue']   \n",
       "1  ['hat', 'gray']                 ['gray']   \n",
       "\n",
       "                          candidates_inx hallucination_candidates_inx  \\\n",
       "0  {'blue': [(11, 15)], 'hat': [(4, 7)]}         {'blue': [(11, 15)]}   \n",
       "1  {'hat': [(4, 7)], 'gray': [(11, 15)]}         {'gray': [(11, 15)]}   \n",
       "\n",
       "                                          image_path  \\\n",
       "0  /Data2/Arun-UAV/NLP/vision_halu/visual_genome/...   \n",
       "1  /Data2/Arun-UAV/NLP/vision_halu/visual_genome/...   \n",
       "\n",
       "                            question_id  \n",
       "0  e7f137be-9190-42f0-a1b0-7486e8028fad  \n",
       "1  c9903799-0507-4102-84fe-3dcd587ae9e0  "
      ]
     },
     "execution_count": 3,
     "metadata": {},
     "output_type": "execute_result"
    }
   ],
   "source": [
    "data.head(2)"
   ]
  },
  {
   "cell_type": "code",
   "execution_count": null,
   "id": "8eb3182f",
   "metadata": {},
   "outputs": [],
   "source": []
  },
  {
   "cell_type": "code",
   "execution_count": 29,
   "id": "65c4173a",
   "metadata": {},
   "outputs": [],
   "source": [
    "data[\"candidates\"] = data[\"candidates\"].apply(lambda x: list(set(eval(x))))\n",
    "data[\"hallucination_candidates\"] = data[\"hallucination_candidates\"].apply(lambda x: list(set(eval(x))))"
   ]
  },
  {
   "cell_type": "code",
   "execution_count": 30,
   "id": "f98c6526",
   "metadata": {},
   "outputs": [
    {
     "data": {
      "text/html": [
       "<div>\n",
       "<style scoped>\n",
       "    .dataframe tbody tr th:only-of-type {\n",
       "        vertical-align: middle;\n",
       "    }\n",
       "\n",
       "    .dataframe tbody tr th {\n",
       "        vertical-align: top;\n",
       "    }\n",
       "\n",
       "    .dataframe thead th {\n",
       "        text-align: right;\n",
       "    }\n",
       "</style>\n",
       "<table border=\"1\" class=\"dataframe\">\n",
       "  <thead>\n",
       "    <tr style=\"text-align: right;\">\n",
       "      <th></th>\n",
       "      <th>image_path</th>\n",
       "      <th>question</th>\n",
       "      <th>answer</th>\n",
       "      <th>candidates</th>\n",
       "      <th>hallucination_candidates</th>\n",
       "    </tr>\n",
       "  </thead>\n",
       "  <tbody>\n",
       "    <tr>\n",
       "      <th>0</th>\n",
       "      <td>2317351.jpg</td>\n",
       "      <td>Describe the color of the hat.</td>\n",
       "      <td>The hat is blue.</td>\n",
       "      <td>[blue, hat]</td>\n",
       "      <td>[blue]</td>\n",
       "    </tr>\n",
       "    <tr>\n",
       "      <th>1</th>\n",
       "      <td>2317351.jpg</td>\n",
       "      <td>Describe the color of the hat.</td>\n",
       "      <td>The hat is gray.</td>\n",
       "      <td>[hat, gray]</td>\n",
       "      <td>[gray]</td>\n",
       "    </tr>\n",
       "  </tbody>\n",
       "</table>\n",
       "</div>"
      ],
      "text/plain": [
       "    image_path                        question            answer   candidates  \\\n",
       "0  2317351.jpg  Describe the color of the hat.  The hat is blue.  [blue, hat]   \n",
       "1  2317351.jpg  Describe the color of the hat.  The hat is gray.  [hat, gray]   \n",
       "\n",
       "  hallucination_candidates  \n",
       "0                   [blue]  \n",
       "1                   [gray]  "
      ]
     },
     "execution_count": 30,
     "metadata": {},
     "output_type": "execute_result"
    }
   ],
   "source": [
    "data.head(2)"
   ]
  },
  {
   "cell_type": "code",
   "execution_count": 19,
   "id": "e12bcb33",
   "metadata": {},
   "outputs": [],
   "source": [
    "import re\n",
    "import unicodedata\n",
    "from typing import Dict, Iterable, List, Tuple\n",
    "\n",
    "def find_word_spans(\n",
    "    text: str,\n",
    "    terms: Iterable[str],\n",
    "    *,\n",
    "    case_sensitive: bool = False,\n",
    "    whole_word: bool = False,\n",
    "    overlapping: bool = False,\n",
    "    normalize_unicode: bool = True,\n",
    ") -> Dict[str, List[Tuple[int, int]]]:\n",
    "    \n",
    "    if normalize_unicode:\n",
    "        text = unicodedata.normalize(\"NFC\", text)\n",
    "\n",
    "    # Prepare result with original (possibly unnormalized) term strings as keys\n",
    "    results: Dict[str, List[Tuple[int, int]]] = {t: [] for t in terms if t}\n",
    "\n",
    "    # Build a working list of (orig_term, norm_term)\n",
    "    work_terms: List[Tuple[str, str]] = []\n",
    "    for t in terms:\n",
    "        if not t:\n",
    "            continue\n",
    "        t_norm = unicodedata.normalize(\"NFC\", t) if normalize_unicode else t\n",
    "        work_terms.append((t, t_norm))\n",
    "\n",
    "    flags = 0 if case_sensitive else re.IGNORECASE\n",
    "\n",
    "    for orig_term, norm_term in work_terms:\n",
    "        # Escape to match literal text\n",
    "        escaped = re.escape(norm_term)\n",
    "\n",
    "        if whole_word:\n",
    "            # Word boundaries only at the ends (so phrases are supported)\n",
    "            # Use (?<!\\w) and (?!\\w) instead of \\b to behave well inside lookaheads for overlapping.\n",
    "            core = f\"(?<!\\\\w){escaped}(?!\\\\w)\"\n",
    "        else:\n",
    "            core = escaped\n",
    "\n",
    "        if overlapping:\n",
    "            # Lookahead to capture overlapping starts.\n",
    "            # Put the core inside a capturing group so we can compute the end index.\n",
    "            pattern = re.compile(f\"(?=({core}))\", flags)\n",
    "            matches = pattern.finditer(text)\n",
    "            for m in matches:\n",
    "                start = m.start()\n",
    "                end = start + len(m.group(1))\n",
    "                results[orig_term].append((start, end))\n",
    "        else:\n",
    "            pattern = re.compile(core, flags)\n",
    "            matches = pattern.finditer(text)\n",
    "            for m in matches:\n",
    "                results[orig_term].append((m.start(), m.end()))\n",
    "\n",
    "    return results\n"
   ]
  },
  {
   "cell_type": "code",
   "execution_count": 32,
   "id": "2623c7b8",
   "metadata": {},
   "outputs": [
    {
     "data": {
      "text/html": [
       "<div>\n",
       "<style scoped>\n",
       "    .dataframe tbody tr th:only-of-type {\n",
       "        vertical-align: middle;\n",
       "    }\n",
       "\n",
       "    .dataframe tbody tr th {\n",
       "        vertical-align: top;\n",
       "    }\n",
       "\n",
       "    .dataframe thead th {\n",
       "        text-align: right;\n",
       "    }\n",
       "</style>\n",
       "<table border=\"1\" class=\"dataframe\">\n",
       "  <thead>\n",
       "    <tr style=\"text-align: right;\">\n",
       "      <th></th>\n",
       "      <th>image_path</th>\n",
       "      <th>question</th>\n",
       "      <th>answer</th>\n",
       "      <th>candidates</th>\n",
       "      <th>hallucination_candidates</th>\n",
       "    </tr>\n",
       "  </thead>\n",
       "  <tbody>\n",
       "    <tr>\n",
       "      <th>0</th>\n",
       "      <td>2317351.jpg</td>\n",
       "      <td>Describe the color of the hat.</td>\n",
       "      <td>The hat is blue.</td>\n",
       "      <td>[blue, hat]</td>\n",
       "      <td>[blue]</td>\n",
       "    </tr>\n",
       "    <tr>\n",
       "      <th>1</th>\n",
       "      <td>2317351.jpg</td>\n",
       "      <td>Describe the color of the hat.</td>\n",
       "      <td>The hat is gray.</td>\n",
       "      <td>[hat, gray]</td>\n",
       "      <td>[gray]</td>\n",
       "    </tr>\n",
       "  </tbody>\n",
       "</table>\n",
       "</div>"
      ],
      "text/plain": [
       "    image_path                        question            answer   candidates  \\\n",
       "0  2317351.jpg  Describe the color of the hat.  The hat is blue.  [blue, hat]   \n",
       "1  2317351.jpg  Describe the color of the hat.  The hat is gray.  [hat, gray]   \n",
       "\n",
       "  hallucination_candidates  \n",
       "0                   [blue]  \n",
       "1                   [gray]  "
      ]
     },
     "execution_count": 32,
     "metadata": {},
     "output_type": "execute_result"
    }
   ],
   "source": [
    "data.head(2)"
   ]
  },
  {
   "cell_type": "code",
   "execution_count": 33,
   "id": "28196733",
   "metadata": {},
   "outputs": [],
   "source": [
    "candid_inx = [] \n",
    "hal_inx = []\n",
    "\n",
    "for inx, row in data.iterrows():\n",
    "    spans = find_word_spans(\n",
    "        text=row[\"answer\"].lower(),\n",
    "        terms=[i.lower() for i in row[\"candidates\"]])\n",
    "    candid_inx.append(spans)\n",
    "    \n",
    "    hal_spans = find_word_spans(\n",
    "        text=row[\"answer\"].lower(),\n",
    "        terms=[i.lower() for i in row[\"hallucination_candidates\"]])\n",
    "    hal_inx.append(hal_spans)\n",
    "    "
   ]
  },
  {
   "cell_type": "code",
   "execution_count": 34,
   "id": "4c9b63e7",
   "metadata": {},
   "outputs": [],
   "source": [
    "data[\"candidates_inx\"] = candid_inx\n",
    "data[\"hallucination_candidates_inx\"] = hal_inx"
   ]
  },
  {
   "cell_type": "code",
   "execution_count": 35,
   "id": "2587a04d",
   "metadata": {},
   "outputs": [
    {
     "data": {
      "text/html": [
       "<div>\n",
       "<style scoped>\n",
       "    .dataframe tbody tr th:only-of-type {\n",
       "        vertical-align: middle;\n",
       "    }\n",
       "\n",
       "    .dataframe tbody tr th {\n",
       "        vertical-align: top;\n",
       "    }\n",
       "\n",
       "    .dataframe thead th {\n",
       "        text-align: right;\n",
       "    }\n",
       "</style>\n",
       "<table border=\"1\" class=\"dataframe\">\n",
       "  <thead>\n",
       "    <tr style=\"text-align: right;\">\n",
       "      <th></th>\n",
       "      <th>image_path</th>\n",
       "      <th>question</th>\n",
       "      <th>answer</th>\n",
       "      <th>candidates</th>\n",
       "      <th>hallucination_candidates</th>\n",
       "      <th>candidates_inx</th>\n",
       "      <th>hallucination_candidates_inx</th>\n",
       "    </tr>\n",
       "  </thead>\n",
       "  <tbody>\n",
       "    <tr>\n",
       "      <th>0</th>\n",
       "      <td>2317351.jpg</td>\n",
       "      <td>Describe the color of the hat.</td>\n",
       "      <td>The hat is blue.</td>\n",
       "      <td>[blue, hat]</td>\n",
       "      <td>[blue]</td>\n",
       "      <td>{'blue': [(11, 15)], 'hat': [(4, 7)]}</td>\n",
       "      <td>{'blue': [(11, 15)]}</td>\n",
       "    </tr>\n",
       "    <tr>\n",
       "      <th>1</th>\n",
       "      <td>2317351.jpg</td>\n",
       "      <td>Describe the color of the hat.</td>\n",
       "      <td>The hat is gray.</td>\n",
       "      <td>[hat, gray]</td>\n",
       "      <td>[gray]</td>\n",
       "      <td>{'hat': [(4, 7)], 'gray': [(11, 15)]}</td>\n",
       "      <td>{'gray': [(11, 15)]}</td>\n",
       "    </tr>\n",
       "  </tbody>\n",
       "</table>\n",
       "</div>"
      ],
      "text/plain": [
       "    image_path                        question            answer   candidates  \\\n",
       "0  2317351.jpg  Describe the color of the hat.  The hat is blue.  [blue, hat]   \n",
       "1  2317351.jpg  Describe the color of the hat.  The hat is gray.  [hat, gray]   \n",
       "\n",
       "  hallucination_candidates                         candidates_inx  \\\n",
       "0                   [blue]  {'blue': [(11, 15)], 'hat': [(4, 7)]}   \n",
       "1                   [gray]  {'hat': [(4, 7)], 'gray': [(11, 15)]}   \n",
       "\n",
       "  hallucination_candidates_inx  \n",
       "0         {'blue': [(11, 15)]}  \n",
       "1         {'gray': [(11, 15)]}  "
      ]
     },
     "execution_count": 35,
     "metadata": {},
     "output_type": "execute_result"
    }
   ],
   "source": [
    "data.head(2)"
   ]
  },
  {
   "cell_type": "code",
   "execution_count": 36,
   "id": "607471e5",
   "metadata": {},
   "outputs": [],
   "source": [
    "data.to_csv(\"/Data2/Arun-UAV/NLP/vision_halu/haloc/haloc_extension/instruct/gemini_labeled_40k.csv\", index=False)"
   ]
  },
  {
   "cell_type": "code",
   "execution_count": 58,
   "id": "f071ac08",
   "metadata": {},
   "outputs": [],
   "source": [
    "sampled_data = pd.read_csv(\"/Data2/Arun-UAV/NLP/vision_halu/haloc/haloc_extension/instruct/original_sampled_20k.csv\")\n",
    "total_data = pd.read_csv(\"/Data2/Arun-UAV/NLP/vision_halu/haloc/train_dataset/instruct/tp_train.csv\")"
   ]
  },
  {
   "cell_type": "code",
   "execution_count": 59,
   "id": "1d1c60dd",
   "metadata": {},
   "outputs": [],
   "source": [
    "sampled_ids = sampled_data[\"id\"].to_list()"
   ]
  },
  {
   "cell_type": "code",
   "execution_count": 60,
   "id": "1dded910",
   "metadata": {},
   "outputs": [],
   "source": [
    "ramian_data = total_data[~total_data[\"id\"].isin(sampled_ids)]"
   ]
  },
  {
   "cell_type": "code",
   "execution_count": 5,
   "id": "1011e317",
   "metadata": {},
   "outputs": [],
   "source": [
    "data = pd.read_csv(\"/Data2/Arun-UAV/NLP/vision_halu/haloc/train_dataset/caption/tp_test.csv\")"
   ]
  },
  {
   "cell_type": "code",
   "execution_count": 6,
   "id": "d79f2ecb",
   "metadata": {},
   "outputs": [],
   "source": [
    "ramian_data = data"
   ]
  },
  {
   "cell_type": "code",
   "execution_count": 7,
   "id": "8f7356c0",
   "metadata": {},
   "outputs": [
    {
     "data": {
      "text/html": [
       "<div>\n",
       "<style scoped>\n",
       "    .dataframe tbody tr th:only-of-type {\n",
       "        vertical-align: middle;\n",
       "    }\n",
       "\n",
       "    .dataframe tbody tr th {\n",
       "        vertical-align: top;\n",
       "    }\n",
       "\n",
       "    .dataframe thead th {\n",
       "        text-align: right;\n",
       "    }\n",
       "</style>\n",
       "<table border=\"1\" class=\"dataframe\">\n",
       "  <thead>\n",
       "    <tr style=\"text-align: right;\">\n",
       "      <th></th>\n",
       "      <th>Unnamed: 0</th>\n",
       "      <th>image_id</th>\n",
       "      <th>prompt</th>\n",
       "      <th>hallucinated_text</th>\n",
       "      <th>source_text</th>\n",
       "      <th>source_metadata</th>\n",
       "      <th>qa_metadata</th>\n",
       "      <th>qa_ids</th>\n",
       "      <th>annotations</th>\n",
       "      <th>id</th>\n",
       "      <th>split</th>\n",
       "    </tr>\n",
       "  </thead>\n",
       "  <tbody>\n",
       "    <tr>\n",
       "      <th>0</th>\n",
       "      <td>64796</td>\n",
       "      <td>2391368</td>\n",
       "      <td>&lt;image&gt;Can you describe the main features of t...</td>\n",
       "      <td>In this image, there are some boxes that conta...</td>\n",
       "      <td>In this image, there are some boxes contains f...</td>\n",
       "      <td>{'source': 'localized_narratives', 'id': 'sp_2...</td>\n",
       "      <td>[]</td>\n",
       "      <td>['001006084']</td>\n",
       "      <td>{'object': [], 'attribute': [{'attribute': {'n...</td>\n",
       "      <td>caption_4</td>\n",
       "      <td>test</td>\n",
       "    </tr>\n",
       "    <tr>\n",
       "      <th>1</th>\n",
       "      <td>64797</td>\n",
       "      <td>2375207</td>\n",
       "      <td>&lt;image&gt;Write a detailed description of the giv...</td>\n",
       "      <td>A man is wearing a white uniform. He is wearin...</td>\n",
       "      <td>A man is wearing a white uniform. He is wearin...</td>\n",
       "      <td>{'source': 'stanford', 'id': 'sp_30231'}</td>\n",
       "      <td>[]</td>\n",
       "      <td>['001021520']</td>\n",
       "      <td>{'object': [], 'attribute': [{'attribute': {'n...</td>\n",
       "      <td>caption_11</td>\n",
       "      <td>test</td>\n",
       "    </tr>\n",
       "    <tr>\n",
       "      <th>2</th>\n",
       "      <td>64798</td>\n",
       "      <td>2351441</td>\n",
       "      <td>&lt;image&gt;Analyze the image in a comprehensive an...</td>\n",
       "      <td>there are three people on skis. they are treck...</td>\n",
       "      <td>there are three people on skis. they are treck...</td>\n",
       "      <td>{'source': 'stanford', 'id': 'sp_26758'}</td>\n",
       "      <td>[]</td>\n",
       "      <td>['00116341', '00116312']</td>\n",
       "      <td>{'object': [{'obj': {'name': 'motorcycle', 'ch...</td>\n",
       "      <td>caption_38</td>\n",
       "      <td>test</td>\n",
       "    </tr>\n",
       "    <tr>\n",
       "      <th>3</th>\n",
       "      <td>64799</td>\n",
       "      <td>2382256</td>\n",
       "      <td>&lt;image&gt;Explain the visual content of the image...</td>\n",
       "      <td>This is the dog sitting on the floor. Here is ...</td>\n",
       "      <td>This is the dog sitting on the floor. Here is ...</td>\n",
       "      <td>{'source': 'localized_narratives', 'id': 'sp_2...</td>\n",
       "      <td>[]</td>\n",
       "      <td>['00141230']</td>\n",
       "      <td>{'object': [], 'attribute': [{'attribute': {'n...</td>\n",
       "      <td>caption_42</td>\n",
       "      <td>test</td>\n",
       "    </tr>\n",
       "    <tr>\n",
       "      <th>4</th>\n",
       "      <td>64800</td>\n",
       "      <td>2386140</td>\n",
       "      <td>&lt;image&gt;What's happening in the scene?</td>\n",
       "      <td>A white kite with a green streamer is flying i...</td>\n",
       "      <td>A white kite with a green streamer is flying i...</td>\n",
       "      <td>{'source': 'stanford', 'id': 'sp_32416'}</td>\n",
       "      <td>[]</td>\n",
       "      <td>['00149629']</td>\n",
       "      <td>{'object': [], 'attribute': [{'attribute': {'n...</td>\n",
       "      <td>caption_47</td>\n",
       "      <td>test</td>\n",
       "    </tr>\n",
       "  </tbody>\n",
       "</table>\n",
       "</div>"
      ],
      "text/plain": [
       "   Unnamed: 0  image_id                                             prompt  \\\n",
       "0       64796   2391368  <image>Can you describe the main features of t...   \n",
       "1       64797   2375207  <image>Write a detailed description of the giv...   \n",
       "2       64798   2351441  <image>Analyze the image in a comprehensive an...   \n",
       "3       64799   2382256  <image>Explain the visual content of the image...   \n",
       "4       64800   2386140              <image>What's happening in the scene?   \n",
       "\n",
       "                                   hallucinated_text  \\\n",
       "0  In this image, there are some boxes that conta...   \n",
       "1  A man is wearing a white uniform. He is wearin...   \n",
       "2  there are three people on skis. they are treck...   \n",
       "3  This is the dog sitting on the floor. Here is ...   \n",
       "4  A white kite with a green streamer is flying i...   \n",
       "\n",
       "                                         source_text  \\\n",
       "0  In this image, there are some boxes contains f...   \n",
       "1  A man is wearing a white uniform. He is wearin...   \n",
       "2  there are three people on skis. they are treck...   \n",
       "3  This is the dog sitting on the floor. Here is ...   \n",
       "4  A white kite with a green streamer is flying i...   \n",
       "\n",
       "                                     source_metadata qa_metadata  \\\n",
       "0  {'source': 'localized_narratives', 'id': 'sp_2...          []   \n",
       "1           {'source': 'stanford', 'id': 'sp_30231'}          []   \n",
       "2           {'source': 'stanford', 'id': 'sp_26758'}          []   \n",
       "3  {'source': 'localized_narratives', 'id': 'sp_2...          []   \n",
       "4           {'source': 'stanford', 'id': 'sp_32416'}          []   \n",
       "\n",
       "                     qa_ids  \\\n",
       "0             ['001006084']   \n",
       "1             ['001021520']   \n",
       "2  ['00116341', '00116312']   \n",
       "3              ['00141230']   \n",
       "4              ['00149629']   \n",
       "\n",
       "                                         annotations          id split  \n",
       "0  {'object': [], 'attribute': [{'attribute': {'n...   caption_4  test  \n",
       "1  {'object': [], 'attribute': [{'attribute': {'n...  caption_11  test  \n",
       "2  {'object': [{'obj': {'name': 'motorcycle', 'ch...  caption_38  test  \n",
       "3  {'object': [], 'attribute': [{'attribute': {'n...  caption_42  test  \n",
       "4  {'object': [], 'attribute': [{'attribute': {'n...  caption_47  test  "
      ]
     },
     "execution_count": 7,
     "metadata": {},
     "output_type": "execute_result"
    }
   ],
   "source": [
    "ramian_data.head(5)"
   ]
  },
  {
   "cell_type": "code",
   "execution_count": 8,
   "id": "e974cd04",
   "metadata": {},
   "outputs": [],
   "source": [
    "ramian_data[\"prompt\"] = ramian_data[\"prompt\"].apply(lambda x: x.replace(\"<image>\",\"\"))"
   ]
  },
  {
   "cell_type": "code",
   "execution_count": 9,
   "id": "f2d7f618",
   "metadata": {},
   "outputs": [],
   "source": [
    "ramian_data = ramian_data[[\"image_id\", \"prompt\", \"hallucinated_text\", \"annotations\"]]"
   ]
  },
  {
   "cell_type": "code",
   "execution_count": 10,
   "id": "69e7dd68",
   "metadata": {},
   "outputs": [
    {
     "data": {
      "text/html": [
       "<div>\n",
       "<style scoped>\n",
       "    .dataframe tbody tr th:only-of-type {\n",
       "        vertical-align: middle;\n",
       "    }\n",
       "\n",
       "    .dataframe tbody tr th {\n",
       "        vertical-align: top;\n",
       "    }\n",
       "\n",
       "    .dataframe thead th {\n",
       "        text-align: right;\n",
       "    }\n",
       "</style>\n",
       "<table border=\"1\" class=\"dataframe\">\n",
       "  <thead>\n",
       "    <tr style=\"text-align: right;\">\n",
       "      <th></th>\n",
       "      <th>image_id</th>\n",
       "      <th>prompt</th>\n",
       "      <th>hallucinated_text</th>\n",
       "      <th>annotations</th>\n",
       "    </tr>\n",
       "  </thead>\n",
       "  <tbody>\n",
       "    <tr>\n",
       "      <th>0</th>\n",
       "      <td>2391368</td>\n",
       "      <td>Can you describe the main features of this ima...</td>\n",
       "      <td>In this image, there are some boxes that conta...</td>\n",
       "      <td>{'object': [], 'attribute': [{'attribute': {'n...</td>\n",
       "    </tr>\n",
       "    <tr>\n",
       "      <th>1</th>\n",
       "      <td>2375207</td>\n",
       "      <td>Write a detailed description of the given image.</td>\n",
       "      <td>A man is wearing a white uniform. He is wearin...</td>\n",
       "      <td>{'object': [], 'attribute': [{'attribute': {'n...</td>\n",
       "    </tr>\n",
       "  </tbody>\n",
       "</table>\n",
       "</div>"
      ],
      "text/plain": [
       "   image_id                                             prompt  \\\n",
       "0   2391368  Can you describe the main features of this ima...   \n",
       "1   2375207   Write a detailed description of the given image.   \n",
       "\n",
       "                                   hallucinated_text  \\\n",
       "0  In this image, there are some boxes that conta...   \n",
       "1  A man is wearing a white uniform. He is wearin...   \n",
       "\n",
       "                                         annotations  \n",
       "0  {'object': [], 'attribute': [{'attribute': {'n...  \n",
       "1  {'object': [], 'attribute': [{'attribute': {'n...  "
      ]
     },
     "execution_count": 10,
     "metadata": {},
     "output_type": "execute_result"
    }
   ],
   "source": [
    "ramian_data.head(2)"
   ]
  },
  {
   "cell_type": "code",
   "execution_count": 11,
   "id": "085b52bc",
   "metadata": {},
   "outputs": [],
   "source": [
    "all_hal_cand = []\n",
    "\n",
    "for anot in ramian_data[\"annotations\"]:\n",
    "    res = eval(anot)\n",
    "    hal_cand = []\n",
    "    for val in res.values():\n",
    "        for i in val:\n",
    "            for j in list(i.values()):\n",
    "                token =  j['name']\n",
    "                hal_cand.append(token)\n",
    "    all_hal_cand.append(list(set(hal_cand)))"
   ]
  },
  {
   "cell_type": "code",
   "execution_count": 12,
   "id": "c4f2d7b5",
   "metadata": {},
   "outputs": [
    {
     "name": "stderr",
     "output_type": "stream",
     "text": [
      "/tmp/ipykernel_691122/1222014100.py:1: SettingWithCopyWarning: \n",
      "A value is trying to be set on a copy of a slice from a DataFrame.\n",
      "Try using .loc[row_indexer,col_indexer] = value instead\n",
      "\n",
      "See the caveats in the documentation: https://pandas.pydata.org/pandas-docs/stable/user_guide/indexing.html#returning-a-view-versus-a-copy\n",
      "  ramian_data[\"hallucination_candidates\"] = all_hal_cand\n",
      "/tmp/ipykernel_691122/1222014100.py:2: SettingWithCopyWarning: \n",
      "A value is trying to be set on a copy of a slice from a DataFrame.\n",
      "Try using .loc[row_indexer,col_indexer] = value instead\n",
      "\n",
      "See the caveats in the documentation: https://pandas.pydata.org/pandas-docs/stable/user_guide/indexing.html#returning-a-view-versus-a-copy\n",
      "  ramian_data[\"candidates\"] = [[i] for i in ramian_data[\"hallucinated_text\"]]\n"
     ]
    }
   ],
   "source": [
    "ramian_data[\"hallucination_candidates\"] = all_hal_cand\n",
    "ramian_data[\"candidates\"] = [[i] for i in ramian_data[\"hallucinated_text\"]]\n"
   ]
  },
  {
   "cell_type": "code",
   "execution_count": 13,
   "id": "00c8939d",
   "metadata": {},
   "outputs": [
    {
     "name": "stderr",
     "output_type": "stream",
     "text": [
      "/tmp/ipykernel_691122/643254796.py:1: SettingWithCopyWarning: \n",
      "A value is trying to be set on a copy of a slice from a DataFrame\n",
      "\n",
      "See the caveats in the documentation: https://pandas.pydata.org/pandas-docs/stable/user_guide/indexing.html#returning-a-view-versus-a-copy\n",
      "  ramian_data.drop(columns=[\"annotations\"], inplace=True)\n"
     ]
    }
   ],
   "source": [
    "ramian_data.drop(columns=[\"annotations\"], inplace=True)"
   ]
  },
  {
   "cell_type": "code",
   "execution_count": 14,
   "id": "c3036d0b",
   "metadata": {},
   "outputs": [
    {
     "data": {
      "text/html": [
       "<div>\n",
       "<style scoped>\n",
       "    .dataframe tbody tr th:only-of-type {\n",
       "        vertical-align: middle;\n",
       "    }\n",
       "\n",
       "    .dataframe tbody tr th {\n",
       "        vertical-align: top;\n",
       "    }\n",
       "\n",
       "    .dataframe thead th {\n",
       "        text-align: right;\n",
       "    }\n",
       "</style>\n",
       "<table border=\"1\" class=\"dataframe\">\n",
       "  <thead>\n",
       "    <tr style=\"text-align: right;\">\n",
       "      <th></th>\n",
       "      <th>image_id</th>\n",
       "      <th>prompt</th>\n",
       "      <th>hallucinated_text</th>\n",
       "      <th>hallucination_candidates</th>\n",
       "      <th>candidates</th>\n",
       "    </tr>\n",
       "  </thead>\n",
       "  <tbody>\n",
       "    <tr>\n",
       "      <th>0</th>\n",
       "      <td>2391368</td>\n",
       "      <td>Can you describe the main features of this ima...</td>\n",
       "      <td>In this image, there are some boxes that conta...</td>\n",
       "      <td>[wicker, tray]</td>\n",
       "      <td>[In this image, there are some boxes that cont...</td>\n",
       "    </tr>\n",
       "    <tr>\n",
       "      <th>1</th>\n",
       "      <td>2375207</td>\n",
       "      <td>Write a detailed description of the given image.</td>\n",
       "      <td>A man is wearing a white uniform. He is wearin...</td>\n",
       "      <td>[plastic, baseball bat]</td>\n",
       "      <td>[A man is wearing a white uniform. He is weari...</td>\n",
       "    </tr>\n",
       "  </tbody>\n",
       "</table>\n",
       "</div>"
      ],
      "text/plain": [
       "   image_id                                             prompt  \\\n",
       "0   2391368  Can you describe the main features of this ima...   \n",
       "1   2375207   Write a detailed description of the given image.   \n",
       "\n",
       "                                   hallucinated_text hallucination_candidates  \\\n",
       "0  In this image, there are some boxes that conta...           [wicker, tray]   \n",
       "1  A man is wearing a white uniform. He is wearin...  [plastic, baseball bat]   \n",
       "\n",
       "                                          candidates  \n",
       "0  [In this image, there are some boxes that cont...  \n",
       "1  [A man is wearing a white uniform. He is weari...  "
      ]
     },
     "execution_count": 14,
     "metadata": {},
     "output_type": "execute_result"
    }
   ],
   "source": [
    "ramian_data.head(2)"
   ]
  },
  {
   "cell_type": "code",
   "execution_count": 15,
   "id": "c0bf27e3",
   "metadata": {},
   "outputs": [],
   "source": [
    "ramian_data.columns = [\"image_path\", \"question\", \"answer\", \"hallucination_candidates\", \"candidates\"]\n"
   ]
  },
  {
   "cell_type": "code",
   "execution_count": 16,
   "id": "d615eee2",
   "metadata": {},
   "outputs": [
    {
     "data": {
      "text/html": [
       "<div>\n",
       "<style scoped>\n",
       "    .dataframe tbody tr th:only-of-type {\n",
       "        vertical-align: middle;\n",
       "    }\n",
       "\n",
       "    .dataframe tbody tr th {\n",
       "        vertical-align: top;\n",
       "    }\n",
       "\n",
       "    .dataframe thead th {\n",
       "        text-align: right;\n",
       "    }\n",
       "</style>\n",
       "<table border=\"1\" class=\"dataframe\">\n",
       "  <thead>\n",
       "    <tr style=\"text-align: right;\">\n",
       "      <th></th>\n",
       "      <th>image_path</th>\n",
       "      <th>question</th>\n",
       "      <th>answer</th>\n",
       "      <th>hallucination_candidates</th>\n",
       "      <th>candidates</th>\n",
       "    </tr>\n",
       "  </thead>\n",
       "  <tbody>\n",
       "    <tr>\n",
       "      <th>0</th>\n",
       "      <td>2391368</td>\n",
       "      <td>Can you describe the main features of this ima...</td>\n",
       "      <td>In this image, there are some boxes that conta...</td>\n",
       "      <td>[wicker, tray]</td>\n",
       "      <td>[In this image, there are some boxes that cont...</td>\n",
       "    </tr>\n",
       "    <tr>\n",
       "      <th>1</th>\n",
       "      <td>2375207</td>\n",
       "      <td>Write a detailed description of the given image.</td>\n",
       "      <td>A man is wearing a white uniform. He is wearin...</td>\n",
       "      <td>[plastic, baseball bat]</td>\n",
       "      <td>[A man is wearing a white uniform. He is weari...</td>\n",
       "    </tr>\n",
       "  </tbody>\n",
       "</table>\n",
       "</div>"
      ],
      "text/plain": [
       "   image_path                                           question  \\\n",
       "0     2391368  Can you describe the main features of this ima...   \n",
       "1     2375207   Write a detailed description of the given image.   \n",
       "\n",
       "                                              answer hallucination_candidates  \\\n",
       "0  In this image, there are some boxes that conta...           [wicker, tray]   \n",
       "1  A man is wearing a white uniform. He is wearin...  [plastic, baseball bat]   \n",
       "\n",
       "                                          candidates  \n",
       "0  [In this image, there are some boxes that cont...  \n",
       "1  [A man is wearing a white uniform. He is weari...  "
      ]
     },
     "execution_count": 16,
     "metadata": {},
     "output_type": "execute_result"
    }
   ],
   "source": [
    "ramian_data.head(2)"
   ]
  },
  {
   "cell_type": "code",
   "execution_count": 20,
   "id": "a6a64ab3",
   "metadata": {},
   "outputs": [],
   "source": [
    "hal_inx = []\n",
    "\n",
    "for inx, row in ramian_data.iterrows():\n",
    "    hal_spans = find_word_spans(\n",
    "        text=row[\"answer\"].lower(),\n",
    "        terms=[i.lower() for i in row[\"candidates\"]])\n",
    "    hal_inx.append(hal_spans)\n",
    "    "
   ]
  },
  {
   "cell_type": "code",
   "execution_count": 21,
   "id": "87487e64",
   "metadata": {},
   "outputs": [
    {
     "name": "stderr",
     "output_type": "stream",
     "text": [
      "/tmp/ipykernel_691122/4104138947.py:1: SettingWithCopyWarning: \n",
      "A value is trying to be set on a copy of a slice from a DataFrame.\n",
      "Try using .loc[row_indexer,col_indexer] = value instead\n",
      "\n",
      "See the caveats in the documentation: https://pandas.pydata.org/pandas-docs/stable/user_guide/indexing.html#returning-a-view-versus-a-copy\n",
      "  ramian_data[\"candidates_inx\"] = hal_inx\n"
     ]
    }
   ],
   "source": [
    "ramian_data[\"candidates_inx\"] = hal_inx"
   ]
  },
  {
   "cell_type": "code",
   "execution_count": 22,
   "id": "b29f14ff",
   "metadata": {},
   "outputs": [
    {
     "data": {
      "text/html": [
       "<div>\n",
       "<style scoped>\n",
       "    .dataframe tbody tr th:only-of-type {\n",
       "        vertical-align: middle;\n",
       "    }\n",
       "\n",
       "    .dataframe tbody tr th {\n",
       "        vertical-align: top;\n",
       "    }\n",
       "\n",
       "    .dataframe thead th {\n",
       "        text-align: right;\n",
       "    }\n",
       "</style>\n",
       "<table border=\"1\" class=\"dataframe\">\n",
       "  <thead>\n",
       "    <tr style=\"text-align: right;\">\n",
       "      <th></th>\n",
       "      <th>image_path</th>\n",
       "      <th>question</th>\n",
       "      <th>answer</th>\n",
       "      <th>hallucination_candidates</th>\n",
       "      <th>candidates</th>\n",
       "      <th>candidates_inx</th>\n",
       "    </tr>\n",
       "  </thead>\n",
       "  <tbody>\n",
       "    <tr>\n",
       "      <th>0</th>\n",
       "      <td>2391368</td>\n",
       "      <td>Can you describe the main features of this ima...</td>\n",
       "      <td>In this image, there are some boxes that conta...</td>\n",
       "      <td>[wicker, tray]</td>\n",
       "      <td>[In this image, there are some boxes that cont...</td>\n",
       "      <td>{'in this image, there are some boxes that con...</td>\n",
       "    </tr>\n",
       "    <tr>\n",
       "      <th>1</th>\n",
       "      <td>2375207</td>\n",
       "      <td>Write a detailed description of the given image.</td>\n",
       "      <td>A man is wearing a white uniform. He is wearin...</td>\n",
       "      <td>[plastic, baseball bat]</td>\n",
       "      <td>[A man is wearing a white uniform. He is weari...</td>\n",
       "      <td>{'a man is wearing a white uniform. he is wear...</td>\n",
       "    </tr>\n",
       "  </tbody>\n",
       "</table>\n",
       "</div>"
      ],
      "text/plain": [
       "   image_path                                           question  \\\n",
       "0     2391368  Can you describe the main features of this ima...   \n",
       "1     2375207   Write a detailed description of the given image.   \n",
       "\n",
       "                                              answer hallucination_candidates  \\\n",
       "0  In this image, there are some boxes that conta...           [wicker, tray]   \n",
       "1  A man is wearing a white uniform. He is wearin...  [plastic, baseball bat]   \n",
       "\n",
       "                                          candidates  \\\n",
       "0  [In this image, there are some boxes that cont...   \n",
       "1  [A man is wearing a white uniform. He is weari...   \n",
       "\n",
       "                                      candidates_inx  \n",
       "0  {'in this image, there are some boxes that con...  \n",
       "1  {'a man is wearing a white uniform. he is wear...  "
      ]
     },
     "execution_count": 22,
     "metadata": {},
     "output_type": "execute_result"
    }
   ],
   "source": [
    "ramian_data.head(2)"
   ]
  },
  {
   "cell_type": "code",
   "execution_count": 23,
   "id": "f6e10fae",
   "metadata": {},
   "outputs": [
    {
     "name": "stderr",
     "output_type": "stream",
     "text": [
      "/tmp/ipykernel_691122/308830470.py:1: SettingWithCopyWarning: \n",
      "A value is trying to be set on a copy of a slice from a DataFrame.\n",
      "Try using .loc[row_indexer,col_indexer] = value instead\n",
      "\n",
      "See the caveats in the documentation: https://pandas.pydata.org/pandas-docs/stable/user_guide/indexing.html#returning-a-view-versus-a-copy\n",
      "  ramian_data[\"image_path\"] = ramian_data[\"image_path\"].apply(lambda x: str(x)+ \".jpg\")\n"
     ]
    }
   ],
   "source": [
    "ramian_data[\"image_path\"] = ramian_data[\"image_path\"].apply(lambda x: str(x)+ \".jpg\")"
   ]
  },
  {
   "cell_type": "code",
   "execution_count": 24,
   "id": "af0ca08a",
   "metadata": {},
   "outputs": [
    {
     "data": {
      "text/html": [
       "<div>\n",
       "<style scoped>\n",
       "    .dataframe tbody tr th:only-of-type {\n",
       "        vertical-align: middle;\n",
       "    }\n",
       "\n",
       "    .dataframe tbody tr th {\n",
       "        vertical-align: top;\n",
       "    }\n",
       "\n",
       "    .dataframe thead th {\n",
       "        text-align: right;\n",
       "    }\n",
       "</style>\n",
       "<table border=\"1\" class=\"dataframe\">\n",
       "  <thead>\n",
       "    <tr style=\"text-align: right;\">\n",
       "      <th></th>\n",
       "      <th>image_path</th>\n",
       "      <th>question</th>\n",
       "      <th>answer</th>\n",
       "      <th>hallucination_candidates</th>\n",
       "      <th>candidates</th>\n",
       "      <th>candidates_inx</th>\n",
       "    </tr>\n",
       "  </thead>\n",
       "  <tbody>\n",
       "    <tr>\n",
       "      <th>0</th>\n",
       "      <td>2391368.jpg</td>\n",
       "      <td>Can you describe the main features of this ima...</td>\n",
       "      <td>In this image, there are some boxes that conta...</td>\n",
       "      <td>[wicker, tray]</td>\n",
       "      <td>[In this image, there are some boxes that cont...</td>\n",
       "      <td>{'in this image, there are some boxes that con...</td>\n",
       "    </tr>\n",
       "    <tr>\n",
       "      <th>1</th>\n",
       "      <td>2375207.jpg</td>\n",
       "      <td>Write a detailed description of the given image.</td>\n",
       "      <td>A man is wearing a white uniform. He is wearin...</td>\n",
       "      <td>[plastic, baseball bat]</td>\n",
       "      <td>[A man is wearing a white uniform. He is weari...</td>\n",
       "      <td>{'a man is wearing a white uniform. he is wear...</td>\n",
       "    </tr>\n",
       "  </tbody>\n",
       "</table>\n",
       "</div>"
      ],
      "text/plain": [
       "    image_path                                           question  \\\n",
       "0  2391368.jpg  Can you describe the main features of this ima...   \n",
       "1  2375207.jpg   Write a detailed description of the given image.   \n",
       "\n",
       "                                              answer hallucination_candidates  \\\n",
       "0  In this image, there are some boxes that conta...           [wicker, tray]   \n",
       "1  A man is wearing a white uniform. He is wearin...  [plastic, baseball bat]   \n",
       "\n",
       "                                          candidates  \\\n",
       "0  [In this image, there are some boxes that cont...   \n",
       "1  [A man is wearing a white uniform. He is weari...   \n",
       "\n",
       "                                      candidates_inx  \n",
       "0  {'in this image, there are some boxes that con...  \n",
       "1  {'a man is wearing a white uniform. he is wear...  "
      ]
     },
     "execution_count": 24,
     "metadata": {},
     "output_type": "execute_result"
    }
   ],
   "source": [
    "ramian_data.head(2)"
   ]
  },
  {
   "cell_type": "code",
   "execution_count": 25,
   "id": "ae22656b",
   "metadata": {},
   "outputs": [
    {
     "data": {
      "text/plain": [
       "(3273, 6)"
      ]
     },
     "execution_count": 25,
     "metadata": {},
     "output_type": "execute_result"
    }
   ],
   "source": [
    "ramian_data.shape"
   ]
  },
  {
   "cell_type": "code",
   "execution_count": 26,
   "id": "aa715689",
   "metadata": {},
   "outputs": [],
   "source": [
    "from uuid import uuid4\n",
    "\n",
    "img_folder = \"/Data2/Arun-UAV/NLP/vision_halu/visual_genome/target_images/\"\n",
    "\n",
    "ramian_data = ramian_data.rename(columns={\"image_path\": \"image_id\"})\n",
    "ramian_data[\"image_path\"] = ramian_data[\"image_id\"].apply(lambda x: img_folder + x)\n",
    "ramian_data[\"question_id\"] = [str(uuid4()) for _ in range(len(ramian_data))]"
   ]
  },
  {
   "cell_type": "code",
   "execution_count": 27,
   "id": "f71007d8",
   "metadata": {},
   "outputs": [
    {
     "data": {
      "text/html": [
       "<div>\n",
       "<style scoped>\n",
       "    .dataframe tbody tr th:only-of-type {\n",
       "        vertical-align: middle;\n",
       "    }\n",
       "\n",
       "    .dataframe tbody tr th {\n",
       "        vertical-align: top;\n",
       "    }\n",
       "\n",
       "    .dataframe thead th {\n",
       "        text-align: right;\n",
       "    }\n",
       "</style>\n",
       "<table border=\"1\" class=\"dataframe\">\n",
       "  <thead>\n",
       "    <tr style=\"text-align: right;\">\n",
       "      <th></th>\n",
       "      <th>image_id</th>\n",
       "      <th>question</th>\n",
       "      <th>answer</th>\n",
       "      <th>hallucination_candidates</th>\n",
       "      <th>candidates</th>\n",
       "      <th>candidates_inx</th>\n",
       "      <th>image_path</th>\n",
       "      <th>question_id</th>\n",
       "    </tr>\n",
       "  </thead>\n",
       "  <tbody>\n",
       "    <tr>\n",
       "      <th>0</th>\n",
       "      <td>2391368.jpg</td>\n",
       "      <td>Can you describe the main features of this ima...</td>\n",
       "      <td>In this image, there are some boxes that conta...</td>\n",
       "      <td>[wicker, tray]</td>\n",
       "      <td>[In this image, there are some boxes that cont...</td>\n",
       "      <td>{'in this image, there are some boxes that con...</td>\n",
       "      <td>/Data2/Arun-UAV/NLP/vision_halu/visual_genome/...</td>\n",
       "      <td>24ff2006-5782-4efc-a33c-d20a3e601e6c</td>\n",
       "    </tr>\n",
       "    <tr>\n",
       "      <th>1</th>\n",
       "      <td>2375207.jpg</td>\n",
       "      <td>Write a detailed description of the given image.</td>\n",
       "      <td>A man is wearing a white uniform. He is wearin...</td>\n",
       "      <td>[plastic, baseball bat]</td>\n",
       "      <td>[A man is wearing a white uniform. He is weari...</td>\n",
       "      <td>{'a man is wearing a white uniform. he is wear...</td>\n",
       "      <td>/Data2/Arun-UAV/NLP/vision_halu/visual_genome/...</td>\n",
       "      <td>42ef9f38-105d-40fb-a696-5caec821462b</td>\n",
       "    </tr>\n",
       "  </tbody>\n",
       "</table>\n",
       "</div>"
      ],
      "text/plain": [
       "      image_id                                           question  \\\n",
       "0  2391368.jpg  Can you describe the main features of this ima...   \n",
       "1  2375207.jpg   Write a detailed description of the given image.   \n",
       "\n",
       "                                              answer hallucination_candidates  \\\n",
       "0  In this image, there are some boxes that conta...           [wicker, tray]   \n",
       "1  A man is wearing a white uniform. He is wearin...  [plastic, baseball bat]   \n",
       "\n",
       "                                          candidates  \\\n",
       "0  [In this image, there are some boxes that cont...   \n",
       "1  [A man is wearing a white uniform. He is weari...   \n",
       "\n",
       "                                      candidates_inx  \\\n",
       "0  {'in this image, there are some boxes that con...   \n",
       "1  {'a man is wearing a white uniform. he is wear...   \n",
       "\n",
       "                                          image_path  \\\n",
       "0  /Data2/Arun-UAV/NLP/vision_halu/visual_genome/...   \n",
       "1  /Data2/Arun-UAV/NLP/vision_halu/visual_genome/...   \n",
       "\n",
       "                            question_id  \n",
       "0  24ff2006-5782-4efc-a33c-d20a3e601e6c  \n",
       "1  42ef9f38-105d-40fb-a696-5caec821462b  "
      ]
     },
     "execution_count": 27,
     "metadata": {},
     "output_type": "execute_result"
    }
   ],
   "source": [
    "ramian_data.head(2)"
   ]
  },
  {
   "cell_type": "code",
   "execution_count": 28,
   "id": "42fa58be",
   "metadata": {},
   "outputs": [],
   "source": [
    "ramian_data = ramian_data.drop([\"candidates\", \"candidates_inx\"], axis=1)"
   ]
  },
  {
   "cell_type": "code",
   "execution_count": 29,
   "id": "bc8e9439",
   "metadata": {},
   "outputs": [
    {
     "data": {
      "text/html": [
       "<div>\n",
       "<style scoped>\n",
       "    .dataframe tbody tr th:only-of-type {\n",
       "        vertical-align: middle;\n",
       "    }\n",
       "\n",
       "    .dataframe tbody tr th {\n",
       "        vertical-align: top;\n",
       "    }\n",
       "\n",
       "    .dataframe thead th {\n",
       "        text-align: right;\n",
       "    }\n",
       "</style>\n",
       "<table border=\"1\" class=\"dataframe\">\n",
       "  <thead>\n",
       "    <tr style=\"text-align: right;\">\n",
       "      <th></th>\n",
       "      <th>image_id</th>\n",
       "      <th>question</th>\n",
       "      <th>answer</th>\n",
       "      <th>hallucination_candidates</th>\n",
       "      <th>image_path</th>\n",
       "      <th>question_id</th>\n",
       "    </tr>\n",
       "  </thead>\n",
       "  <tbody>\n",
       "    <tr>\n",
       "      <th>0</th>\n",
       "      <td>2391368.jpg</td>\n",
       "      <td>Can you describe the main features of this ima...</td>\n",
       "      <td>In this image, there are some boxes that conta...</td>\n",
       "      <td>[wicker, tray]</td>\n",
       "      <td>/Data2/Arun-UAV/NLP/vision_halu/visual_genome/...</td>\n",
       "      <td>24ff2006-5782-4efc-a33c-d20a3e601e6c</td>\n",
       "    </tr>\n",
       "    <tr>\n",
       "      <th>1</th>\n",
       "      <td>2375207.jpg</td>\n",
       "      <td>Write a detailed description of the given image.</td>\n",
       "      <td>A man is wearing a white uniform. He is wearin...</td>\n",
       "      <td>[plastic, baseball bat]</td>\n",
       "      <td>/Data2/Arun-UAV/NLP/vision_halu/visual_genome/...</td>\n",
       "      <td>42ef9f38-105d-40fb-a696-5caec821462b</td>\n",
       "    </tr>\n",
       "  </tbody>\n",
       "</table>\n",
       "</div>"
      ],
      "text/plain": [
       "      image_id                                           question  \\\n",
       "0  2391368.jpg  Can you describe the main features of this ima...   \n",
       "1  2375207.jpg   Write a detailed description of the given image.   \n",
       "\n",
       "                                              answer hallucination_candidates  \\\n",
       "0  In this image, there are some boxes that conta...           [wicker, tray]   \n",
       "1  A man is wearing a white uniform. He is wearin...  [plastic, baseball bat]   \n",
       "\n",
       "                                          image_path  \\\n",
       "0  /Data2/Arun-UAV/NLP/vision_halu/visual_genome/...   \n",
       "1  /Data2/Arun-UAV/NLP/vision_halu/visual_genome/...   \n",
       "\n",
       "                            question_id  \n",
       "0  24ff2006-5782-4efc-a33c-d20a3e601e6c  \n",
       "1  42ef9f38-105d-40fb-a696-5caec821462b  "
      ]
     },
     "execution_count": 29,
     "metadata": {},
     "output_type": "execute_result"
    }
   ],
   "source": [
    "ramian_data.head(2)"
   ]
  },
  {
   "cell_type": "code",
   "execution_count": null,
   "id": "74248e81",
   "metadata": {},
   "outputs": [],
   "source": [
    "ramian_data.to_csv(\"/Data2/Arun-UAV/NLP/vision_halu/benchmarks/holoc/test_caption_3200.csv\", index=False)"
   ]
  },
  {
   "cell_type": "code",
   "execution_count": 30,
   "id": "5f3e2c24",
   "metadata": {},
   "outputs": [
    {
     "data": {
      "text/plain": [
       "(3273, 6)"
      ]
     },
     "execution_count": 30,
     "metadata": {},
     "output_type": "execute_result"
    }
   ],
   "source": [
    "ramian_data.shape"
   ]
  },
  {
   "cell_type": "code",
   "execution_count": null,
   "id": "c95a37a7",
   "metadata": {},
   "outputs": [],
   "source": []
  }
 ],
 "metadata": {
  "kernelspec": {
   "display_name": "shdm",
   "language": "python",
   "name": "python3"
  },
  "language_info": {
   "codemirror_mode": {
    "name": "ipython",
    "version": 3
   },
   "file_extension": ".py",
   "mimetype": "text/x-python",
   "name": "python",
   "nbconvert_exporter": "python",
   "pygments_lexer": "ipython3",
   "version": "3.10.18"
  }
 },
 "nbformat": 4,
 "nbformat_minor": 5
}
