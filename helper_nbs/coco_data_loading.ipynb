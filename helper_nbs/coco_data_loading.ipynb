{
 "cells": [
  {
   "cell_type": "code",
   "execution_count": 1,
   "id": "001d5aa0",
   "metadata": {},
   "outputs": [],
   "source": [
    "import random\n",
    "import json\n",
    "from pycocotools.coco import COCO\n",
    "import pandas as pd"
   ]
  },
  {
   "cell_type": "code",
   "execution_count": 13,
   "id": "61358423",
   "metadata": {},
   "outputs": [
    {
     "name": "stdout",
     "output_type": "stream",
     "text": [
      "loading annotations into memory...\n",
      "Done (t=0.65s)\n",
      "creating index...\n",
      "index created!\n"
     ]
    }
   ],
   "source": [
    "# Path to COCO 2017 training annotations file\n",
    "# Download from: http://images.cocodataset.org/annotations/annotations_trainval2017.zip\n",
    "ann_file = '/Data2/Arun-UAV/NLP/vision_halu/benchmarks/coco2024/annotations/captions_train2014.json'\n",
    "\n",
    "# Initialize COCO API for captions\n",
    "coco = COCO(ann_file)\n",
    "\n",
    "# Get all image IDs\n",
    "img_ids = coco.getImgIds()\n",
    "sample_img_ids = random.sample(img_ids, 20000)\n",
    "\n",
    "existing_data = pd.read_json(\"/Data2/Arun-UAV/NLP/vision_halu/train_datasets/coco_sample_5000.json\")\n",
    "existing_ids = existing_data[\"image_id\"].unique().tolist()"
   ]
  },
  {
   "cell_type": "code",
   "execution_count": 17,
   "id": "9e601441",
   "metadata": {},
   "outputs": [],
   "source": [
    "df = pd.read_json(\"/Data2/Arun-UAV/NLP/vision_halu/train_datasets/coco_batch_1_10000.json\")"
   ]
  },
  {
   "cell_type": "code",
   "execution_count": 18,
   "id": "7c74789e",
   "metadata": {},
   "outputs": [
    {
     "data": {
      "text/html": [
       "<div>\n",
       "<style scoped>\n",
       "    .dataframe tbody tr th:only-of-type {\n",
       "        vertical-align: middle;\n",
       "    }\n",
       "\n",
       "    .dataframe tbody tr th {\n",
       "        vertical-align: top;\n",
       "    }\n",
       "\n",
       "    .dataframe thead th {\n",
       "        text-align: right;\n",
       "    }\n",
       "</style>\n",
       "<table border=\"1\" class=\"dataframe\">\n",
       "  <thead>\n",
       "    <tr style=\"text-align: right;\">\n",
       "      <th></th>\n",
       "      <th>image_id</th>\n",
       "      <th>file_name</th>\n",
       "      <th>coco_url</th>\n",
       "      <th>captions</th>\n",
       "    </tr>\n",
       "  </thead>\n",
       "  <tbody>\n",
       "    <tr>\n",
       "      <th>0</th>\n",
       "      <td>424083</td>\n",
       "      <td>COCO_train2014_000000424083.jpg</td>\n",
       "      <td>http://images.cocodataset.org/train2014/COCO_t...</td>\n",
       "      <td>[a pizza with some meat and black olives on it...</td>\n",
       "    </tr>\n",
       "    <tr>\n",
       "      <th>1</th>\n",
       "      <td>537825</td>\n",
       "      <td>COCO_train2014_000000537825.jpg</td>\n",
       "      <td>http://images.cocodataset.org/train2014/COCO_t...</td>\n",
       "      <td>[A table filled with plates of donuts next to ...</td>\n",
       "    </tr>\n",
       "    <tr>\n",
       "      <th>2</th>\n",
       "      <td>197307</td>\n",
       "      <td>COCO_train2014_000000197307.jpg</td>\n",
       "      <td>http://images.cocodataset.org/train2014/COCO_t...</td>\n",
       "      <td>[A woman in a yellow dress holding a tennis ra...</td>\n",
       "    </tr>\n",
       "    <tr>\n",
       "      <th>3</th>\n",
       "      <td>167148</td>\n",
       "      <td>COCO_train2014_000000167148.jpg</td>\n",
       "      <td>http://images.cocodataset.org/train2014/COCO_t...</td>\n",
       "      <td>[A sandwich sitting in a basket filled with pa...</td>\n",
       "    </tr>\n",
       "    <tr>\n",
       "      <th>4</th>\n",
       "      <td>530936</td>\n",
       "      <td>COCO_train2014_000000530936.jpg</td>\n",
       "      <td>http://images.cocodataset.org/train2014/COCO_t...</td>\n",
       "      <td>[A person jumping up in the air with a snowboa...</td>\n",
       "    </tr>\n",
       "    <tr>\n",
       "      <th>...</th>\n",
       "      <td>...</td>\n",
       "      <td>...</td>\n",
       "      <td>...</td>\n",
       "      <td>...</td>\n",
       "    </tr>\n",
       "    <tr>\n",
       "      <th>9995</th>\n",
       "      <td>253615</td>\n",
       "      <td>COCO_train2014_000000253615.jpg</td>\n",
       "      <td>http://images.cocodataset.org/train2014/COCO_t...</td>\n",
       "      <td>[A large herd of sheep in a huge pasture., A v...</td>\n",
       "    </tr>\n",
       "    <tr>\n",
       "      <th>9996</th>\n",
       "      <td>550021</td>\n",
       "      <td>COCO_train2014_000000550021.jpg</td>\n",
       "      <td>http://images.cocodataset.org/train2014/COCO_t...</td>\n",
       "      <td>[A bathroom with a white toilet next to a whit...</td>\n",
       "    </tr>\n",
       "    <tr>\n",
       "      <th>9997</th>\n",
       "      <td>118027</td>\n",
       "      <td>COCO_train2014_000000118027.jpg</td>\n",
       "      <td>http://images.cocodataset.org/train2014/COCO_t...</td>\n",
       "      <td>[A kitchen with a white refrigerator and a mic...</td>\n",
       "    </tr>\n",
       "    <tr>\n",
       "      <th>9998</th>\n",
       "      <td>138529</td>\n",
       "      <td>COCO_train2014_000000138529.jpg</td>\n",
       "      <td>http://images.cocodataset.org/train2014/COCO_t...</td>\n",
       "      <td>[A cat sits inside of a bathroom sink., A blac...</td>\n",
       "    </tr>\n",
       "    <tr>\n",
       "      <th>9999</th>\n",
       "      <td>171380</td>\n",
       "      <td>COCO_train2014_000000171380.jpg</td>\n",
       "      <td>http://images.cocodataset.org/train2014/COCO_t...</td>\n",
       "      <td>[Street sign with a stop sign in two languages...</td>\n",
       "    </tr>\n",
       "  </tbody>\n",
       "</table>\n",
       "<p>10000 rows × 4 columns</p>\n",
       "</div>"
      ],
      "text/plain": [
       "      image_id                        file_name  \\\n",
       "0       424083  COCO_train2014_000000424083.jpg   \n",
       "1       537825  COCO_train2014_000000537825.jpg   \n",
       "2       197307  COCO_train2014_000000197307.jpg   \n",
       "3       167148  COCO_train2014_000000167148.jpg   \n",
       "4       530936  COCO_train2014_000000530936.jpg   \n",
       "...        ...                              ...   \n",
       "9995    253615  COCO_train2014_000000253615.jpg   \n",
       "9996    550021  COCO_train2014_000000550021.jpg   \n",
       "9997    118027  COCO_train2014_000000118027.jpg   \n",
       "9998    138529  COCO_train2014_000000138529.jpg   \n",
       "9999    171380  COCO_train2014_000000171380.jpg   \n",
       "\n",
       "                                               coco_url  \\\n",
       "0     http://images.cocodataset.org/train2014/COCO_t...   \n",
       "1     http://images.cocodataset.org/train2014/COCO_t...   \n",
       "2     http://images.cocodataset.org/train2014/COCO_t...   \n",
       "3     http://images.cocodataset.org/train2014/COCO_t...   \n",
       "4     http://images.cocodataset.org/train2014/COCO_t...   \n",
       "...                                                 ...   \n",
       "9995  http://images.cocodataset.org/train2014/COCO_t...   \n",
       "9996  http://images.cocodataset.org/train2014/COCO_t...   \n",
       "9997  http://images.cocodataset.org/train2014/COCO_t...   \n",
       "9998  http://images.cocodataset.org/train2014/COCO_t...   \n",
       "9999  http://images.cocodataset.org/train2014/COCO_t...   \n",
       "\n",
       "                                               captions  \n",
       "0     [a pizza with some meat and black olives on it...  \n",
       "1     [A table filled with plates of donuts next to ...  \n",
       "2     [A woman in a yellow dress holding a tennis ra...  \n",
       "3     [A sandwich sitting in a basket filled with pa...  \n",
       "4     [A person jumping up in the air with a snowboa...  \n",
       "...                                                 ...  \n",
       "9995  [A large herd of sheep in a huge pasture., A v...  \n",
       "9996  [A bathroom with a white toilet next to a whit...  \n",
       "9997  [A kitchen with a white refrigerator and a mic...  \n",
       "9998  [A cat sits inside of a bathroom sink., A blac...  \n",
       "9999  [Street sign with a stop sign in two languages...  \n",
       "\n",
       "[10000 rows x 4 columns]"
      ]
     },
     "execution_count": 18,
     "metadata": {},
     "output_type": "execute_result"
    }
   ],
   "source": [
    "df"
   ]
  },
  {
   "cell_type": "code",
   "execution_count": 14,
   "id": "ae8a7826",
   "metadata": {},
   "outputs": [],
   "source": [
    "sample_img_ids = [id for id in sample_img_ids if id not in existing_ids]"
   ]
  },
  {
   "cell_type": "code",
   "execution_count": 15,
   "id": "2dc27311",
   "metadata": {},
   "outputs": [
    {
     "data": {
      "text/plain": [
       "18756"
      ]
     },
     "execution_count": 15,
     "metadata": {},
     "output_type": "execute_result"
    }
   ],
   "source": [
    "len(sample_img_ids)"
   ]
  },
  {
   "cell_type": "code",
   "execution_count": 16,
   "id": "372b15a2",
   "metadata": {},
   "outputs": [
    {
     "name": "stdout",
     "output_type": "stream",
     "text": [
      "✅ Saved 5000 sampled images with captions to coco_sample_5000.json\n"
     ]
    }
   ],
   "source": [
    "\n",
    "\n",
    "# Randomly sample 5000 image IDs\n",
    "sample_img_ids = random.sample(sample_img_ids, 10000)\n",
    "\n",
    "# Load image metadata for the sampled IDs\n",
    "images = coco.loadImgs(sample_img_ids)\n",
    "\n",
    "# Collect image paths and captions\n",
    "samples = []\n",
    "\n",
    "for img in images:\n",
    "    img_id = img['id']\n",
    "    # Each image may have multiple captions; take them all\n",
    "    ann_ids = coco.getAnnIds(imgIds=img_id)\n",
    "    anns = coco.loadAnns(ann_ids)\n",
    "    captions = [a['caption'] for a in anns]\n",
    "    samples.append({\n",
    "        \"image_id\": img_id,\n",
    "        \"file_name\": img['file_name'],\n",
    "        \"coco_url\": img.get('coco_url', None),\n",
    "        \"captions\": captions\n",
    "    })\n",
    "\n",
    "# Save to JSON file\n",
    "with open('/Data2/Arun-UAV/NLP/vision_halu/train_datasets/coco_batch_1_10000.json', 'w', encoding='utf-8') as f:\n",
    "    json.dump(samples, f, indent=2)\n",
    "\n",
    "print(f\"✅ Saved 5000 sampled images with captions to coco_sample_5000.json\")"
   ]
  },
  {
   "cell_type": "code",
   "execution_count": 32,
   "id": "89a76bfd",
   "metadata": {},
   "outputs": [
    {
     "name": "stderr",
     "output_type": "stream",
     "text": [
      "Downloading images:   0%|          | 18/5000 [00:42<3:16:06,  2.36s/it]\n"
     ]
    },
    {
     "ename": "KeyboardInterrupt",
     "evalue": "",
     "output_type": "error",
     "traceback": [
      "\u001b[0;31m---------------------------------------------------------------------------\u001b[0m",
      "\u001b[0;31mKeyboardInterrupt\u001b[0m                         Traceback (most recent call last)",
      "Cell \u001b[0;32mIn[32], line 25\u001b[0m\n\u001b[1;32m     23\u001b[0m \u001b[38;5;28;01mif\u001b[39;00m response\u001b[38;5;241m.\u001b[39mstatus_code \u001b[38;5;241m==\u001b[39m \u001b[38;5;241m200\u001b[39m:\n\u001b[1;32m     24\u001b[0m     \u001b[38;5;28;01mwith\u001b[39;00m \u001b[38;5;28mopen\u001b[39m(img_path, \u001b[38;5;124m'\u001b[39m\u001b[38;5;124mwb\u001b[39m\u001b[38;5;124m'\u001b[39m) \u001b[38;5;28;01mas\u001b[39;00m f_out:\n\u001b[0;32m---> 25\u001b[0m         \u001b[38;5;28;01mfor\u001b[39;00m chunk \u001b[38;5;129;01min\u001b[39;00m response\u001b[38;5;241m.\u001b[39miter_content(\u001b[38;5;241m1024\u001b[39m):\n\u001b[1;32m     26\u001b[0m             f_out\u001b[38;5;241m.\u001b[39mwrite(chunk)\n\u001b[1;32m     27\u001b[0m \u001b[38;5;28;01melse\u001b[39;00m:\n",
      "File \u001b[0;32m~/.conda/envs/shdm/lib/python3.10/site-packages/requests/models.py:820\u001b[0m, in \u001b[0;36mResponse.iter_content.<locals>.generate\u001b[0;34m()\u001b[0m\n\u001b[1;32m    818\u001b[0m \u001b[38;5;28;01mif\u001b[39;00m \u001b[38;5;28mhasattr\u001b[39m(\u001b[38;5;28mself\u001b[39m\u001b[38;5;241m.\u001b[39mraw, \u001b[38;5;124m\"\u001b[39m\u001b[38;5;124mstream\u001b[39m\u001b[38;5;124m\"\u001b[39m):\n\u001b[1;32m    819\u001b[0m     \u001b[38;5;28;01mtry\u001b[39;00m:\n\u001b[0;32m--> 820\u001b[0m         \u001b[38;5;28;01myield from\u001b[39;00m \u001b[38;5;28mself\u001b[39m\u001b[38;5;241m.\u001b[39mraw\u001b[38;5;241m.\u001b[39mstream(chunk_size, decode_content\u001b[38;5;241m=\u001b[39m\u001b[38;5;28;01mTrue\u001b[39;00m)\n\u001b[1;32m    821\u001b[0m     \u001b[38;5;28;01mexcept\u001b[39;00m ProtocolError \u001b[38;5;28;01mas\u001b[39;00m e:\n\u001b[1;32m    822\u001b[0m         \u001b[38;5;28;01mraise\u001b[39;00m ChunkedEncodingError(e)\n",
      "File \u001b[0;32m~/.conda/envs/shdm/lib/python3.10/site-packages/urllib3/response.py:1091\u001b[0m, in \u001b[0;36mHTTPResponse.stream\u001b[0;34m(self, amt, decode_content)\u001b[0m\n\u001b[1;32m   1089\u001b[0m \u001b[38;5;28;01melse\u001b[39;00m:\n\u001b[1;32m   1090\u001b[0m     \u001b[38;5;28;01mwhile\u001b[39;00m \u001b[38;5;129;01mnot\u001b[39;00m is_fp_closed(\u001b[38;5;28mself\u001b[39m\u001b[38;5;241m.\u001b[39m_fp) \u001b[38;5;129;01mor\u001b[39;00m \u001b[38;5;28mlen\u001b[39m(\u001b[38;5;28mself\u001b[39m\u001b[38;5;241m.\u001b[39m_decoded_buffer) \u001b[38;5;241m>\u001b[39m \u001b[38;5;241m0\u001b[39m:\n\u001b[0;32m-> 1091\u001b[0m         data \u001b[38;5;241m=\u001b[39m \u001b[38;5;28;43mself\u001b[39;49m\u001b[38;5;241;43m.\u001b[39;49m\u001b[43mread\u001b[49m\u001b[43m(\u001b[49m\u001b[43mamt\u001b[49m\u001b[38;5;241;43m=\u001b[39;49m\u001b[43mamt\u001b[49m\u001b[43m,\u001b[49m\u001b[43m \u001b[49m\u001b[43mdecode_content\u001b[49m\u001b[38;5;241;43m=\u001b[39;49m\u001b[43mdecode_content\u001b[49m\u001b[43m)\u001b[49m\n\u001b[1;32m   1093\u001b[0m         \u001b[38;5;28;01mif\u001b[39;00m data:\n\u001b[1;32m   1094\u001b[0m             \u001b[38;5;28;01myield\u001b[39;00m data\n",
      "File \u001b[0;32m~/.conda/envs/shdm/lib/python3.10/site-packages/urllib3/response.py:980\u001b[0m, in \u001b[0;36mHTTPResponse.read\u001b[0;34m(self, amt, decode_content, cache_content)\u001b[0m\n\u001b[1;32m    977\u001b[0m     \u001b[38;5;28;01mif\u001b[39;00m \u001b[38;5;28mlen\u001b[39m(\u001b[38;5;28mself\u001b[39m\u001b[38;5;241m.\u001b[39m_decoded_buffer) \u001b[38;5;241m>\u001b[39m\u001b[38;5;241m=\u001b[39m amt:\n\u001b[1;32m    978\u001b[0m         \u001b[38;5;28;01mreturn\u001b[39;00m \u001b[38;5;28mself\u001b[39m\u001b[38;5;241m.\u001b[39m_decoded_buffer\u001b[38;5;241m.\u001b[39mget(amt)\n\u001b[0;32m--> 980\u001b[0m data \u001b[38;5;241m=\u001b[39m \u001b[38;5;28;43mself\u001b[39;49m\u001b[38;5;241;43m.\u001b[39;49m\u001b[43m_raw_read\u001b[49m\u001b[43m(\u001b[49m\u001b[43mamt\u001b[49m\u001b[43m)\u001b[49m\n\u001b[1;32m    982\u001b[0m flush_decoder \u001b[38;5;241m=\u001b[39m amt \u001b[38;5;129;01mis\u001b[39;00m \u001b[38;5;28;01mNone\u001b[39;00m \u001b[38;5;129;01mor\u001b[39;00m (amt \u001b[38;5;241m!=\u001b[39m \u001b[38;5;241m0\u001b[39m \u001b[38;5;129;01mand\u001b[39;00m \u001b[38;5;129;01mnot\u001b[39;00m data)\n\u001b[1;32m    984\u001b[0m \u001b[38;5;28;01mif\u001b[39;00m \u001b[38;5;129;01mnot\u001b[39;00m data \u001b[38;5;129;01mand\u001b[39;00m \u001b[38;5;28mlen\u001b[39m(\u001b[38;5;28mself\u001b[39m\u001b[38;5;241m.\u001b[39m_decoded_buffer) \u001b[38;5;241m==\u001b[39m \u001b[38;5;241m0\u001b[39m:\n",
      "File \u001b[0;32m~/.conda/envs/shdm/lib/python3.10/site-packages/urllib3/response.py:904\u001b[0m, in \u001b[0;36mHTTPResponse._raw_read\u001b[0;34m(self, amt, read1)\u001b[0m\n\u001b[1;32m    901\u001b[0m fp_closed \u001b[38;5;241m=\u001b[39m \u001b[38;5;28mgetattr\u001b[39m(\u001b[38;5;28mself\u001b[39m\u001b[38;5;241m.\u001b[39m_fp, \u001b[38;5;124m\"\u001b[39m\u001b[38;5;124mclosed\u001b[39m\u001b[38;5;124m\"\u001b[39m, \u001b[38;5;28;01mFalse\u001b[39;00m)\n\u001b[1;32m    903\u001b[0m \u001b[38;5;28;01mwith\u001b[39;00m \u001b[38;5;28mself\u001b[39m\u001b[38;5;241m.\u001b[39m_error_catcher():\n\u001b[0;32m--> 904\u001b[0m     data \u001b[38;5;241m=\u001b[39m \u001b[38;5;28;43mself\u001b[39;49m\u001b[38;5;241;43m.\u001b[39;49m\u001b[43m_fp_read\u001b[49m\u001b[43m(\u001b[49m\u001b[43mamt\u001b[49m\u001b[43m,\u001b[49m\u001b[43m \u001b[49m\u001b[43mread1\u001b[49m\u001b[38;5;241;43m=\u001b[39;49m\u001b[43mread1\u001b[49m\u001b[43m)\u001b[49m \u001b[38;5;28;01mif\u001b[39;00m \u001b[38;5;129;01mnot\u001b[39;00m fp_closed \u001b[38;5;28;01melse\u001b[39;00m \u001b[38;5;124mb\u001b[39m\u001b[38;5;124m\"\u001b[39m\u001b[38;5;124m\"\u001b[39m\n\u001b[1;32m    905\u001b[0m     \u001b[38;5;28;01mif\u001b[39;00m amt \u001b[38;5;129;01mis\u001b[39;00m \u001b[38;5;129;01mnot\u001b[39;00m \u001b[38;5;28;01mNone\u001b[39;00m \u001b[38;5;129;01mand\u001b[39;00m amt \u001b[38;5;241m!=\u001b[39m \u001b[38;5;241m0\u001b[39m \u001b[38;5;129;01mand\u001b[39;00m \u001b[38;5;129;01mnot\u001b[39;00m data:\n\u001b[1;32m    906\u001b[0m         \u001b[38;5;66;03m# Platform-specific: Buggy versions of Python.\u001b[39;00m\n\u001b[1;32m    907\u001b[0m         \u001b[38;5;66;03m# Close the connection when no data is returned\u001b[39;00m\n\u001b[0;32m   (...)\u001b[0m\n\u001b[1;32m    912\u001b[0m         \u001b[38;5;66;03m# not properly close the connection in all cases. There is\u001b[39;00m\n\u001b[1;32m    913\u001b[0m         \u001b[38;5;66;03m# no harm in redundantly calling close.\u001b[39;00m\n\u001b[1;32m    914\u001b[0m         \u001b[38;5;28mself\u001b[39m\u001b[38;5;241m.\u001b[39m_fp\u001b[38;5;241m.\u001b[39mclose()\n",
      "File \u001b[0;32m~/.conda/envs/shdm/lib/python3.10/site-packages/urllib3/response.py:887\u001b[0m, in \u001b[0;36mHTTPResponse._fp_read\u001b[0;34m(self, amt, read1)\u001b[0m\n\u001b[1;32m    884\u001b[0m     \u001b[38;5;28;01mreturn\u001b[39;00m \u001b[38;5;28mself\u001b[39m\u001b[38;5;241m.\u001b[39m_fp\u001b[38;5;241m.\u001b[39mread1(amt) \u001b[38;5;28;01mif\u001b[39;00m amt \u001b[38;5;129;01mis\u001b[39;00m \u001b[38;5;129;01mnot\u001b[39;00m \u001b[38;5;28;01mNone\u001b[39;00m \u001b[38;5;28;01melse\u001b[39;00m \u001b[38;5;28mself\u001b[39m\u001b[38;5;241m.\u001b[39m_fp\u001b[38;5;241m.\u001b[39mread1()\n\u001b[1;32m    885\u001b[0m \u001b[38;5;28;01melse\u001b[39;00m:\n\u001b[1;32m    886\u001b[0m     \u001b[38;5;66;03m# StringIO doesn't like amt=None\u001b[39;00m\n\u001b[0;32m--> 887\u001b[0m     \u001b[38;5;28;01mreturn\u001b[39;00m \u001b[38;5;28;43mself\u001b[39;49m\u001b[38;5;241;43m.\u001b[39;49m\u001b[43m_fp\u001b[49m\u001b[38;5;241;43m.\u001b[39;49m\u001b[43mread\u001b[49m\u001b[43m(\u001b[49m\u001b[43mamt\u001b[49m\u001b[43m)\u001b[49m \u001b[38;5;28;01mif\u001b[39;00m amt \u001b[38;5;129;01mis\u001b[39;00m \u001b[38;5;129;01mnot\u001b[39;00m \u001b[38;5;28;01mNone\u001b[39;00m \u001b[38;5;28;01melse\u001b[39;00m \u001b[38;5;28mself\u001b[39m\u001b[38;5;241m.\u001b[39m_fp\u001b[38;5;241m.\u001b[39mread()\n",
      "File \u001b[0;32m~/.conda/envs/shdm/lib/python3.10/http/client.py:466\u001b[0m, in \u001b[0;36mHTTPResponse.read\u001b[0;34m(self, amt)\u001b[0m\n\u001b[1;32m    463\u001b[0m \u001b[38;5;28;01mif\u001b[39;00m \u001b[38;5;28mself\u001b[39m\u001b[38;5;241m.\u001b[39mlength \u001b[38;5;129;01mis\u001b[39;00m \u001b[38;5;129;01mnot\u001b[39;00m \u001b[38;5;28;01mNone\u001b[39;00m \u001b[38;5;129;01mand\u001b[39;00m amt \u001b[38;5;241m>\u001b[39m \u001b[38;5;28mself\u001b[39m\u001b[38;5;241m.\u001b[39mlength:\n\u001b[1;32m    464\u001b[0m     \u001b[38;5;66;03m# clip the read to the \"end of response\"\u001b[39;00m\n\u001b[1;32m    465\u001b[0m     amt \u001b[38;5;241m=\u001b[39m \u001b[38;5;28mself\u001b[39m\u001b[38;5;241m.\u001b[39mlength\n\u001b[0;32m--> 466\u001b[0m s \u001b[38;5;241m=\u001b[39m \u001b[38;5;28;43mself\u001b[39;49m\u001b[38;5;241;43m.\u001b[39;49m\u001b[43mfp\u001b[49m\u001b[38;5;241;43m.\u001b[39;49m\u001b[43mread\u001b[49m\u001b[43m(\u001b[49m\u001b[43mamt\u001b[49m\u001b[43m)\u001b[49m\n\u001b[1;32m    467\u001b[0m \u001b[38;5;28;01mif\u001b[39;00m \u001b[38;5;129;01mnot\u001b[39;00m s \u001b[38;5;129;01mand\u001b[39;00m amt:\n\u001b[1;32m    468\u001b[0m     \u001b[38;5;66;03m# Ideally, we would raise IncompleteRead if the content-length\u001b[39;00m\n\u001b[1;32m    469\u001b[0m     \u001b[38;5;66;03m# wasn't satisfied, but it might break compatibility.\u001b[39;00m\n\u001b[1;32m    470\u001b[0m     \u001b[38;5;28mself\u001b[39m\u001b[38;5;241m.\u001b[39m_close_conn()\n",
      "File \u001b[0;32m~/.conda/envs/shdm/lib/python3.10/socket.py:717\u001b[0m, in \u001b[0;36mSocketIO.readinto\u001b[0;34m(self, b)\u001b[0m\n\u001b[1;32m    715\u001b[0m \u001b[38;5;28;01mwhile\u001b[39;00m \u001b[38;5;28;01mTrue\u001b[39;00m:\n\u001b[1;32m    716\u001b[0m     \u001b[38;5;28;01mtry\u001b[39;00m:\n\u001b[0;32m--> 717\u001b[0m         \u001b[38;5;28;01mreturn\u001b[39;00m \u001b[38;5;28;43mself\u001b[39;49m\u001b[38;5;241;43m.\u001b[39;49m\u001b[43m_sock\u001b[49m\u001b[38;5;241;43m.\u001b[39;49m\u001b[43mrecv_into\u001b[49m\u001b[43m(\u001b[49m\u001b[43mb\u001b[49m\u001b[43m)\u001b[49m\n\u001b[1;32m    718\u001b[0m     \u001b[38;5;28;01mexcept\u001b[39;00m timeout:\n\u001b[1;32m    719\u001b[0m         \u001b[38;5;28mself\u001b[39m\u001b[38;5;241m.\u001b[39m_timeout_occurred \u001b[38;5;241m=\u001b[39m \u001b[38;5;28;01mTrue\u001b[39;00m\n",
      "\u001b[0;31mKeyboardInterrupt\u001b[0m: "
     ]
    }
   ],
   "source": [
    "import os\n",
    "import json\n",
    "import requests\n",
    "from tqdm import tqdm\n",
    "\n",
    "# Output folder\n",
    "output_dir = '/Data2/Arun-UAV/NLP/vision_halu/train_datasets/poc_5000_coco_images'\n",
    "os.makedirs(output_dir, exist_ok=True)\n",
    "\n",
    "# Load sampled JSON\n",
    "with open('/Data2/Arun-UAV/NLP/vision_halu/train_datasets/coco_sample_5000.json', 'r') as f:\n",
    "    samples = json.load(f)\n",
    "\n",
    "# Download each image\n",
    "for sample in tqdm(samples, desc=\"Downloading images\"):\n",
    "    img_url = sample.get('coco_url')\n",
    "    if not img_url:\n",
    "        continue\n",
    "    img_path = os.path.join(output_dir, sample['file_name'])\n",
    "    if not os.path.exists(img_path):\n",
    "        try:\n",
    "            response = requests.get(img_url, stream=True, timeout=10)\n",
    "            if response.status_code == 200:\n",
    "                with open(img_path, 'wb') as f_out:\n",
    "                    for chunk in response.iter_content(1024):\n",
    "                        f_out.write(chunk)\n",
    "            else:\n",
    "                print(f\"❌ Failed to download {img_url}\")\n",
    "        except Exception as e:\n",
    "            print(f\"⚠️ Error: {e} for {img_url}\")\n",
    "\n",
    "print(\"✅ Done! All sampled images downloaded.\")\n"
   ]
  },
  {
   "cell_type": "code",
   "execution_count": 28,
   "id": "700835aa",
   "metadata": {},
   "outputs": [],
   "source": [
    "data = pd.read_json('/Data2/Arun-UAV/NLP/vision_halu/train_datasets/coco_sample_5000.json')"
   ]
  },
  {
   "cell_type": "code",
   "execution_count": 31,
   "id": "3e1dc71f",
   "metadata": {},
   "outputs": [],
   "source": [
    "for row in data.iterrows():\n",
    "    img_url = row[1]['coco_url']\n",
    "    break"
   ]
  },
  {
   "cell_type": "code",
   "execution_count": 30,
   "id": "ec268797",
   "metadata": {},
   "outputs": [
    {
     "data": {
      "text/plain": [
       "(0,\n",
       " image_id                                                 73262\n",
       " file_name                      COCO_train2014_000000073262.jpg\n",
       " coco_url     http://images.cocodataset.org/train2014/COCO_t...\n",
       " captions     [A skateboarder performing a trick next to a b...\n",
       " Name: 0, dtype: object)"
      ]
     },
     "execution_count": 30,
     "metadata": {},
     "output_type": "execute_result"
    }
   ],
   "source": [
    "row"
   ]
  },
  {
   "cell_type": "code",
   "execution_count": 2,
   "id": "b953986f",
   "metadata": {},
   "outputs": [],
   "source": [
    "import os"
   ]
  },
  {
   "cell_type": "code",
   "execution_count": 3,
   "id": "45f36639",
   "metadata": {},
   "outputs": [
    {
     "data": {
      "text/plain": [
       "14594"
      ]
     },
     "execution_count": 3,
     "metadata": {},
     "output_type": "execute_result"
    }
   ],
   "source": [
    "len(os.listdir(\"/Data2/Arun-UAV/NLP/vision_halu/train_datasets/poc_5000_coco_images\"))"
   ]
  },
  {
   "cell_type": "code",
   "execution_count": 5,
   "id": "6ea90f4f",
   "metadata": {},
   "outputs": [],
   "source": [
    "import pandas as pd\n",
    "df = pd.read_csv(\"/Data2/Arun-UAV/NLP/vision_halu/train_datasets/coco_5000_gcp_upload_urs.csv\")"
   ]
  },
  {
   "cell_type": "code",
   "execution_count": null,
   "id": "5e9c9ac1",
   "metadata": {},
   "outputs": [],
   "source": []
  },
  {
   "cell_type": "code",
   "execution_count": null,
   "id": "3dd0ae5d",
   "metadata": {},
   "outputs": [],
   "source": []
  }
 ],
 "metadata": {
  "kernelspec": {
   "display_name": "shdm",
   "language": "python",
   "name": "python3"
  },
  "language_info": {
   "codemirror_mode": {
    "name": "ipython",
    "version": 3
   },
   "file_extension": ".py",
   "mimetype": "text/x-python",
   "name": "python",
   "nbconvert_exporter": "python",
   "pygments_lexer": "ipython3",
   "version": "3.10.18"
  }
 },
 "nbformat": 4,
 "nbformat_minor": 5
}
