{
 "cells": [
  {
   "cell_type": "code",
   "execution_count": 1,
   "id": "b1ee143c",
   "metadata": {},
   "outputs": [],
   "source": [
    "import numpy as np\n",
    "import pandas as pd\n",
    "import json\n",
    "import os"
   ]
  },
  {
   "cell_type": "code",
   "execution_count": 2,
   "id": "1b39056e",
   "metadata": {},
   "outputs": [],
   "source": [
    "des_data = pd.read_csv(\"/Data2/Arun-UAV/NLP/vision_halu/train_datasets/coco_batch_1_15000_train_with_gemini_des.csv\")"
   ]
  },
  {
   "cell_type": "code",
   "execution_count": 3,
   "id": "25121ac1",
   "metadata": {},
   "outputs": [
    {
     "data": {
      "text/html": [
       "<div>\n",
       "<style scoped>\n",
       "    .dataframe tbody tr th:only-of-type {\n",
       "        vertical-align: middle;\n",
       "    }\n",
       "\n",
       "    .dataframe tbody tr th {\n",
       "        vertical-align: top;\n",
       "    }\n",
       "\n",
       "    .dataframe thead th {\n",
       "        text-align: right;\n",
       "    }\n",
       "</style>\n",
       "<table border=\"1\" class=\"dataframe\">\n",
       "  <thead>\n",
       "    <tr style=\"text-align: right;\">\n",
       "      <th></th>\n",
       "      <th>image</th>\n",
       "      <th>description</th>\n",
       "    </tr>\n",
       "  </thead>\n",
       "  <tbody>\n",
       "    <tr>\n",
       "      <th>0</th>\n",
       "      <td>COCO_train2014_000000078572.jpg</td>\n",
       "      <td>This outdoor scene captures a bustling street ...</td>\n",
       "    </tr>\n",
       "    <tr>\n",
       "      <th>1</th>\n",
       "      <td>COCO_train2014_000000401963.jpg</td>\n",
       "      <td>The image captures an outdoor scene under brig...</td>\n",
       "    </tr>\n",
       "    <tr>\n",
       "      <th>2</th>\n",
       "      <td>COCO_train2014_000000494297.jpg</td>\n",
       "      <td>This indoor scene, captured in what appears to...</td>\n",
       "    </tr>\n",
       "    <tr>\n",
       "      <th>3</th>\n",
       "      <td>COCO_train2014_000000110381.jpg</td>\n",
       "      <td>This image captures an intimate, rustic indoor...</td>\n",
       "    </tr>\n",
       "    <tr>\n",
       "      <th>4</th>\n",
       "      <td>COCO_train2014_000000550369.jpg</td>\n",
       "      <td>The scene unfolds in what appears to be an ind...</td>\n",
       "    </tr>\n",
       "  </tbody>\n",
       "</table>\n",
       "</div>"
      ],
      "text/plain": [
       "                             image  \\\n",
       "0  COCO_train2014_000000078572.jpg   \n",
       "1  COCO_train2014_000000401963.jpg   \n",
       "2  COCO_train2014_000000494297.jpg   \n",
       "3  COCO_train2014_000000110381.jpg   \n",
       "4  COCO_train2014_000000550369.jpg   \n",
       "\n",
       "                                         description  \n",
       "0  This outdoor scene captures a bustling street ...  \n",
       "1  The image captures an outdoor scene under brig...  \n",
       "2  This indoor scene, captured in what appears to...  \n",
       "3  This image captures an intimate, rustic indoor...  \n",
       "4  The scene unfolds in what appears to be an ind...  "
      ]
     },
     "execution_count": 3,
     "metadata": {},
     "output_type": "execute_result"
    }
   ],
   "source": [
    "des_data.head(5)"
   ]
  },
  {
   "cell_type": "code",
   "execution_count": 4,
   "id": "281bdad7",
   "metadata": {},
   "outputs": [],
   "source": [
    "all_data = []\n",
    "\n",
    "for row in des_data.iterrows():\n",
    "    img_id = row[1]['image']\n",
    "    img_path = \"/Data2/Arun-UAV/NLP/vision_halu/train_datasets/poc_5000_coco_images/\" + img_id\n",
    "    \n",
    "    data_point = {  \n",
    "    \"image\": img_id,  \n",
    "    \"conversations\": [  \n",
    "      {  \n",
    "        \"from\": \"human\",  \n",
    "        \"value\": \"<image>\\nDescribe this image in detail way.\"  \n",
    "      },  \n",
    "      {  \n",
    "        \"from\": \"gpt\",  \n",
    "        \"value\": row[1][\"description\"]\n",
    "      }  \n",
    "    ]  \n",
    "  }\n",
    "    all_data.append(data_point)"
   ]
  },
  {
   "cell_type": "code",
   "execution_count": 5,
   "id": "98f54315",
   "metadata": {},
   "outputs": [
    {
     "data": {
      "text/plain": [
       "14579"
      ]
     },
     "execution_count": 5,
     "metadata": {},
     "output_type": "execute_result"
    }
   ],
   "source": [
    "len(all_data)"
   ]
  },
  {
   "cell_type": "code",
   "execution_count": 6,
   "id": "1efe466c",
   "metadata": {},
   "outputs": [],
   "source": [
    "import json\n",
    "\n",
    "file_path = \"/Data2/Arun-UAV/NLP/vision_halu/train_datasets/formatted_coco_batch_1_15000_train_with_gemini_des.json\"\n",
    "with open(file_path, \"w\", encoding=\"utf-8\") as f:\n",
    "    json.dump(all_data, f, indent=4, ensure_ascii=False)"
   ]
  },
  {
   "cell_type": "code",
   "execution_count": null,
   "id": "e952e6b8",
   "metadata": {},
   "outputs": [],
   "source": []
  }
 ],
 "metadata": {
  "kernelspec": {
   "display_name": "shdm",
   "language": "python",
   "name": "python3"
  },
  "language_info": {
   "codemirror_mode": {
    "name": "ipython",
    "version": 3
   },
   "file_extension": ".py",
   "mimetype": "text/x-python",
   "name": "python",
   "nbconvert_exporter": "python",
   "pygments_lexer": "ipython3",
   "version": "3.10.18"
  }
 },
 "nbformat": 4,
 "nbformat_minor": 5
}
